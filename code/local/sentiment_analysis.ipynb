{
 "cells": [
  {
   "cell_type": "markdown",
   "metadata": {},
   "source": [
    "# Applied Data Analysis\n",
    "\n",
    "## Fall Semester 2016\n",
    "\n",
    "Team members:\n",
    "* Stylianos Agapiou (stylianos.agapiou@epfl.ch)\n",
    "* Athanasios Giannakopoulos (athanasios.giannakopoulos@epfl.ch)\n",
    "* Dimitrios Sarigiannis (dimitrios.sarigiannis@epfl.ch)"
   ]
  },
  {
   "cell_type": "markdown",
   "metadata": {},
   "source": [
    "## Project Description\n",
    "\n",
    "We are given a dataset containing tweets in Switzerland starting from 2010. \n",
    "\n",
    "The first goal of the project is to analyse the data and reconstruct mobility flows of the users. More concretely, we try to get insights into high-frequency migration patterns in the swiss territory. The implementation is given in [mobility_patterns](mobility_patterns.ipynb). We also perform data analysis on aggregated data from all years that have been processed in the [mobility_patterns_aggregated](mobility_patterns_aggregated.ipynb) notebook.\n",
    "\n",
    "The second task of the project is to detect events. Here, we focus on dates and locations of such events. The implementation in given in [event_detection](event_detection.ipynb).\n",
    "\n",
    "The third and final part of the project deals with sentiment analysis. Here, we focus on the tweets linked to events (as detected in the [event_detection](event_detection.ipynb) notebook) and perform a sentiment analysis for each event. The implementation of the sentiment analysis is given in the [sentiment_analysis](sentiment_analysis.ipynb) notebook.\n",
    "\n",
    "## Sentiment Analysis\n",
    "In this part of the project, we use the events detected using DBSCAN in the [event_detection](event_detection.ipynb) task. We keep all tweets that are related to each event and perform sentiment analysis. The sentiment of each tweet is determined using the <code>SentimentIntensityAnalyzer()</code> class of the <code>nltk</code> package. However, two main problems have to be overcome:\n",
    "* the language of each tweet should be determined\n",
    "* each tweet should be translated in English before the <code>SentimentIntensityAnalyzer()</code> can be used.\n",
    "In this notebook, we deal with both problems."
   ]
  },
  {
   "cell_type": "code",
   "execution_count": 1,
   "metadata": {
    "collapsed": false
   },
   "outputs": [],
   "source": [
    "%matplotlib inline\n",
    "from libraries import *\n",
    "from utils_event_detection import *\n",
    "from utils_sentiment_analysis import *\n",
    "from language_detector import detect_language"
   ]
  },
  {
   "cell_type": "markdown",
   "metadata": {},
   "source": [
    "### Data Loading\n",
    "\n",
    "In order to perform the sentiment analysis task, we combine information from two files and create the following dataframes:\n",
    "* <code>tweets_with_text</code>: contains information related to the tweets (tweet ID, text and date)\n",
    "* <code>events</code>: contains information about events (location, date, hashtag, etc)\n",
    "\n",
    "**NOTE:** For 2016, the <code>tweets_with_text_2016.csv</code> file contains a line that prevents the dataset from being loaded sucessfully. We couldn't investigate the problem due to lack of time, therefore, we added the <code>skiprows=[2588468]</code> argument while calling the <code>read_csv()</code> function."
   ]
  },
  {
   "cell_type": "code",
   "execution_count": 2,
   "metadata": {
    "collapsed": false
   },
   "outputs": [
    {
     "data": {
      "text/html": [
       "<div>\n",
       "<table border=\"1\" class=\"dataframe\">\n",
       "  <thead>\n",
       "    <tr style=\"text-align: right;\">\n",
       "      <th></th>\n",
       "      <th>tweetId</th>\n",
       "      <th>text</th>\n",
       "      <th>dayOfTweet</th>\n",
       "    </tr>\n",
       "  </thead>\n",
       "  <tbody>\n",
       "    <tr>\n",
       "      <th>0</th>\n",
       "      <td>9514097914</td>\n",
       "      <td>Guuuuten Morgen! :-)</td>\n",
       "      <td>2010-02-23</td>\n",
       "    </tr>\n",
       "    <tr>\n",
       "      <th>1</th>\n",
       "      <td>9514846412</td>\n",
       "      <td>Still the best coffee in town — at La Stanza h...</td>\n",
       "      <td>2010-02-23</td>\n",
       "    </tr>\n",
       "    <tr>\n",
       "      <th>2</th>\n",
       "      <td>9516574359</td>\n",
       "      <td>It has been a week or so.. and today I just co...</td>\n",
       "      <td>2010-02-23</td>\n",
       "    </tr>\n",
       "    <tr>\n",
       "      <th>3</th>\n",
       "      <td>9516952605</td>\n",
       "      <td>Getting ready..  http://twitpic.com/14v8gz</td>\n",
       "      <td>2010-02-23</td>\n",
       "    </tr>\n",
       "    <tr>\n",
       "      <th>4</th>\n",
       "      <td>9517198943</td>\n",
       "      <td>Un peu de réconfort liquide en take away après...</td>\n",
       "      <td>2010-02-23</td>\n",
       "    </tr>\n",
       "  </tbody>\n",
       "</table>\n",
       "</div>"
      ],
      "text/plain": [
       "      tweetId                                               text  dayOfTweet\n",
       "0  9514097914                               Guuuuten Morgen! :-)  2010-02-23\n",
       "1  9514846412  Still the best coffee in town — at La Stanza h...  2010-02-23\n",
       "2  9516574359  It has been a week or so.. and today I just co...  2010-02-23\n",
       "3  9516952605         Getting ready..  http://twitpic.com/14v8gz  2010-02-23\n",
       "4  9517198943  Un peu de réconfort liquide en take away après...  2010-02-23"
      ]
     },
     "execution_count": 2,
     "metadata": {},
     "output_type": "execute_result"
    }
   ],
   "source": [
    "# year to be analyzed\n",
    "year = '2010'\n",
    "# file name\n",
    "file_name = '../../data/tweets_with_text_' + year + '.csv'\n",
    "# loading data (treating NaN values and datetime format)\n",
    "tweets_with_text = pd.read_csv(file_name, sep='|', header=None, parse_dates=[2])\n",
    "# give proper names to columns\n",
    "tweets_with_text.columns = ['tweetId', 'userId', 'createdAt', 'text']\n",
    "# create new column with date\n",
    "tweets_with_text['dayOfTweet'] = tweets_with_text['createdAt'].dt.date.astype('str')\n",
    "# drop unnecessary columns\n",
    "tweets_with_text.drop(['createdAt', 'userId'], inplace=True, axis=1)\n",
    "# display dataframe\n",
    "tweets_with_text.head()"
   ]
  },
  {
   "cell_type": "markdown",
   "metadata": {},
   "source": [
    "Now, we focus on extracting the hashtags from each tweet. This is done in the same way, as in the [event_detection](event_detection.ipynb) task."
   ]
  },
  {
   "cell_type": "code",
   "execution_count": 3,
   "metadata": {
    "collapsed": true
   },
   "outputs": [],
   "source": [
    "tweets_with_text['hashtags'] = tweets_with_text['text'].apply(lambda row: keep_hashtags(row))\n",
    "# remove rows without hashtags\n",
    "tweets_with_text.dropna(subset=['hashtags'], inplace=True)"
   ]
  },
  {
   "cell_type": "markdown",
   "metadata": {},
   "source": [
    "However, it is possible that some tweets contain more than one hashtags. Therefore, we iterate through the <code>tweets_with_text</code> dataframe and duplicate rows that have more than one hashtags."
   ]
  },
  {
   "cell_type": "code",
   "execution_count": 4,
   "metadata": {
    "collapsed": false
   },
   "outputs": [],
   "source": [
    "pairs = []\n",
    "# iterate through all rows\n",
    "for _, row in tweets_with_text.iterrows():\n",
    "    # for each value in the hashtags, create one new row\n",
    "    for hashtag in row['hashtags']:\n",
    "        # append the new row to the list\n",
    "        pairs.append((row['tweetId'], row['text'], row['dayOfTweet'] , hashtag))\n",
    "# create a new dataframe from the pairs list and give meaningful names to the columns\n",
    "df = pd.DataFrame(pairs, columns=['tweetId', 'text', 'dayOfTweet', 'hashtag'])\n",
    "# set tweetId as index\n",
    "df.set_index('tweetId', inplace=True)"
   ]
  },
  {
   "cell_type": "markdown",
   "metadata": {},
   "source": [
    "Finally, the hashtags should be preprocessed to avoid mismatches due to case sensitivity. Therefore, everything is converted to lower case and punctuation is removed."
   ]
  },
  {
   "cell_type": "code",
   "execution_count": 5,
   "metadata": {
    "collapsed": false
   },
   "outputs": [
    {
     "data": {
      "text/html": [
       "<div>\n",
       "<table border=\"1\" class=\"dataframe\">\n",
       "  <thead>\n",
       "    <tr style=\"text-align: right;\">\n",
       "      <th></th>\n",
       "      <th>text</th>\n",
       "      <th>dayOfTweet</th>\n",
       "      <th>hashtag</th>\n",
       "    </tr>\n",
       "    <tr>\n",
       "      <th>tweetId</th>\n",
       "      <th></th>\n",
       "      <th></th>\n",
       "      <th></th>\n",
       "    </tr>\n",
       "  </thead>\n",
       "  <tbody>\n",
       "    <tr>\n",
       "      <th>9519737890</th>\n",
       "      <td>Magic spells run off after midnight, I guess s...</td>\n",
       "      <td>2010-02-23</td>\n",
       "      <td>#fb</td>\n",
       "    </tr>\n",
       "    <tr>\n",
       "      <th>9521789689</th>\n",
       "      <td>Limitas of public transportation! No taxi, rai...</td>\n",
       "      <td>2010-02-23</td>\n",
       "      <td>#yam</td>\n",
       "    </tr>\n",
       "    <tr>\n",
       "      <th>9535390586</th>\n",
       "      <td>So, Feierabend. Jetzt #24 und später #VfB. — a...</td>\n",
       "      <td>2010-02-23</td>\n",
       "      <td>#24</td>\n",
       "    </tr>\n",
       "    <tr>\n",
       "      <th>9535390586</th>\n",
       "      <td>So, Feierabend. Jetzt #24 und später #VfB. — a...</td>\n",
       "      <td>2010-02-23</td>\n",
       "      <td>#vfb</td>\n",
       "    </tr>\n",
       "    <tr>\n",
       "      <th>9536575795</th>\n",
       "      <td>Greetings ! http://tinyurl.com/ycrdlhq #iPhone...</td>\n",
       "      <td>2010-02-23</td>\n",
       "      <td>#iphoneography</td>\n",
       "    </tr>\n",
       "  </tbody>\n",
       "</table>\n",
       "</div>"
      ],
      "text/plain": [
       "                                                         text  dayOfTweet  \\\n",
       "tweetId                                                                     \n",
       "9519737890  Magic spells run off after midnight, I guess s...  2010-02-23   \n",
       "9521789689  Limitas of public transportation! No taxi, rai...  2010-02-23   \n",
       "9535390586  So, Feierabend. Jetzt #24 und später #VfB. — a...  2010-02-23   \n",
       "9535390586  So, Feierabend. Jetzt #24 und später #VfB. — a...  2010-02-23   \n",
       "9536575795  Greetings ! http://tinyurl.com/ycrdlhq #iPhone...  2010-02-23   \n",
       "\n",
       "                   hashtag  \n",
       "tweetId                     \n",
       "9519737890             #fb  \n",
       "9521789689            #yam  \n",
       "9535390586             #24  \n",
       "9535390586            #vfb  \n",
       "9536575795  #iphoneography  "
      ]
     },
     "execution_count": 5,
     "metadata": {},
     "output_type": "execute_result"
    }
   ],
   "source": [
    "# create a dictionary using a comprehension - this maps every character from string.punctuation to None\n",
    "# initialize a translation object from it.\n",
    "translator = str.maketrans({key: None for key in string.punctuation})\n",
    "# process hashtags\n",
    "df['hashtag'] = df.apply(lambda row: hashtag_preprocess(row['hashtag'], translator), axis=1)\n",
    "# display dataframe\n",
    "df.head()"
   ]
  },
  {
   "cell_type": "markdown",
   "metadata": {},
   "source": [
    "Now, we load all events detected using DBSCAN. We keep only events that are considered to be **non spam**, i.e. have more than 1 user."
   ]
  },
  {
   "cell_type": "code",
   "execution_count": 6,
   "metadata": {
    "collapsed": false
   },
   "outputs": [
    {
     "data": {
      "text/html": [
       "<div>\n",
       "<table border=\"1\" class=\"dataframe\">\n",
       "  <thead>\n",
       "    <tr style=\"text-align: right;\">\n",
       "      <th></th>\n",
       "      <th>hashtag</th>\n",
       "      <th>dayOfTweet</th>\n",
       "      <th>usersPerHashtag</th>\n",
       "      <th>spamEvent</th>\n",
       "      <th>std</th>\n",
       "      <th>approxLocation</th>\n",
       "    </tr>\n",
       "  </thead>\n",
       "  <tbody>\n",
       "    <tr>\n",
       "      <th>0</th>\n",
       "      <td>#tedxzh</td>\n",
       "      <td>2010-10-20</td>\n",
       "      <td>5</td>\n",
       "      <td>False</td>\n",
       "      <td>178.505886</td>\n",
       "      <td>('47.383', '8.536')</td>\n",
       "    </tr>\n",
       "    <tr>\n",
       "      <th>1</th>\n",
       "      <td>#gotthard</td>\n",
       "      <td>2010-10-15</td>\n",
       "      <td>4</td>\n",
       "      <td>False</td>\n",
       "      <td>159.250786</td>\n",
       "      <td>('47.567', '7.597')</td>\n",
       "    </tr>\n",
       "    <tr>\n",
       "      <th>2</th>\n",
       "      <td>#esc</td>\n",
       "      <td>2010-05-29</td>\n",
       "      <td>4</td>\n",
       "      <td>False</td>\n",
       "      <td>61.585952</td>\n",
       "      <td>('47.162', '8.291')</td>\n",
       "    </tr>\n",
       "    <tr>\n",
       "      <th>3</th>\n",
       "      <td>#fb</td>\n",
       "      <td>2010-10-07</td>\n",
       "      <td>3</td>\n",
       "      <td>False</td>\n",
       "      <td>257.948167</td>\n",
       "      <td>('46.289', '7.972')</td>\n",
       "    </tr>\n",
       "    <tr>\n",
       "      <th>4</th>\n",
       "      <td>#tedxgeneva</td>\n",
       "      <td>2010-12-06</td>\n",
       "      <td>2</td>\n",
       "      <td>False</td>\n",
       "      <td>153.596919</td>\n",
       "      <td>('46.194', '6.154')</td>\n",
       "    </tr>\n",
       "  </tbody>\n",
       "</table>\n",
       "</div>"
      ],
      "text/plain": [
       "       hashtag  dayOfTweet  usersPerHashtag spamEvent         std  \\\n",
       "0      #tedxzh  2010-10-20                5     False  178.505886   \n",
       "1    #gotthard  2010-10-15                4     False  159.250786   \n",
       "2         #esc  2010-05-29                4     False   61.585952   \n",
       "3          #fb  2010-10-07                3     False  257.948167   \n",
       "4  #tedxgeneva  2010-12-06                2     False  153.596919   \n",
       "\n",
       "        approxLocation  \n",
       "0  ('47.383', '8.536')  \n",
       "1  ('47.567', '7.597')  \n",
       "2  ('47.162', '8.291')  \n",
       "3  ('46.289', '7.972')  \n",
       "4  ('46.194', '6.154')  "
      ]
     },
     "execution_count": 6,
     "metadata": {},
     "output_type": "execute_result"
    }
   ],
   "source": [
    "file_name = '../../data/detected_events_dbscan_' + year + '.csv'\n",
    "events = pd.read_csv(file_name, sep='|', index_col=[0])\n",
    "events = events[~events['spamEvent']]\n",
    "events.head()"
   ]
  },
  {
   "cell_type": "markdown",
   "metadata": {},
   "source": [
    "### Important Dates and Hashtags\n",
    "\n",
    "Using the <code>events</code> dataframe, we extract the important days and hashtags, i.e. those that indicate an event."
   ]
  },
  {
   "cell_type": "code",
   "execution_count": 7,
   "metadata": {
    "collapsed": false
   },
   "outputs": [],
   "source": [
    "# keep all hashtags for events\n",
    "hashtags = events['hashtag'].tolist()\n",
    "# keep all dates for events\n",
    "dates = events['dayOfTweet'].tolist()"
   ]
  },
  {
   "cell_type": "markdown",
   "metadata": {},
   "source": [
    "We use the important <code>hashtags</code> and <code>dates</code> to filter <code>df</code>, i.e. the dataframe with information about the tweets."
   ]
  },
  {
   "cell_type": "code",
   "execution_count": 8,
   "metadata": {
    "collapsed": false,
    "scrolled": true
   },
   "outputs": [
    {
     "data": {
      "text/html": [
       "<div>\n",
       "<table border=\"1\" class=\"dataframe\">\n",
       "  <thead>\n",
       "    <tr style=\"text-align: right;\">\n",
       "      <th></th>\n",
       "      <th>text</th>\n",
       "      <th>dayOfTweet</th>\n",
       "      <th>hashtag</th>\n",
       "    </tr>\n",
       "    <tr>\n",
       "      <th>tweetId</th>\n",
       "      <th></th>\n",
       "      <th></th>\n",
       "      <th></th>\n",
       "    </tr>\n",
       "  </thead>\n",
       "  <tbody>\n",
       "    <tr>\n",
       "      <th>14993483672</th>\n",
       "      <td>@adrianbucher ah, jetzt schaust du also auch? ...</td>\n",
       "      <td>2010-05-29</td>\n",
       "      <td>#esc</td>\n",
       "    </tr>\n",
       "    <tr>\n",
       "      <th>14993666443</th>\n",
       "      <td>@adrianbucher außer Lena gefällt mir auch nich...</td>\n",
       "      <td>2010-05-29</td>\n",
       "      <td>#esc</td>\n",
       "    </tr>\n",
       "    <tr>\n",
       "      <th>14993805773</th>\n",
       "      <td>Die waren doch mal cool! #esc</td>\n",
       "      <td>2010-05-29</td>\n",
       "      <td>#esc</td>\n",
       "    </tr>\n",
       "    <tr>\n",
       "      <th>14993864678</th>\n",
       "      <td>@adrianbucher genau, Public viewing zuhause ;)...</td>\n",
       "      <td>2010-05-29</td>\n",
       "      <td>#esc</td>\n",
       "    </tr>\n",
       "    <tr>\n",
       "      <th>14995097955</th>\n",
       "      <td>Griechischer Cowboy! #esc</td>\n",
       "      <td>2010-05-29</td>\n",
       "      <td>#esc</td>\n",
       "    </tr>\n",
       "  </tbody>\n",
       "</table>\n",
       "</div>"
      ],
      "text/plain": [
       "                                                          text  dayOfTweet  \\\n",
       "tweetId                                                                      \n",
       "14993483672  @adrianbucher ah, jetzt schaust du also auch? ...  2010-05-29   \n",
       "14993666443  @adrianbucher außer Lena gefällt mir auch nich...  2010-05-29   \n",
       "14993805773                      Die waren doch mal cool! #esc  2010-05-29   \n",
       "14993864678  @adrianbucher genau, Public viewing zuhause ;)...  2010-05-29   \n",
       "14995097955                          Griechischer Cowboy! #esc  2010-05-29   \n",
       "\n",
       "            hashtag  \n",
       "tweetId              \n",
       "14993483672    #esc  \n",
       "14993666443    #esc  \n",
       "14993805773    #esc  \n",
       "14993864678    #esc  \n",
       "14995097955    #esc  "
      ]
     },
     "execution_count": 8,
     "metadata": {},
     "output_type": "execute_result"
    }
   ],
   "source": [
    "# filter dataframe - keep only rows relevant to events\n",
    "tweets = df[(df['dayOfTweet'].isin(dates)) & (df['hashtag'].isin(hashtags))]\n",
    "tweets.head()"
   ]
  },
  {
   "cell_type": "markdown",
   "metadata": {},
   "source": [
    "### Language Detection\n",
    "In order to perform sentiment analysis using the <code>SentimentIntensityAnalyzer</code> class, tweets should be in English. However, most of the tweets in the dataset are in other languages (e.g. French or German). Therefore, we have to detect the tweet language and translate it into English, before moving to the sentiment analysis.\n",
    "\n",
    "The language detection is done based on a heuristic. We work only with English, German and French. The language of each tweet depends on the number of stopwords of each language that are contained in the tweet text. The tweet language is considered to be equal with the language that gave the highest number of stopwords in the tweet text. This approach may sound naive, however it works really fast, avoids API requests for language detection and gives good results.\n",
    "\n",
    "The 100% correct language detection is not of our concern. In fact, we use the Yandex API for translation, which auto-detects the language of the input. However, having detected the language of each tweet (even in a wrong way for some tweets) helps in reducing the number of API requests, since text that is already in English should not be traslated.\n",
    "\n",
    "Nevertheless, the performance of the naive algorithm is decent, as it can be seem from the following output"
   ]
  },
  {
   "cell_type": "code",
   "execution_count": 9,
   "metadata": {
    "collapsed": false,
    "scrolled": true
   },
   "outputs": [
    {
     "name": "stdout",
     "output_type": "stream",
     "text": [
      "Language not detected in 8.0% of the tweets\n",
      "Number of lines remained:  80\n"
     ]
    },
    {
     "data": {
      "text/html": [
       "<div>\n",
       "<table border=\"1\" class=\"dataframe\">\n",
       "  <thead>\n",
       "    <tr style=\"text-align: right;\">\n",
       "      <th></th>\n",
       "      <th>text</th>\n",
       "      <th>dayOfTweet</th>\n",
       "      <th>hashtag</th>\n",
       "      <th>language</th>\n",
       "    </tr>\n",
       "    <tr>\n",
       "      <th>tweetId</th>\n",
       "      <th></th>\n",
       "      <th></th>\n",
       "      <th></th>\n",
       "      <th></th>\n",
       "    </tr>\n",
       "  </thead>\n",
       "  <tbody>\n",
       "    <tr>\n",
       "      <th>14993483672</th>\n",
       "      <td>@adrianbucher ah, jetzt schaust du also auch? ...</td>\n",
       "      <td>2010-05-29</td>\n",
       "      <td>#esc</td>\n",
       "      <td>de</td>\n",
       "    </tr>\n",
       "    <tr>\n",
       "      <th>14993666443</th>\n",
       "      <td>@adrianbucher außer Lena gefällt mir auch nich...</td>\n",
       "      <td>2010-05-29</td>\n",
       "      <td>#esc</td>\n",
       "      <td>de</td>\n",
       "    </tr>\n",
       "    <tr>\n",
       "      <th>14993805773</th>\n",
       "      <td>Die waren doch mal cool! #esc</td>\n",
       "      <td>2010-05-29</td>\n",
       "      <td>#esc</td>\n",
       "      <td>de</td>\n",
       "    </tr>\n",
       "    <tr>\n",
       "      <th>14996376751</th>\n",
       "      <td>Jetzt kommt viermal ein cooles Lied! #esc</td>\n",
       "      <td>2010-05-29</td>\n",
       "      <td>#esc</td>\n",
       "      <td>de</td>\n",
       "    </tr>\n",
       "    <tr>\n",
       "      <th>14997113097</th>\n",
       "      <td>Ich hab die Haare schön! #esc</td>\n",
       "      <td>2010-05-29</td>\n",
       "      <td>#esc</td>\n",
       "      <td>de</td>\n",
       "    </tr>\n",
       "  </tbody>\n",
       "</table>\n",
       "</div>"
      ],
      "text/plain": [
       "                                                          text  dayOfTweet  \\\n",
       "tweetId                                                                      \n",
       "14993483672  @adrianbucher ah, jetzt schaust du also auch? ...  2010-05-29   \n",
       "14993666443  @adrianbucher außer Lena gefällt mir auch nich...  2010-05-29   \n",
       "14993805773                      Die waren doch mal cool! #esc  2010-05-29   \n",
       "14996376751          Jetzt kommt viermal ein cooles Lied! #esc  2010-05-29   \n",
       "14997113097                      Ich hab die Haare schön! #esc  2010-05-29   \n",
       "\n",
       "            hashtag language  \n",
       "tweetId                       \n",
       "14993483672    #esc       de  \n",
       "14993666443    #esc       de  \n",
       "14993805773    #esc       de  \n",
       "14996376751    #esc       de  \n",
       "14997113097    #esc       de  "
      ]
     },
     "execution_count": 9,
     "metadata": {},
     "output_type": "execute_result"
    }
   ],
   "source": [
    "# detect tweet language\n",
    "tweets['language'] = tweets.apply(lambda row: detect_language(row['text']), axis=1)\n",
    "# number of tweets with non-detected language\n",
    "non_detected = 100.0 * tweets['language'].isnull().sum() / tweets.shape[0]\n",
    "# drop tweets with non-detected language\n",
    "tweets.dropna(subset=['language'], inplace=True)\n",
    "print('Language not detected in {0}% of the tweets'.format(np.round(non_detected)))\n",
    "print('Number of lines remained: ', tweets.shape[0])\n",
    "# display dataframe\n",
    "tweets.head()"
   ]
  },
  {
   "cell_type": "markdown",
   "metadata": {},
   "source": [
    "Before moving to the traslation process, we clear the tweet text by removing hashtags (#), URLs and references to other persons (@)."
   ]
  },
  {
   "cell_type": "code",
   "execution_count": 10,
   "metadata": {
    "collapsed": false
   },
   "outputs": [],
   "source": [
    "# clean tweet text\n",
    "tweets['text'] = tweets.apply(lambda row: clean_tweet_text(row['text']), axis=1)"
   ]
  },
  {
   "cell_type": "markdown",
   "metadata": {},
   "source": [
    "### Sentiment Estimation\n",
    "\n",
    "Now that we have detected the tweet language and cleaned its text, we move to estimating the compound sentiment score of each tweet. This is done using the <code>SentimentIntensityAnalyzer</code> class of the <code>nltk</code> package. Two steps are required:\n",
    "\n",
    "1. translating the text from the source language to English\n",
    "2. estimating the compound sentiment score\n",
    "\n",
    "The language detection and translation is done using the Yandex translation API. Since we are relying on an API, we have to sample our tweets and perform sentiment analysis on a subset of the data. This is done for two main reasons:\n",
    "* limitation from the API requests\n",
    "* time limitations (e.g. the year of 2012 has approx. 140000 entries for translation, which requires more than 10 hours in the promising case of executing 4 requests per second)\n",
    "\n",
    "In order to avoid the aforementioned problems, we **sample our dataset**, so that the sampled dataset has no more than 5000 tweets for translation. \n",
    "\n",
    "Finally, we materialize the final dataframe to avoid future API requests when re-executing the notebook."
   ]
  },
  {
   "cell_type": "code",
   "execution_count": 11,
   "metadata": {
    "collapsed": false
   },
   "outputs": [
    {
     "name": "stdout",
     "output_type": "stream",
     "text": [
      "Number of tweets before sampling:  80\n"
     ]
    }
   ],
   "source": [
    "print('Number of tweets before sampling: ', tweets.shape[0])\n",
    "if tweets.shape[0] > 5000:\n",
    "    tweets = tweets.sample(n=5000, random_state=6)"
   ]
  },
  {
   "cell_type": "code",
   "execution_count": 12,
   "metadata": {
    "collapsed": false,
    "scrolled": true
   },
   "outputs": [],
   "source": [
    "# file name\n",
    "file_name = '../../data/sentiment_analysis_' + year + '.csv'\n",
    "# check if file does not exist\n",
    "if not os.path.isfile(file_name):\n",
    "    # initialize columns\n",
    "    tweets['compound'] = np.nan\n",
    "    tweets['translated'] = 'no'\n",
    "    # initialize yandex translator object\n",
    "    with open('yandex.txt', 'r') as input_file:\n",
    "        KEY = input_file.read().rstrip()\n",
    "    translate = YandexTranslate(KEY)\n",
    "    # initialize sentiment analyzer\n",
    "    analyzer = SentimentIntensityAnalyzer()\n",
    "    # translate tweet and estimate compound sentiment score\n",
    "    tweets = tweets.apply(lambda row: get_sentiment(row, analyzer, translate, debug=True), axis=1)\n",
    "    # materialize dataframe\n",
    "    tweets.to_csv(file_name, sep='|')\n",
    "# check if file exists\n",
    "else:\n",
    "    # load file\n",
    "    tweets = pd.read_csv(file_name, sep='|', index_col=[0])"
   ]
  },
  {
   "cell_type": "markdown",
   "metadata": {},
   "source": [
    "However, the translation API may not work perfectly for all tweets. Here, we print the number of rows that remain untraslated and have <code>NaN</code> values in the <code>compound</code> column."
   ]
  },
  {
   "cell_type": "code",
   "execution_count": 13,
   "metadata": {
    "collapsed": false
   },
   "outputs": [
    {
     "name": "stdout",
     "output_type": "stream",
     "text": [
      "Total number of tweets:  80\n",
      "Number of non translated tweets:  0\n"
     ]
    },
    {
     "data": {
      "text/html": [
       "<div>\n",
       "<table border=\"1\" class=\"dataframe\">\n",
       "  <thead>\n",
       "    <tr style=\"text-align: right;\">\n",
       "      <th></th>\n",
       "      <th>text</th>\n",
       "      <th>dayOfTweet</th>\n",
       "      <th>hashtag</th>\n",
       "      <th>language</th>\n",
       "      <th>compound</th>\n",
       "      <th>translated</th>\n",
       "    </tr>\n",
       "    <tr>\n",
       "      <th>tweetId</th>\n",
       "      <th></th>\n",
       "      <th></th>\n",
       "      <th></th>\n",
       "      <th></th>\n",
       "      <th></th>\n",
       "      <th></th>\n",
       "    </tr>\n",
       "  </thead>\n",
       "  <tbody>\n",
       "    <tr>\n",
       "      <th>14993483672</th>\n",
       "      <td>ah, jetzt schaust du also auch?</td>\n",
       "      <td>2010-05-29</td>\n",
       "      <td>#esc</td>\n",
       "      <td>de</td>\n",
       "      <td>0.4101</td>\n",
       "      <td>yes</td>\n",
       "    </tr>\n",
       "    <tr>\n",
       "      <th>14993666443</th>\n",
       "      <td>außer Lena gefällt mir auch nichts, ist aber w...</td>\n",
       "      <td>2010-05-29</td>\n",
       "      <td>#esc</td>\n",
       "      <td>de</td>\n",
       "      <td>0.8145</td>\n",
       "      <td>yes</td>\n",
       "    </tr>\n",
       "    <tr>\n",
       "      <th>14993805773</th>\n",
       "      <td>Die waren doch mal cool!</td>\n",
       "      <td>2010-05-29</td>\n",
       "      <td>#esc</td>\n",
       "      <td>de</td>\n",
       "      <td>0.3802</td>\n",
       "      <td>yes</td>\n",
       "    </tr>\n",
       "    <tr>\n",
       "      <th>14996376751</th>\n",
       "      <td>Jetzt kommt viermal ein cooles Lied!</td>\n",
       "      <td>2010-05-29</td>\n",
       "      <td>#esc</td>\n",
       "      <td>de</td>\n",
       "      <td>0.3802</td>\n",
       "      <td>yes</td>\n",
       "    </tr>\n",
       "    <tr>\n",
       "      <th>14997113097</th>\n",
       "      <td>Ich hab die Haare schön!</td>\n",
       "      <td>2010-05-29</td>\n",
       "      <td>#esc</td>\n",
       "      <td>de</td>\n",
       "      <td>0.4753</td>\n",
       "      <td>yes</td>\n",
       "    </tr>\n",
       "  </tbody>\n",
       "</table>\n",
       "</div>"
      ],
      "text/plain": [
       "                                                          text  dayOfTweet  \\\n",
       "tweetId                                                                      \n",
       "14993483672                    ah, jetzt schaust du also auch?  2010-05-29   \n",
       "14993666443  außer Lena gefällt mir auch nichts, ist aber w...  2010-05-29   \n",
       "14993805773                           Die waren doch mal cool!  2010-05-29   \n",
       "14996376751               Jetzt kommt viermal ein cooles Lied!  2010-05-29   \n",
       "14997113097                           Ich hab die Haare schön!  2010-05-29   \n",
       "\n",
       "            hashtag language  compound translated  \n",
       "tweetId                                            \n",
       "14993483672    #esc       de    0.4101        yes  \n",
       "14993666443    #esc       de    0.8145        yes  \n",
       "14993805773    #esc       de    0.3802        yes  \n",
       "14996376751    #esc       de    0.3802        yes  \n",
       "14997113097    #esc       de    0.4753        yes  "
      ]
     },
     "execution_count": 13,
     "metadata": {},
     "output_type": "execute_result"
    }
   ],
   "source": [
    "print('Total number of tweets: ', tweets.shape[0])\n",
    "print('Number of non translated tweets: ', tweets[tweets.translated == 'no'].shape[0])\n",
    "tweets = tweets[tweets['translated'] != 'no']\n",
    "tweets.head()"
   ]
  },
  {
   "cell_type": "markdown",
   "metadata": {},
   "source": [
    "### Event-based Sentiment Analysis\n",
    "\n",
    "We perform a sentiment analysis for each detected event. We start by projecting the necessary columns of the <code>tweets</code> dataframe and continue by finding the normalized compound sentiment for each event."
   ]
  },
  {
   "cell_type": "code",
   "execution_count": 14,
   "metadata": {
    "collapsed": false
   },
   "outputs": [],
   "source": [
    "# keep necessary columns\n",
    "tweets = tweets[['hashtag', 'dayOfTweet', 'compound']]\n",
    "# group by hashtag and date and find normalized compound sentiment score per group\n",
    "df = tweets.groupby(by=['hashtag', 'dayOfTweet']).apply(normalize_sentiment)\n",
    "# rename column\n",
    "df.name = 'compound'\n",
    "# make dataframe\n",
    "df = df.reset_index()"
   ]
  },
  {
   "cell_type": "markdown",
   "metadata": {},
   "source": [
    "In addition, we join the previous dataframe with the <code>events</code> dataframe in order to create a new dataframe with both geolocated information and sentiment score for each event."
   ]
  },
  {
   "cell_type": "code",
   "execution_count": 15,
   "metadata": {
    "collapsed": false
   },
   "outputs": [
    {
     "data": {
      "text/html": [
       "<div>\n",
       "<table border=\"1\" class=\"dataframe\">\n",
       "  <thead>\n",
       "    <tr style=\"text-align: right;\">\n",
       "      <th></th>\n",
       "      <th>hashtag</th>\n",
       "      <th>dayOfTweet</th>\n",
       "      <th>usersPerHashtag</th>\n",
       "      <th>spamEvent</th>\n",
       "      <th>std</th>\n",
       "      <th>approxLocation</th>\n",
       "      <th>compound</th>\n",
       "    </tr>\n",
       "  </thead>\n",
       "  <tbody>\n",
       "    <tr>\n",
       "      <th>0</th>\n",
       "      <td>#tedxzh</td>\n",
       "      <td>2010-10-20</td>\n",
       "      <td>5</td>\n",
       "      <td>False</td>\n",
       "      <td>178.505886</td>\n",
       "      <td>('47.383', '8.536')</td>\n",
       "      <td>0.318594</td>\n",
       "    </tr>\n",
       "    <tr>\n",
       "      <th>1</th>\n",
       "      <td>#gotthard</td>\n",
       "      <td>2010-10-15</td>\n",
       "      <td>4</td>\n",
       "      <td>False</td>\n",
       "      <td>159.250786</td>\n",
       "      <td>('47.567', '7.597')</td>\n",
       "      <td>-0.147140</td>\n",
       "    </tr>\n",
       "    <tr>\n",
       "      <th>2</th>\n",
       "      <td>#esc</td>\n",
       "      <td>2010-05-29</td>\n",
       "      <td>4</td>\n",
       "      <td>False</td>\n",
       "      <td>61.585952</td>\n",
       "      <td>('47.162', '8.291')</td>\n",
       "      <td>0.339444</td>\n",
       "    </tr>\n",
       "    <tr>\n",
       "      <th>3</th>\n",
       "      <td>#fb</td>\n",
       "      <td>2010-10-07</td>\n",
       "      <td>3</td>\n",
       "      <td>False</td>\n",
       "      <td>257.948167</td>\n",
       "      <td>('46.289', '7.972')</td>\n",
       "      <td>0.078100</td>\n",
       "    </tr>\n",
       "    <tr>\n",
       "      <th>4</th>\n",
       "      <td>#tedxgeneva</td>\n",
       "      <td>2010-12-06</td>\n",
       "      <td>2</td>\n",
       "      <td>False</td>\n",
       "      <td>153.596919</td>\n",
       "      <td>('46.194', '6.154')</td>\n",
       "      <td>0.326600</td>\n",
       "    </tr>\n",
       "  </tbody>\n",
       "</table>\n",
       "</div>"
      ],
      "text/plain": [
       "       hashtag  dayOfTweet  usersPerHashtag spamEvent         std  \\\n",
       "0      #tedxzh  2010-10-20                5     False  178.505886   \n",
       "1    #gotthard  2010-10-15                4     False  159.250786   \n",
       "2         #esc  2010-05-29                4     False   61.585952   \n",
       "3          #fb  2010-10-07                3     False  257.948167   \n",
       "4  #tedxgeneva  2010-12-06                2     False  153.596919   \n",
       "\n",
       "        approxLocation  compound  \n",
       "0  ('47.383', '8.536')  0.318594  \n",
       "1  ('47.567', '7.597') -0.147140  \n",
       "2  ('47.162', '8.291')  0.339444  \n",
       "3  ('46.289', '7.972')  0.078100  \n",
       "4  ('46.194', '6.154')  0.326600  "
      ]
     },
     "execution_count": 15,
     "metadata": {},
     "output_type": "execute_result"
    }
   ],
   "source": [
    "# join dataframes \n",
    "events_with_sentiment = pd.merge(events, df, left_on=['hashtag', 'dayOfTweet'], \n",
    "                                 right_on=['hashtag', 'dayOfTweet'], how='inner')\n",
    "# display dataframe\n",
    "events_with_sentiment.head()"
   ]
  },
  {
   "cell_type": "markdown",
   "metadata": {},
   "source": [
    "Finally, we perform an inverse geolocated query to find the event location given its coordinates. We materialize the result in order to ease any execution of this notebook in the future. Here, we also have restrictions since we use the <code>googlemaps</code> API (limit of 2500 requests/day). Therefore, we check the dimensions of the <code>events_with_sentiment</code> dataframe and create a new dataframe with 2500 rows if necessary."
   ]
  },
  {
   "cell_type": "code",
   "execution_count": 16,
   "metadata": {
    "collapsed": false
   },
   "outputs": [
    {
     "name": "stdout",
     "output_type": "stream",
     "text": [
      "6\n"
     ]
    }
   ],
   "source": [
    "print(events_with_sentiment.shape[0])\n",
    "# check number of rows and sample if necessary\n",
    "if events_with_sentiment.shape[0] > 2500:\n",
    "    events_with_sentiment = events_with_sentiment.sample(n=2500, random_state=6)"
   ]
  },
  {
   "cell_type": "code",
   "execution_count": 17,
   "metadata": {
    "collapsed": false
   },
   "outputs": [],
   "source": [
    "# file name\n",
    "file_name = '../../data/sentiment_analysis_' + year + '_full_info.csv'\n",
    "# check if file does not exist\n",
    "if not os.path.isfile(file_name):\n",
    "    # read key from file\n",
    "    with open('key.txt', 'r') as input_file:\n",
    "        KEY = input_file.read().rstrip()\n",
    "    # initialize googlemaps object\n",
    "    gmaps = googlemaps.Client(key=KEY)\n",
    "    # find swiss cantons \n",
    "    json_data = pd.read_json('../../data/maps/ch-cantons.topojson.json', typ='dataframe')\n",
    "    swiss_cantons = [item['id'] for item in json_data['objects']['cantons']['geometries']]\n",
    "    # find area of event given its location\n",
    "    events_with_sentiment['area'] = events_with_sentiment.apply(\n",
    "        lambda row: find_canton_of_event(row['approxLocation'], gmaps, swiss_cantons, debug=True), axis=1)\n",
    "    # save dataframe\n",
    "    events_with_sentiment.to_csv(file_name, sep='|')\n",
    "# check if file exists\n",
    "else:\n",
    "    # load existing file\n",
    "    events_with_sentiment = pd.read_csv(file_name, sep='|', index_col=[0])"
   ]
  },
  {
   "cell_type": "markdown",
   "metadata": {},
   "source": [
    "The full list of events with their respective sentiment score can be found in the <code>sentiment_analysis_year_full_info.csv</code> files in the <code>data</code> directory."
   ]
  },
  {
   "cell_type": "markdown",
   "metadata": {},
   "source": [
    "### Sentiment Analysis Visualization"
   ]
  },
  {
   "cell_type": "markdown",
   "metadata": {},
   "source": [
    "To conclude our analysis, we visualize the results. We observe that some events happen more than once per year. Therefore, we decide to plot our results in two ways:\n",
    "\n",
    "* we aggregate the sentiment score based on the hashtag, i.e. the event ID. Hence, we estimate how people think and feel for each particular event.\n",
    "* we aggregate the sentiment score for all event in a particular area. Hence, we estimate if people feel different about events organized in different locations.\n",
    "\n",
    "In order to plot the results, two variables should be specified:\n",
    "* <code>group_by</code>: it is set to either 'hashtag' or 'area' to specify the attribute on which the sentiment score should be aggregated.\n",
    "* <code>threshold</code>: it indicates the number of points in the x-axis. If <code>group_by = 'hashtag'</code> and <code>threshold = 10</code>, then the x-axis contains the 10 events with the highest number of tweets. If <code>group_by = 'area'</code> and <code>threshold = 5</code>, then the x-axis contains 5 locations with the highest number of tweets.\n",
    "\n",
    "In order to set these parameters in proper way, we display the number of unique hashtags and areas for each year that is analyzed."
   ]
  },
  {
   "cell_type": "code",
   "execution_count": 18,
   "metadata": {
    "collapsed": false
   },
   "outputs": [
    {
     "name": "stdout",
     "output_type": "stream",
     "text": [
      "The number of unique hashtags is 6\n",
      "The number of unique areas is 6\n"
     ]
    }
   ],
   "source": [
    "num_hashtags = events_with_sentiment['hashtag'].nunique()\n",
    "num_areas = events_with_sentiment['area'].nunique()\n",
    "print('The number of unique hashtags is {}'.format(num_hashtags))\n",
    "print('The number of unique areas is {}'.format(num_areas))"
   ]
  },
  {
   "cell_type": "code",
   "execution_count": 19,
   "metadata": {
    "collapsed": true
   },
   "outputs": [],
   "source": [
    "# set the group_by parameter\n",
    "group_by = 'hashtag'\n",
    "# set the threshold parameter\n",
    "threshold = 10"
   ]
  },
  {
   "cell_type": "markdown",
   "metadata": {},
   "source": [
    "In order to make use of the aforementioned variables, the following code block should be uncommented. Here, we want to show both plots and therefore do not use the aforementioned parameters."
   ]
  },
  {
   "cell_type": "code",
   "execution_count": 20,
   "metadata": {
    "collapsed": false
   },
   "outputs": [],
   "source": [
    "# grouped_sentiment = group_sentiment_score(by=group_by, data=events_with_sentiment)\n",
    "# visualize_sentiment_score(data=grouped_sentiment, threshold=threshold, x_axis=group_by)"
   ]
  },
  {
   "cell_type": "markdown",
   "metadata": {},
   "source": [
    "As mentioned above, a hashtag may appear for more than one dates throughout a year. Therefore, each pair of <code>(hashtag, date)</code> has a particular compound score and number of users. The aggregation on the sentiment score is done based on a weighted sum given by\n",
    "\n",
    "$$aggregated \\ sentiment = \\frac{\\sum_{i=1}^{k}u_i \\cdot s_i}{\\sum_{i=1}^{k}u_i}$$\n",
    "\n",
    "where\n",
    "\n",
    "* $s_i$ indicates the compound sentiment score for an event on a particular day\n",
    "* $u_i$ indicates the number of users for an event on a particular day\n",
    "\n",
    "This is done in order to take into account all the users and their respective opinion for each event on each day."
   ]
  },
  {
   "cell_type": "markdown",
   "metadata": {},
   "source": [
    "#### Sentiment Score per Area"
   ]
  },
  {
   "cell_type": "code",
   "execution_count": 21,
   "metadata": {
    "collapsed": false
   },
   "outputs": [
    {
     "data": {
      "image/png": "[encoded data removed]",
      "text/plain": [
       "<matplotlib.figure.Figure at 0x7fcf4803c6a0>"
      ]
     },
     "metadata": {},
     "output_type": "display_data"
    }
   ],
   "source": [
    "# group sentiment score based on area\n",
    "grouped_sentiment = group_sentiment_score(by='area', data=events_with_sentiment)\n",
    "# visualize result\n",
    "visualize_sentiment_score(data=grouped_sentiment, threshold=10, x_axis='area', year=year)"
   ]
  },
  {
   "cell_type": "markdown",
   "metadata": {},
   "source": [
    "#### Sentiment Score per Event"
   ]
  },
  {
   "cell_type": "code",
   "execution_count": 22,
   "metadata": {
    "collapsed": false
   },
   "outputs": [
    {
     "data": {
      "image/png": "[encoded data removed]",
      "text/plain": [
       "<matplotlib.figure.Figure at 0x7fcf47cc4438>"
      ]
     },
     "metadata": {},
     "output_type": "display_data"
    }
   ],
   "source": [
    "# group sentiment score based on hashtag, i.e. event\n",
    "grouped_sentiment = group_sentiment_score(by='hashtag', data=events_with_sentiment)\n",
    "# visualize result\n",
    "visualize_sentiment_score(data=grouped_sentiment, threshold=15, x_axis='hashtag', year=year)"
   ]
  }
 ],
 "metadata": {
  "anaconda-cloud": {},
  "kernelspec": {
   "display_name": "Python [Root]",
   "language": "python",
   "name": "Python [Root]"
  },
  "language_info": {
   "codemirror_mode": {
    "name": "ipython",
    "version": 3
   },
   "file_extension": ".py",
   "mimetype": "text/x-python",
   "name": "python",
   "nbconvert_exporter": "python",
   "pygments_lexer": "ipython3",
   "version": "3.5.2"
  }
 },
 "nbformat": 4,
 "nbformat_minor": 0
}
