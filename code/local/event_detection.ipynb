{
 "cells": [
  {
   "cell_type": "markdown",
   "metadata": {},
   "source": [
    "# Applied Data Analysis\n",
    "\n",
    "## Fall Semester 2016\n",
    "\n",
    "Team members:\n",
    "* Stylianos Agapiou (stylianos.agapiou@epfl.ch)\n",
    "* Athanasios Giannakopoulos (athanasios.giannakopoulos@epfl.ch)\n",
    "* Dimitrios Sarigiannis (dimitrios.sarigiannis@epfl.ch)"
   ]
  },
  {
   "cell_type": "markdown",
   "metadata": {},
   "source": [
    "## Project Description\n",
    "\n",
    "We are given a dataset containing tweets in Switzerland starting from 2010. \n",
    "\n",
    "The first goal of the project is to analyse the data and reconstruct mobility flows of the users. More concretely, we try to get insights into high-frequency migration patterns in the swiss territory. The implementation is given in [mobility_patterns](mobility_patterns.ipynb). We also perform data analysis on aggregated data from all years that have been processed in the [mobility_patterns_aggregated](mobility_patterns_aggregated.ipynb) notebook.\n",
    "\n",
    "The second task of the project is to detect events. Here, we focus on dates and locations of such events. The implementation in given in [event_detection](event_detection.ipynb).\n",
    "\n",
    "The third and final part of the project deals with sentiment analysis. Here, we focus on the tweets linked to events (as detected in the [event_detection](event_detection.ipynb) notebook) and perform a sentiment analysis for each event. The implementation of the sentiment analysis is given in the [sentiment_analysis](sentiment_analysis.ipynb) notebook.\n",
    "\n",
    "\n",
    "<a name=\"users_std\"></a>\n",
    "## Event Detection\n",
    "\n",
    "This notebook focuses on event detection in Switzerland. Specifically, we perform the following tasks using the given dataset:\n",
    "\n",
    "* we try to determine the location and date of an event using two methods:\n",
    "        1. the first method uses DBSCAN for event detection\n",
    "        2. the second method uses a heuristic approach\n",
    "* we determine the number of users per event. People often tweet about the same subject for several times during one day. Our methods are agnostic to that so these tweets reveal an event for our algorithms (lots of tweets form the same place). However, by counting the number of users per event, we can identify events created by spammers (i.e. one user) and if necessary filter these events out.\n",
    "\n",
    "* we measure the standard deviation of the time of tweets that describe the same event. A small standard deviation means that the tweets are sent in a short timeframe. However, a big standard deviation means that the tweets are spread thoughout the day. An event may last for a few hours, thus a small standard deviation is more likely to reveal a real event.\n",
    "\n",
    "In order to detect events, several assumptions are taken into account. These assumptions are described in detail later in the report."
   ]
  },
  {
   "cell_type": "code",
   "execution_count": 1,
   "metadata": {
    "collapsed": false
   },
   "outputs": [],
   "source": [
    "%matplotlib inline\n",
    "from libraries import *\n",
    "from utils_event_detection import *"
   ]
  },
  {
   "cell_type": "markdown",
   "metadata": {},
   "source": [
    "### Data Loading\n",
    "\n",
    "Since our dataset contains tweets from 2010 to 2016, we decide to do a yearly based analysis. This approach gives us the following advantages:\n",
    "* the yearly analysis reveals how people use Twitter as time evolves (e.g. social networks become more popular, so it is probable that people used Twitter more in 2013 compared to 2010)\n",
    "* we detect events in a yearly basis\n",
    "\n",
    "**NOTE:** For 2016, the <code>tweets_with_text_2016.csv</code> file contains a line that prevents the dataset from being loaded sucessfully. We couldn't investigate the problem due to lack of time, therefore, we added the <code>skiprows=[2588468]</code> argument while calling the <code>read_csv()</code> function."
   ]
  },
  {
   "cell_type": "code",
   "execution_count": 2,
   "metadata": {
    "collapsed": false
   },
   "outputs": [
    {
     "data": {
      "text/html": [
       "<div>\n",
       "<table border=\"1\" class=\"dataframe\">\n",
       "  <thead>\n",
       "    <tr style=\"text-align: right;\">\n",
       "      <th></th>\n",
       "      <th>userId</th>\n",
       "      <th>createdAt</th>\n",
       "      <th>text</th>\n",
       "    </tr>\n",
       "    <tr>\n",
       "      <th>tweetId</th>\n",
       "      <th></th>\n",
       "      <th></th>\n",
       "      <th></th>\n",
       "    </tr>\n",
       "  </thead>\n",
       "  <tbody>\n",
       "    <tr>\n",
       "      <th>9514097914</th>\n",
       "      <td>17341045</td>\n",
       "      <td>2010-02-23 05:55:51</td>\n",
       "      <td>Guuuuten Morgen! :-)</td>\n",
       "    </tr>\n",
       "    <tr>\n",
       "      <th>9514846412</th>\n",
       "      <td>7198282</td>\n",
       "      <td>2010-02-23 06:22:40</td>\n",
       "      <td>Still the best coffee in town — at La Stanza h...</td>\n",
       "    </tr>\n",
       "    <tr>\n",
       "      <th>9516574359</th>\n",
       "      <td>14657884</td>\n",
       "      <td>2010-02-23 07:34:25</td>\n",
       "      <td>It has been a week or so.. and today I just co...</td>\n",
       "    </tr>\n",
       "    <tr>\n",
       "      <th>9516952605</th>\n",
       "      <td>14703863</td>\n",
       "      <td>2010-02-23 07:51:47</td>\n",
       "      <td>Getting ready..  http://twitpic.com/14v8gz</td>\n",
       "    </tr>\n",
       "    <tr>\n",
       "      <th>9517198943</th>\n",
       "      <td>14393717</td>\n",
       "      <td>2010-02-23 08:02:57</td>\n",
       "      <td>Un peu de réconfort liquide en take away après...</td>\n",
       "    </tr>\n",
       "  </tbody>\n",
       "</table>\n",
       "</div>"
      ],
      "text/plain": [
       "              userId           createdAt  \\\n",
       "tweetId                                    \n",
       "9514097914  17341045 2010-02-23 05:55:51   \n",
       "9514846412   7198282 2010-02-23 06:22:40   \n",
       "9516574359  14657884 2010-02-23 07:34:25   \n",
       "9516952605  14703863 2010-02-23 07:51:47   \n",
       "9517198943  14393717 2010-02-23 08:02:57   \n",
       "\n",
       "                                                         text  \n",
       "tweetId                                                        \n",
       "9514097914                               Guuuuten Morgen! :-)  \n",
       "9514846412  Still the best coffee in town — at La Stanza h...  \n",
       "9516574359  It has been a week or so.. and today I just co...  \n",
       "9516952605         Getting ready..  http://twitpic.com/14v8gz  \n",
       "9517198943  Un peu de réconfort liquide en take away après...  "
      ]
     },
     "execution_count": 2,
     "metadata": {},
     "output_type": "execute_result"
    }
   ],
   "source": [
    "# year to be analyzed\n",
    "year = '2010'\n",
    "# file name\n",
    "file_name = '../../data/tweets_with_text_' + year + '.csv'\n",
    "# loading data (treating NaN values and datetime format)\n",
    "data = pd.read_csv(file_name, sep='|', na_values=['\\\\N'], header=None, parse_dates=[2])\n",
    "# give proper names to columns\n",
    "data.columns = ['tweetId', 'userId', 'createdAt', 'text']\n",
    "# set tweet ID as index\n",
    "data.set_index('tweetId', inplace=True)\n",
    "# display dataframe\n",
    "data.head()"
   ]
  },
  {
   "cell_type": "markdown",
   "metadata": {
    "collapsed": false
   },
   "source": [
    "We also load the materialized dataframe from the [mobility_patterns](mobility_patterns.ipynb) file. This contains geolocated information about every tweet."
   ]
  },
  {
   "cell_type": "code",
   "execution_count": 3,
   "metadata": {
    "collapsed": false
   },
   "outputs": [],
   "source": [
    "file_name = '../../data/processed_tweets_' + year + '.csv'\n",
    "tweets = pd.read_csv(file_name, sep='|', index_col='tweetId', \n",
    "                     parse_dates=[2])"
   ]
  },
  {
   "cell_type": "markdown",
   "metadata": {},
   "source": [
    "Using index matching, we put the tweet text in the <code>tweets</code> dataframe and drop any rows that do not contain text."
   ]
  },
  {
   "cell_type": "code",
   "execution_count": 4,
   "metadata": {
    "collapsed": false
   },
   "outputs": [
    {
     "data": {
      "text/html": [
       "<div>\n",
       "<table border=\"1\" class=\"dataframe\">\n",
       "  <thead>\n",
       "    <tr style=\"text-align: right;\">\n",
       "      <th></th>\n",
       "      <th>userId</th>\n",
       "      <th>createdAt</th>\n",
       "      <th>longitude</th>\n",
       "      <th>latitude</th>\n",
       "      <th>atWork</th>\n",
       "      <th>hourOfTweet</th>\n",
       "      <th>text</th>\n",
       "    </tr>\n",
       "    <tr>\n",
       "      <th>tweetId</th>\n",
       "      <th></th>\n",
       "      <th></th>\n",
       "      <th></th>\n",
       "      <th></th>\n",
       "      <th></th>\n",
       "      <th></th>\n",
       "      <th></th>\n",
       "    </tr>\n",
       "  </thead>\n",
       "  <tbody>\n",
       "    <tr>\n",
       "      <th>9514097914</th>\n",
       "      <td>17341045</td>\n",
       "      <td>2010-02-23 05:55:51</td>\n",
       "      <td>7.43926</td>\n",
       "      <td>46.9489</td>\n",
       "      <td>False</td>\n",
       "      <td>5</td>\n",
       "      <td>Guuuuten Morgen! :-)</td>\n",
       "    </tr>\n",
       "    <tr>\n",
       "      <th>9514846412</th>\n",
       "      <td>7198282</td>\n",
       "      <td>2010-02-23 06:22:40</td>\n",
       "      <td>8.53781</td>\n",
       "      <td>47.3678</td>\n",
       "      <td>False</td>\n",
       "      <td>6</td>\n",
       "      <td>Still the best coffee in town — at La Stanza h...</td>\n",
       "    </tr>\n",
       "    <tr>\n",
       "      <th>9516574359</th>\n",
       "      <td>14657884</td>\n",
       "      <td>2010-02-23 07:34:25</td>\n",
       "      <td>6.13396</td>\n",
       "      <td>46.1951</td>\n",
       "      <td>False</td>\n",
       "      <td>7</td>\n",
       "      <td>It has been a week or so.. and today I just co...</td>\n",
       "    </tr>\n",
       "    <tr>\n",
       "      <th>9517198943</th>\n",
       "      <td>14393717</td>\n",
       "      <td>2010-02-23 08:02:57</td>\n",
       "      <td>6.63254</td>\n",
       "      <td>46.5199</td>\n",
       "      <td>True</td>\n",
       "      <td>8</td>\n",
       "      <td>Un peu de réconfort liquide en take away après...</td>\n",
       "    </tr>\n",
       "    <tr>\n",
       "      <th>9517916537</th>\n",
       "      <td>13535402</td>\n",
       "      <td>2010-02-23 08:35:39</td>\n",
       "      <td>8.53010</td>\n",
       "      <td>47.3152</td>\n",
       "      <td>True</td>\n",
       "      <td>8</td>\n",
       "      <td>I'm at Online PC Magazin in Adliswil http://go...</td>\n",
       "    </tr>\n",
       "  </tbody>\n",
       "</table>\n",
       "</div>"
      ],
      "text/plain": [
       "              userId           createdAt  longitude  latitude atWork  \\\n",
       "tweetId                                                                \n",
       "9514097914  17341045 2010-02-23 05:55:51    7.43926   46.9489  False   \n",
       "9514846412   7198282 2010-02-23 06:22:40    8.53781   47.3678  False   \n",
       "9516574359  14657884 2010-02-23 07:34:25    6.13396   46.1951  False   \n",
       "9517198943  14393717 2010-02-23 08:02:57    6.63254   46.5199   True   \n",
       "9517916537  13535402 2010-02-23 08:35:39    8.53010   47.3152   True   \n",
       "\n",
       "            hourOfTweet                                               text  \n",
       "tweetId                                                                     \n",
       "9514097914            5                               Guuuuten Morgen! :-)  \n",
       "9514846412            6  Still the best coffee in town — at La Stanza h...  \n",
       "9516574359            7  It has been a week or so.. and today I just co...  \n",
       "9517198943            8  Un peu de réconfort liquide en take away après...  \n",
       "9517916537            8  I'm at Online PC Magazin in Adliswil http://go...  "
      ]
     },
     "execution_count": 4,
     "metadata": {},
     "output_type": "execute_result"
    }
   ],
   "source": [
    "# create text column in the tweets dataframe\n",
    "tweets['text'] = data['text']\n",
    "# drop NaN rows\n",
    "tweets = tweets.dropna(subset=['text'])\n",
    "# display dataframe\n",
    "tweets.head()"
   ]
  },
  {
   "cell_type": "markdown",
   "metadata": {},
   "source": [
    "<a name=\"requirements\"></a>\n",
    "### Data Preprocessing\n",
    "\n",
    "We try to detect events using the tweet text and the geolocated information. Our analysis is based on the following assumptions:\n",
    "\n",
    "* events should happen during one day and all tweets that describe one particular event should have the same date.\n",
    "* the tweet text should contain at least one hashtag that may describe the event.\n",
    "* in order to detect an event, we need at least 5 tweets with the same hashtag on a particular day.\n",
    "* we are interested in detecting events using geolocated information, therefore events should be posted in approximately the same location. We assume that events take place in a small area. To detect event, we reduce the accuracy of the GPS location, as described [here](https://en.wikipedia.org/wiki/Decimal_degrees).\n",
    "\n",
    "We start by finding the day of each tweet using the given timestamp. Then we find all hashtags for each tweet. In case the tweet text does not contain any hashtag, we assume that the respective tweet does refer to any event and therefore we remove it."
   ]
  },
  {
   "cell_type": "code",
   "execution_count": 5,
   "metadata": {
    "collapsed": false,
    "scrolled": true
   },
   "outputs": [
    {
     "data": {
      "text/html": [
       "<div>\n",
       "<table border=\"1\" class=\"dataframe\">\n",
       "  <thead>\n",
       "    <tr style=\"text-align: right;\">\n",
       "      <th></th>\n",
       "      <th>userId</th>\n",
       "      <th>createdAt</th>\n",
       "      <th>longitude</th>\n",
       "      <th>latitude</th>\n",
       "      <th>atWork</th>\n",
       "      <th>hourOfTweet</th>\n",
       "      <th>text</th>\n",
       "      <th>dayOfTweet</th>\n",
       "      <th>hashtags</th>\n",
       "    </tr>\n",
       "    <tr>\n",
       "      <th>tweetId</th>\n",
       "      <th></th>\n",
       "      <th></th>\n",
       "      <th></th>\n",
       "      <th></th>\n",
       "      <th></th>\n",
       "      <th></th>\n",
       "      <th></th>\n",
       "      <th></th>\n",
       "      <th></th>\n",
       "    </tr>\n",
       "  </thead>\n",
       "  <tbody>\n",
       "    <tr>\n",
       "      <th>9519737890</th>\n",
       "      <td>14657884</td>\n",
       "      <td>2010-02-23 09:59:41</td>\n",
       "      <td>6.13870</td>\n",
       "      <td>46.1750</td>\n",
       "      <td>True</td>\n",
       "      <td>9</td>\n",
       "      <td>Magic spells run off after midnight, I guess s...</td>\n",
       "      <td>2010-02-23</td>\n",
       "      <td>{#fb}</td>\n",
       "    </tr>\n",
       "    <tr>\n",
       "      <th>9521789689</th>\n",
       "      <td>9962022</td>\n",
       "      <td>2010-02-23 11:28:27</td>\n",
       "      <td>6.33641</td>\n",
       "      <td>46.4631</td>\n",
       "      <td>True</td>\n",
       "      <td>11</td>\n",
       "      <td>Limitas of public transportation! No taxi, rai...</td>\n",
       "      <td>2010-02-23</td>\n",
       "      <td>{#yam}</td>\n",
       "    </tr>\n",
       "    <tr>\n",
       "      <th>9535390586</th>\n",
       "      <td>921241</td>\n",
       "      <td>2010-02-23 17:47:11</td>\n",
       "      <td>9.16570</td>\n",
       "      <td>47.6463</td>\n",
       "      <td>True</td>\n",
       "      <td>17</td>\n",
       "      <td>So, Feierabend. Jetzt #24 und später #VfB. — a...</td>\n",
       "      <td>2010-02-23</td>\n",
       "      <td>{#VfB., #24}</td>\n",
       "    </tr>\n",
       "    <tr>\n",
       "      <th>9536575795</th>\n",
       "      <td>14260616</td>\n",
       "      <td>2010-02-23 18:19:03</td>\n",
       "      <td>8.26010</td>\n",
       "      <td>47.4576</td>\n",
       "      <td>False</td>\n",
       "      <td>18</td>\n",
       "      <td>Greetings ! http://tinyurl.com/ycrdlhq #iPhone...</td>\n",
       "      <td>2010-02-23</td>\n",
       "      <td>{#iPhoneography}</td>\n",
       "    </tr>\n",
       "    <tr>\n",
       "      <th>9537030723</th>\n",
       "      <td>14542024</td>\n",
       "      <td>2010-02-23 18:31:46</td>\n",
       "      <td>8.51865</td>\n",
       "      <td>47.3703</td>\n",
       "      <td>False</td>\n",
       "      <td>18</td>\n",
       "      <td>Lexmark launches Evernote SmartSolution! Send ...</td>\n",
       "      <td>2010-02-23</td>\n",
       "      <td>{#partnermonth}</td>\n",
       "    </tr>\n",
       "  </tbody>\n",
       "</table>\n",
       "</div>"
      ],
      "text/plain": [
       "              userId           createdAt  longitude  latitude atWork  \\\n",
       "tweetId                                                                \n",
       "9519737890  14657884 2010-02-23 09:59:41    6.13870   46.1750   True   \n",
       "9521789689   9962022 2010-02-23 11:28:27    6.33641   46.4631   True   \n",
       "9535390586    921241 2010-02-23 17:47:11    9.16570   47.6463   True   \n",
       "9536575795  14260616 2010-02-23 18:19:03    8.26010   47.4576  False   \n",
       "9537030723  14542024 2010-02-23 18:31:46    8.51865   47.3703  False   \n",
       "\n",
       "            hourOfTweet                                               text  \\\n",
       "tweetId                                                                      \n",
       "9519737890            9  Magic spells run off after midnight, I guess s...   \n",
       "9521789689           11  Limitas of public transportation! No taxi, rai...   \n",
       "9535390586           17  So, Feierabend. Jetzt #24 und später #VfB. — a...   \n",
       "9536575795           18  Greetings ! http://tinyurl.com/ycrdlhq #iPhone...   \n",
       "9537030723           18  Lexmark launches Evernote SmartSolution! Send ...   \n",
       "\n",
       "            dayOfTweet          hashtags  \n",
       "tweetId                                   \n",
       "9519737890  2010-02-23             {#fb}  \n",
       "9521789689  2010-02-23            {#yam}  \n",
       "9535390586  2010-02-23      {#VfB., #24}  \n",
       "9536575795  2010-02-23  {#iPhoneography}  \n",
       "9537030723  2010-02-23   {#partnermonth}  "
      ]
     },
     "execution_count": 5,
     "metadata": {},
     "output_type": "execute_result"
    }
   ],
   "source": [
    "# find day of tweet\n",
    "tweets['dayOfTweet'] = tweets['createdAt'].dt.date\n",
    "# find hashtags for each tweet\n",
    "tweets['hashtags'] = tweets['text'].apply(lambda row: keep_hashtags(row))\n",
    "# remove rows without hashtags\n",
    "tweets.dropna(subset=['hashtags'], inplace=True)\n",
    "# display dataframe\n",
    "tweets.head()"
   ]
  },
  {
   "cell_type": "markdown",
   "metadata": {
    "collapsed": true
   },
   "source": [
    "It is possible that a row contains more than one hashtag. Here, we create duplicates for such rows. We wish to have one hashtag per row."
   ]
  },
  {
   "cell_type": "code",
   "execution_count": 6,
   "metadata": {
    "collapsed": false
   },
   "outputs": [],
   "source": [
    "pairs = []\n",
    "# iterate through all rows\n",
    "for _, row in tweets.iterrows():\n",
    "    # for each value in the hashtags, create one new row\n",
    "    for hashtag in row['hashtags']:\n",
    "        # append the new row to the list\n",
    "        pairs.append((row['userId'], row['createdAt'], row['longitude'], \n",
    "                      row['latitude'], row['dayOfTweet'], hashtag))\n",
    "# create a new dataframe from the pairs list and give meaningful names to the columns\n",
    "df = pd.DataFrame(pairs, columns=['userId', 'createdAt', 'longitude', 'latitude', 'dayOfTweet', 'hashtag'])"
   ]
  },
  {
   "cell_type": "markdown",
   "metadata": {},
   "source": [
    "Finally, the hashtags should be preprocessed to avoid mismatches due to case sensitivity. Therefore, everything is converted to lower case and punctuation is removed."
   ]
  },
  {
   "cell_type": "code",
   "execution_count": 7,
   "metadata": {
    "collapsed": false
   },
   "outputs": [
    {
     "data": {
      "text/html": [
       "<div>\n",
       "<table border=\"1\" class=\"dataframe\">\n",
       "  <thead>\n",
       "    <tr style=\"text-align: right;\">\n",
       "      <th></th>\n",
       "      <th>userId</th>\n",
       "      <th>createdAt</th>\n",
       "      <th>longitude</th>\n",
       "      <th>latitude</th>\n",
       "      <th>dayOfTweet</th>\n",
       "      <th>hashtag</th>\n",
       "    </tr>\n",
       "  </thead>\n",
       "  <tbody>\n",
       "    <tr>\n",
       "      <th>0</th>\n",
       "      <td>14657884</td>\n",
       "      <td>2010-02-23 09:59:41</td>\n",
       "      <td>6.13870</td>\n",
       "      <td>46.1750</td>\n",
       "      <td>2010-02-23</td>\n",
       "      <td>#fb</td>\n",
       "    </tr>\n",
       "    <tr>\n",
       "      <th>1</th>\n",
       "      <td>9962022</td>\n",
       "      <td>2010-02-23 11:28:27</td>\n",
       "      <td>6.33641</td>\n",
       "      <td>46.4631</td>\n",
       "      <td>2010-02-23</td>\n",
       "      <td>#yam</td>\n",
       "    </tr>\n",
       "    <tr>\n",
       "      <th>2</th>\n",
       "      <td>921241</td>\n",
       "      <td>2010-02-23 17:47:11</td>\n",
       "      <td>9.16570</td>\n",
       "      <td>47.6463</td>\n",
       "      <td>2010-02-23</td>\n",
       "      <td>#vfb</td>\n",
       "    </tr>\n",
       "    <tr>\n",
       "      <th>3</th>\n",
       "      <td>921241</td>\n",
       "      <td>2010-02-23 17:47:11</td>\n",
       "      <td>9.16570</td>\n",
       "      <td>47.6463</td>\n",
       "      <td>2010-02-23</td>\n",
       "      <td>#24</td>\n",
       "    </tr>\n",
       "    <tr>\n",
       "      <th>4</th>\n",
       "      <td>14260616</td>\n",
       "      <td>2010-02-23 18:19:03</td>\n",
       "      <td>8.26010</td>\n",
       "      <td>47.4576</td>\n",
       "      <td>2010-02-23</td>\n",
       "      <td>#iphoneography</td>\n",
       "    </tr>\n",
       "  </tbody>\n",
       "</table>\n",
       "</div>"
      ],
      "text/plain": [
       "     userId           createdAt  longitude  latitude  dayOfTweet  \\\n",
       "0  14657884 2010-02-23 09:59:41    6.13870   46.1750  2010-02-23   \n",
       "1   9962022 2010-02-23 11:28:27    6.33641   46.4631  2010-02-23   \n",
       "2    921241 2010-02-23 17:47:11    9.16570   47.6463  2010-02-23   \n",
       "3    921241 2010-02-23 17:47:11    9.16570   47.6463  2010-02-23   \n",
       "4  14260616 2010-02-23 18:19:03    8.26010   47.4576  2010-02-23   \n",
       "\n",
       "          hashtag  \n",
       "0             #fb  \n",
       "1            #yam  \n",
       "2            #vfb  \n",
       "3             #24  \n",
       "4  #iphoneography  "
      ]
     },
     "execution_count": 7,
     "metadata": {},
     "output_type": "execute_result"
    }
   ],
   "source": [
    "# create a dictionary using a comprehension - this maps every character from string.punctuation to None\n",
    "# initialize a translation object from it.\n",
    "translator = str.maketrans({key: None for key in string.punctuation})\n",
    "# process hashtags\n",
    "df['hashtag'] = df.apply(lambda row: hashtag_preprocess(row['hashtag'], translator), axis=1)\n",
    "# display dataframe\n",
    "df.head()"
   ]
  },
  {
   "cell_type": "markdown",
   "metadata": {},
   "source": [
    "## Detecting Events\n",
    "<a name=\"dbscan\"></a>\n",
    "### Machine Learning Approach: Event detection using DBSCAN\n",
    "We group our data based on day of tweet and hashtag. We use the <code>size</code> operation to count the number of tweets on a particular day with a particular hashtag."
   ]
  },
  {
   "cell_type": "code",
   "execution_count": 8,
   "metadata": {
    "collapsed": false
   },
   "outputs": [
    {
     "data": {
      "text/plain": [
       "dayOfTweet  hashtag       \n",
       "2010-02-23  #24               1\n",
       "            #fb               1\n",
       "            #iphoneography    1\n",
       "            #partnermonth     1\n",
       "            #vfb              1\n",
       "Name: numOfTweets, dtype: int64"
      ]
     },
     "execution_count": 8,
     "metadata": {},
     "output_type": "execute_result"
    }
   ],
   "source": [
    "# groupby dayOfTweet and hashtag, then find the size of each group\n",
    "df_grouped = df.groupby(by=['dayOfTweet', 'hashtag']).size()\n",
    "# give meaning name to column\n",
    "df_grouped.rename('numOfTweets', inplace=True)\n",
    "# display Series\n",
    "df_grouped.head()"
   ]
  },
  {
   "cell_type": "markdown",
   "metadata": {},
   "source": [
    "<a name=\"df\"></a>\n",
    "We detect events that have at least 5 tweets, i.e. **there are at least 5 events on the same day with the same hashtag**."
   ]
  },
  {
   "cell_type": "code",
   "execution_count": 9,
   "metadata": {
    "collapsed": false
   },
   "outputs": [
    {
     "data": {
      "text/html": [
       "<div>\n",
       "<table border=\"1\" class=\"dataframe\">\n",
       "  <thead>\n",
       "    <tr style=\"text-align: right;\">\n",
       "      <th></th>\n",
       "      <th>userId</th>\n",
       "      <th>createdAt</th>\n",
       "      <th>longitude</th>\n",
       "      <th>latitude</th>\n",
       "      <th>dayOfTweet</th>\n",
       "      <th>hashtag</th>\n",
       "      <th>numOfTweets</th>\n",
       "    </tr>\n",
       "  </thead>\n",
       "  <tbody>\n",
       "    <tr>\n",
       "      <th>105</th>\n",
       "      <td>14657884</td>\n",
       "      <td>2010-03-07 10:15:03</td>\n",
       "      <td>6.14474</td>\n",
       "      <td>46.1958</td>\n",
       "      <td>2010-03-07</td>\n",
       "      <td>#fb</td>\n",
       "      <td>6</td>\n",
       "    </tr>\n",
       "    <tr>\n",
       "      <th>109</th>\n",
       "      <td>17341045</td>\n",
       "      <td>2010-03-07 12:18:19</td>\n",
       "      <td>7.41919</td>\n",
       "      <td>46.9377</td>\n",
       "      <td>2010-03-07</td>\n",
       "      <td>#fb</td>\n",
       "      <td>6</td>\n",
       "    </tr>\n",
       "    <tr>\n",
       "      <th>114</th>\n",
       "      <td>17341045</td>\n",
       "      <td>2010-03-07 17:43:44</td>\n",
       "      <td>7.41919</td>\n",
       "      <td>46.9377</td>\n",
       "      <td>2010-03-07</td>\n",
       "      <td>#fb</td>\n",
       "      <td>6</td>\n",
       "    </tr>\n",
       "    <tr>\n",
       "      <th>116</th>\n",
       "      <td>13743402</td>\n",
       "      <td>2010-03-07 20:48:23</td>\n",
       "      <td>10.31670</td>\n",
       "      <td>47.7273</td>\n",
       "      <td>2010-03-07</td>\n",
       "      <td>#fb</td>\n",
       "      <td>6</td>\n",
       "    </tr>\n",
       "    <tr>\n",
       "      <th>117</th>\n",
       "      <td>14657884</td>\n",
       "      <td>2010-03-07 22:51:16</td>\n",
       "      <td>6.14474</td>\n",
       "      <td>46.1958</td>\n",
       "      <td>2010-03-07</td>\n",
       "      <td>#fb</td>\n",
       "      <td>6</td>\n",
       "    </tr>\n",
       "  </tbody>\n",
       "</table>\n",
       "</div>"
      ],
      "text/plain": [
       "       userId           createdAt  longitude  latitude  dayOfTweet hashtag  \\\n",
       "105  14657884 2010-03-07 10:15:03    6.14474   46.1958  2010-03-07     #fb   \n",
       "109  17341045 2010-03-07 12:18:19    7.41919   46.9377  2010-03-07     #fb   \n",
       "114  17341045 2010-03-07 17:43:44    7.41919   46.9377  2010-03-07     #fb   \n",
       "116  13743402 2010-03-07 20:48:23   10.31670   47.7273  2010-03-07     #fb   \n",
       "117  14657884 2010-03-07 22:51:16    6.14474   46.1958  2010-03-07     #fb   \n",
       "\n",
       "     numOfTweets  \n",
       "105            6  \n",
       "109            6  \n",
       "114            6  \n",
       "116            6  \n",
       "117            6  "
      ]
     },
     "execution_count": 9,
     "metadata": {},
     "output_type": "execute_result"
    }
   ],
   "source": [
    "# set threshold for min number of events\n",
    "min_tweets = 5\n",
    "# find how many tweets happened on a particular day for a particular tweet\n",
    "df = df.apply(lambda row: fill_num_of_tweets(row, df_grouped), axis=1)\n",
    "# remove those that do not exceed the threshold value\n",
    "df = df[df['numOfTweets'] >= min_tweets]\n",
    "# display dataframe\n",
    "df.head()"
   ]
  },
  {
   "cell_type": "markdown",
   "metadata": {},
   "source": [
    "In order to explain the information contained in the <code>df</code> dataframe, we give the following example taken from the sub-dataset of year **2010**. ![title](../../data/figures/df_example.png)\n",
    "\n",
    "Here, we see that there are 6 tweets with the hashtag #fb posted on 07.03.2010 by 5 different users (5 unique user IDs)."
   ]
  },
  {
   "cell_type": "markdown",
   "metadata": {},
   "source": [
    "So far, we have satisfied the 3 our of 4 [requirements](#requirements) described above. The $4^{th}$ points requires tweets to be posted from approximately the same location. \n",
    "\n",
    "In order to do that, we pass the geolocation information for possible events into DBSCAN. In case the tweets are posted from the same location, DBSCAN will create a cluster. Otherwise, these tweets are considered to be noise and we say that no event is detected. \n",
    "\n",
    "We start by grouping tweets based on common day and hashtag. The coordinates of each sub-group are fed into DBSCAN. You can see all events that are detected using DBSCAN, their respective date, as well as their descriptive hashtag. We assume that events take place in a small area (e.g. stadium, conference, festival, etc.) and we reduce the accuracy to approximately \n",
    "* 6.4 square kilometers (accuracy equals to 0.01 and 2 for DBSCAN and heuristic respectively)\n",
    "* 640 square meters (accuracy equals to 0.001 and 3 for DBSCAN and heuristic respectively)\n",
    "\n",
    "to include also inaccuracies in the GPS location measurements. **This parameters affects significanlty the number of events detected**.\n",
    "\n",
    "**REMINDER:** We are interested in detecting events using geolocated information and not detecting events in general. Some of the events detected by DBSCAN may not correspond to real events. However, the algorithm detects them as they fullfill all the requirements we have."
   ]
  },
  {
   "cell_type": "code",
   "execution_count": 10,
   "metadata": {
    "collapsed": false,
    "scrolled": true
   },
   "outputs": [
    {
     "name": "stdout",
     "output_type": "stream",
     "text": [
      "Date:  2010-03-25 \t Location:  ('47.365', '8.539') \t Hashtags:  #bosw\n",
      "Date:  2010-04-19 \t Location:  ('47.366', '8.545') \t Hashtags:  #sechselaeuten\n",
      "Date:  2010-05-29 \t Location:  ('47.162', '8.291') \t Hashtags:  #esc\n",
      "Date:  2010-06-05 \t Location:  ('47.667', '9.170') \t Hashtags:  #bcbs10\n",
      "Date:  2010-06-24 \t Location:  ('47.411', '8.552') \t Hashtags:  #swisscrmforum\n",
      "Date:  2010-06-24 \t Location:  ('47.411', '8.551') \t Hashtags:  #swisscrmforum\n",
      "Date:  2010-10-07 \t Location:  ('46.289', '7.972') \t Hashtags:  #fb\n",
      "Date:  2010-10-15 \t Location:  ('47.567', '7.597') \t Hashtags:  #gotthard\n",
      "Date:  2010-10-20 \t Location:  ('47.383', '8.536') \t Hashtags:  #tedxzh\n",
      "Date:  2010-12-03 \t Location:  ('47.588', '9.624') \t Hashtags:  #ff\n",
      "Date:  2010-12-06 \t Location:  ('46.194', '6.154') \t Hashtags:  #tedxgeneva\n",
      "Date:  2010-12-08 \t Location:  ('47.364', '8.535') \t Hashtags:  #iabc\n",
      "Date:  2010-12-08 \t Location:  ('47.364', '8.535') \t Hashtags:  #switzerland\n"
     ]
    }
   ],
   "source": [
    "# reduce GPS accuracy\n",
    "accuracy = 0.001\n",
    "# group by day of tweet and hashtag\n",
    "df_grouped = df.groupby(by=['dayOfTweet', 'hashtag'])\n",
    "# find events\n",
    "list_of_events_dbscan = detect_event_dbscan(df_grouped, accuracy, min_tweets)"
   ]
  },
  {
   "cell_type": "markdown",
   "metadata": {},
   "source": [
    "Now, we have detected possible events. We try to find evidence that these are indeed events. This is indicated by\n",
    "* the number of users that posted for a particular event\n",
    "* the standard deviation of the timestamps of the events\n",
    "\n",
    "The reasoning is given [here](#users_std)."
   ]
  },
  {
   "cell_type": "markdown",
   "metadata": {},
   "source": [
    "We create a new dataframe that contains only users that made tweets for the events we detected so far."
   ]
  },
  {
   "cell_type": "code",
   "execution_count": 11,
   "metadata": {
    "collapsed": false,
    "scrolled": true
   },
   "outputs": [
    {
     "data": {
      "text/html": [
       "<div>\n",
       "<table border=\"1\" class=\"dataframe\">\n",
       "  <thead>\n",
       "    <tr style=\"text-align: right;\">\n",
       "      <th></th>\n",
       "      <th>dayOfTweet</th>\n",
       "      <th>hashtag</th>\n",
       "      <th>userId</th>\n",
       "    </tr>\n",
       "  </thead>\n",
       "  <tbody>\n",
       "    <tr>\n",
       "      <th>284</th>\n",
       "      <td>2010-03-25</td>\n",
       "      <td>#bosw</td>\n",
       "      <td>15402923</td>\n",
       "    </tr>\n",
       "    <tr>\n",
       "      <th>285</th>\n",
       "      <td>2010-03-25</td>\n",
       "      <td>#bosw</td>\n",
       "      <td>15402923</td>\n",
       "    </tr>\n",
       "    <tr>\n",
       "      <th>287</th>\n",
       "      <td>2010-03-25</td>\n",
       "      <td>#bosw</td>\n",
       "      <td>15402923</td>\n",
       "    </tr>\n",
       "    <tr>\n",
       "      <th>289</th>\n",
       "      <td>2010-03-25</td>\n",
       "      <td>#bosw</td>\n",
       "      <td>15402923</td>\n",
       "    </tr>\n",
       "    <tr>\n",
       "      <th>290</th>\n",
       "      <td>2010-03-25</td>\n",
       "      <td>#bosw</td>\n",
       "      <td>15402923</td>\n",
       "    </tr>\n",
       "  </tbody>\n",
       "</table>\n",
       "</div>"
      ],
      "text/plain": [
       "     dayOfTweet hashtag    userId\n",
       "284  2010-03-25   #bosw  15402923\n",
       "285  2010-03-25   #bosw  15402923\n",
       "287  2010-03-25   #bosw  15402923\n",
       "289  2010-03-25   #bosw  15402923\n",
       "290  2010-03-25   #bosw  15402923"
      ]
     },
     "execution_count": 11,
     "metadata": {},
     "output_type": "execute_result"
    }
   ],
   "source": [
    "# initialize datafram\n",
    "new_df = pd.DataFrame()\n",
    "# iterate though list of events\n",
    "for item in list_of_events_dbscan:\n",
    "    # find all records that match the day of tweet and the hashtag for each detected event\n",
    "    temp = df[(df['dayOfTweet'] == item[0]) & (df['hashtag'] == item[1])]\n",
    "    # concatenate to new dataframe\n",
    "    new_df = pd.concat([new_df, temp])\n",
    "# give meaningful column names\n",
    "new_df = new_df[['dayOfTweet', 'hashtag', 'userId']]\n",
    "# display dataframe\n",
    "new_df.head()"
   ]
  },
  {
   "cell_type": "markdown",
   "metadata": {},
   "source": [
    "Now, we wish to determine how many different users posted for each detected event."
   ]
  },
  {
   "cell_type": "code",
   "execution_count": 12,
   "metadata": {
    "collapsed": false,
    "scrolled": true
   },
   "outputs": [],
   "source": [
    "# group by hashtag and dayOfTweet and count unique user IDs\n",
    "new_df = new_df.groupby(by=['hashtag', 'dayOfTweet'])['userId'].nunique()\n",
    "# give meaningful name to column\n",
    "new_df.rename('usersPerHashtag', inplace=True)\n",
    "# convert to dataframe (needed for later)\n",
    "new_df = new_df.to_frame()"
   ]
  },
  {
   "cell_type": "markdown",
   "metadata": {},
   "source": [
    "We define a spammer threshold. If a hashtag is posted by less users that the spammer threshold, then we have evidence that the detected event may not be a true event. However, the algorithm detected it as an event since it met all the aforementioned [requirements](#requirements)."
   ]
  },
  {
   "cell_type": "code",
   "execution_count": 13,
   "metadata": {
    "collapsed": false
   },
   "outputs": [
    {
     "data": {
      "text/html": [
       "<div>\n",
       "<table border=\"1\" class=\"dataframe\">\n",
       "  <thead>\n",
       "    <tr style=\"text-align: right;\">\n",
       "      <th></th>\n",
       "      <th></th>\n",
       "      <th>usersPerHashtag</th>\n",
       "      <th>spamEvent</th>\n",
       "    </tr>\n",
       "    <tr>\n",
       "      <th>hashtag</th>\n",
       "      <th>dayOfTweet</th>\n",
       "      <th></th>\n",
       "      <th></th>\n",
       "    </tr>\n",
       "  </thead>\n",
       "  <tbody>\n",
       "    <tr>\n",
       "      <th>#bcbs10</th>\n",
       "      <th>2010-06-05</th>\n",
       "      <td>1</td>\n",
       "      <td>True</td>\n",
       "    </tr>\n",
       "    <tr>\n",
       "      <th>#bosw</th>\n",
       "      <th>2010-03-25</th>\n",
       "      <td>1</td>\n",
       "      <td>True</td>\n",
       "    </tr>\n",
       "    <tr>\n",
       "      <th>#esc</th>\n",
       "      <th>2010-05-29</th>\n",
       "      <td>4</td>\n",
       "      <td>False</td>\n",
       "    </tr>\n",
       "    <tr>\n",
       "      <th>#fb</th>\n",
       "      <th>2010-10-07</th>\n",
       "      <td>3</td>\n",
       "      <td>False</td>\n",
       "    </tr>\n",
       "    <tr>\n",
       "      <th>#ff</th>\n",
       "      <th>2010-12-03</th>\n",
       "      <td>2</td>\n",
       "      <td>False</td>\n",
       "    </tr>\n",
       "  </tbody>\n",
       "</table>\n",
       "</div>"
      ],
      "text/plain": [
       "                    usersPerHashtag spamEvent\n",
       "hashtag dayOfTweet                           \n",
       "#bcbs10 2010-06-05                1      True\n",
       "#bosw   2010-03-25                1      True\n",
       "#esc    2010-05-29                4     False\n",
       "#fb     2010-10-07                3     False\n",
       "#ff     2010-12-03                2     False"
      ]
     },
     "execution_count": 13,
     "metadata": {},
     "output_type": "execute_result"
    }
   ],
   "source": [
    "# define a spammer threshold\n",
    "spammer_threshold = 2\n",
    "# find if events are spam or not\n",
    "new_df['spamEvent'] = new_df['usersPerHashtag'] < spammer_threshold\n",
    "# display dataframe\n",
    "new_df.head()"
   ]
  },
  {
   "cell_type": "markdown",
   "metadata": {},
   "source": [
    "There is one final thing left to do, i.e. we should calculate the standard deviation of the timestamps of detected events. In order to do that, we gather the timestamps for each event, convert it to number of seconds since midnight and calculate the standard deviation. \n",
    "\n",
    "A small standard deviation means that the tweets are sent in a short timeframe. However, a big standard deviation means that the tweets are spread thoughout the day. An event may last for a few hours, thus a small standard deviation is more likely to reveal a real event."
   ]
  },
  {
   "cell_type": "code",
   "execution_count": 14,
   "metadata": {
    "collapsed": false,
    "scrolled": false
   },
   "outputs": [
    {
     "data": {
      "text/html": [
       "<div>\n",
       "<table border=\"1\" class=\"dataframe\">\n",
       "  <thead>\n",
       "    <tr style=\"text-align: right;\">\n",
       "      <th></th>\n",
       "      <th>hashtag</th>\n",
       "      <th>dayOfTweet</th>\n",
       "      <th>usersPerHashtag</th>\n",
       "      <th>spamEvent</th>\n",
       "      <th>std</th>\n",
       "      <th>approxLocation</th>\n",
       "    </tr>\n",
       "  </thead>\n",
       "  <tbody>\n",
       "    <tr>\n",
       "      <th>0</th>\n",
       "      <td>#tedxzh</td>\n",
       "      <td>2010-10-20</td>\n",
       "      <td>5</td>\n",
       "      <td>False</td>\n",
       "      <td>178.505886</td>\n",
       "      <td>(47.383, 8.536)</td>\n",
       "    </tr>\n",
       "    <tr>\n",
       "      <th>1</th>\n",
       "      <td>#gotthard</td>\n",
       "      <td>2010-10-15</td>\n",
       "      <td>4</td>\n",
       "      <td>False</td>\n",
       "      <td>159.250786</td>\n",
       "      <td>(47.567, 7.597)</td>\n",
       "    </tr>\n",
       "    <tr>\n",
       "      <th>2</th>\n",
       "      <td>#esc</td>\n",
       "      <td>2010-05-29</td>\n",
       "      <td>4</td>\n",
       "      <td>False</td>\n",
       "      <td>61.585952</td>\n",
       "      <td>(47.162, 8.291)</td>\n",
       "    </tr>\n",
       "    <tr>\n",
       "      <th>3</th>\n",
       "      <td>#fb</td>\n",
       "      <td>2010-10-07</td>\n",
       "      <td>3</td>\n",
       "      <td>False</td>\n",
       "      <td>257.948167</td>\n",
       "      <td>(46.289, 7.972)</td>\n",
       "    </tr>\n",
       "    <tr>\n",
       "      <th>4</th>\n",
       "      <td>#tedxgeneva</td>\n",
       "      <td>2010-12-06</td>\n",
       "      <td>2</td>\n",
       "      <td>False</td>\n",
       "      <td>153.596919</td>\n",
       "      <td>(46.194, 6.154)</td>\n",
       "    </tr>\n",
       "  </tbody>\n",
       "</table>\n",
       "</div>"
      ],
      "text/plain": [
       "       hashtag  dayOfTweet  usersPerHashtag spamEvent         std  \\\n",
       "0      #tedxzh  2010-10-20                5     False  178.505886   \n",
       "1    #gotthard  2010-10-15                4     False  159.250786   \n",
       "2         #esc  2010-05-29                4     False   61.585952   \n",
       "3          #fb  2010-10-07                3     False  257.948167   \n",
       "4  #tedxgeneva  2010-12-06                2     False  153.596919   \n",
       "\n",
       "    approxLocation  \n",
       "0  (47.383, 8.536)  \n",
       "1  (47.567, 7.597)  \n",
       "2  (47.162, 8.291)  \n",
       "3  (46.289, 7.972)  \n",
       "4  (46.194, 6.154)  "
      ]
     },
     "execution_count": 14,
     "metadata": {},
     "output_type": "execute_result"
    }
   ],
   "source": [
    "# find std of events\n",
    "std_dict = std_of_events(df, new_df)\n",
    "# reset index\n",
    "new_df.reset_index(inplace=True)\n",
    "# initialize columm\n",
    "new_df['std'] = np.nan\n",
    "# fill std for each event\n",
    "new_df = new_df.apply(lambda row: fill_std(row, std_dict), axis=1)\n",
    "# sort dataframe\n",
    "new_df.sort(columns = ['usersPerHashtag', 'std'], inplace=True, axis=0, ascending=False)\n",
    "# reset indexes\n",
    "new_df.reset_index(inplace=True, drop=True)\n",
    "# set locations of events\n",
    "new_df['approxLocation'] = new_df.apply(lambda row: set_event_location(row, list_of_events_dbscan), axis=1)\n",
    "# save dataframe\n",
    "file_name = '../../data/detected_events_dbscan_' + year + '.csv'\n",
    "new_df.to_csv(file_name, sep='|')\n",
    "# display dataframe\n",
    "new_df.head()"
   ]
  },
  {
   "cell_type": "markdown",
   "metadata": {},
   "source": [
    " <a name=\"non_spam_dbscan\"></a>\n",
    "Now, we print all events that are not classified as spam. In the section [bellow](#non_spam_heuristic), you can find a list of non spam events detected using a heuristic approach."
   ]
  },
  {
   "cell_type": "code",
   "execution_count": 15,
   "metadata": {
    "collapsed": false
   },
   "outputs": [
    {
     "name": "stdout",
     "output_type": "stream",
     "text": [
      "Date:  2010-10-20 \t Hashtag:  #tedxzh\n",
      "Date:  2010-10-15 \t Hashtag:  #gotthard\n",
      "Date:  2010-05-29 \t Hashtag:  #esc\n",
      "Date:  2010-10-07 \t Hashtag:  #fb\n",
      "Date:  2010-12-06 \t Hashtag:  #tedxgeneva\n",
      "Date:  2010-12-03 \t Hashtag:  #ff\n"
     ]
    }
   ],
   "source": [
    "# list of non spam event for DBSCAN\n",
    "dbscan_non_spam = []\n",
    "for event in new_df.iterrows():\n",
    "    spam = event[1][3]\n",
    "    date = event[1][1]\n",
    "    hashtag = event[1][0]\n",
    "    # print those that are not spam\n",
    "    if not spam:\n",
    "        # append to list and print event\n",
    "        dbscan_non_spam.append((date, hashtag))\n",
    "        print('Date: ', date, '\\t', 'Hashtag: ', hashtag)"
   ]
  },
  {
   "cell_type": "markdown",
   "metadata": {},
   "source": [
    "### Heuristic Approach\n",
    "\n",
    "We decide to follow a second approach for detecting events. This approach does not involve any machine learning algorithm. On the contraty, it is based on a heuristic method that reduces the accuracy of the GPS coordinates. Tweets that are posted in approximately the same location should have the same longitude and latitude after the accuracy reduction. \n",
    "\n",
    "**The reduction accuracy should be in accordance to the accuracy used in the DBSCAN model**. For example, an accuracy of 0.01 (or 0.001) in DBSCAN corresponds to an accuracy of 2 (or 3) in the heuristic."
   ]
  },
  {
   "cell_type": "markdown",
   "metadata": {},
   "source": [
    "We work using the <code>df</code> dataframe. This dataframe was last modified [here](#df) and does not contain any information created from DBSCAN. However, we drop the <code>numOfTweets</code> columns, since we are going to re-evaluate it in a different way."
   ]
  },
  {
   "cell_type": "code",
   "execution_count": 16,
   "metadata": {
    "collapsed": false
   },
   "outputs": [
    {
     "data": {
      "text/html": [
       "<div>\n",
       "<table border=\"1\" class=\"dataframe\">\n",
       "  <thead>\n",
       "    <tr style=\"text-align: right;\">\n",
       "      <th></th>\n",
       "      <th>userId</th>\n",
       "      <th>createdAt</th>\n",
       "      <th>longitude</th>\n",
       "      <th>latitude</th>\n",
       "      <th>dayOfTweet</th>\n",
       "      <th>hashtag</th>\n",
       "      <th>approxLocation</th>\n",
       "    </tr>\n",
       "  </thead>\n",
       "  <tbody>\n",
       "    <tr>\n",
       "      <th>105</th>\n",
       "      <td>14657884</td>\n",
       "      <td>2010-03-07 10:15:03</td>\n",
       "      <td>6.14474</td>\n",
       "      <td>46.1958</td>\n",
       "      <td>2010-03-07</td>\n",
       "      <td>#fb</td>\n",
       "      <td>(46.196, 6.145)</td>\n",
       "    </tr>\n",
       "    <tr>\n",
       "      <th>109</th>\n",
       "      <td>17341045</td>\n",
       "      <td>2010-03-07 12:18:19</td>\n",
       "      <td>7.41919</td>\n",
       "      <td>46.9377</td>\n",
       "      <td>2010-03-07</td>\n",
       "      <td>#fb</td>\n",
       "      <td>(46.938, 7.419)</td>\n",
       "    </tr>\n",
       "    <tr>\n",
       "      <th>114</th>\n",
       "      <td>17341045</td>\n",
       "      <td>2010-03-07 17:43:44</td>\n",
       "      <td>7.41919</td>\n",
       "      <td>46.9377</td>\n",
       "      <td>2010-03-07</td>\n",
       "      <td>#fb</td>\n",
       "      <td>(46.938, 7.419)</td>\n",
       "    </tr>\n",
       "    <tr>\n",
       "      <th>116</th>\n",
       "      <td>13743402</td>\n",
       "      <td>2010-03-07 20:48:23</td>\n",
       "      <td>10.31670</td>\n",
       "      <td>47.7273</td>\n",
       "      <td>2010-03-07</td>\n",
       "      <td>#fb</td>\n",
       "      <td>(47.727, 10.317)</td>\n",
       "    </tr>\n",
       "    <tr>\n",
       "      <th>117</th>\n",
       "      <td>14657884</td>\n",
       "      <td>2010-03-07 22:51:16</td>\n",
       "      <td>6.14474</td>\n",
       "      <td>46.1958</td>\n",
       "      <td>2010-03-07</td>\n",
       "      <td>#fb</td>\n",
       "      <td>(46.196, 6.145)</td>\n",
       "    </tr>\n",
       "  </tbody>\n",
       "</table>\n",
       "</div>"
      ],
      "text/plain": [
       "       userId           createdAt  longitude  latitude  dayOfTweet hashtag  \\\n",
       "105  14657884 2010-03-07 10:15:03    6.14474   46.1958  2010-03-07     #fb   \n",
       "109  17341045 2010-03-07 12:18:19    7.41919   46.9377  2010-03-07     #fb   \n",
       "114  17341045 2010-03-07 17:43:44    7.41919   46.9377  2010-03-07     #fb   \n",
       "116  13743402 2010-03-07 20:48:23   10.31670   47.7273  2010-03-07     #fb   \n",
       "117  14657884 2010-03-07 22:51:16    6.14474   46.1958  2010-03-07     #fb   \n",
       "\n",
       "       approxLocation  \n",
       "105   (46.196, 6.145)  \n",
       "109   (46.938, 7.419)  \n",
       "114   (46.938, 7.419)  \n",
       "116  (47.727, 10.317)  \n",
       "117   (46.196, 6.145)  "
      ]
     },
     "execution_count": 16,
     "metadata": {},
     "output_type": "execute_result"
    }
   ],
   "source": [
    "# remove unnecessary column\n",
    "df.drop('numOfTweets', axis=1, inplace=True)\n",
    "# define accuracy according to DBSCAN's respective value\n",
    "accuracy = 3\n",
    "# reduce the accuracy\n",
    "df = df.apply(lambda row: reduce_location_accuracy(row, accuracy), axis=1)\n",
    "# display dataframe\n",
    "df.head()"
   ]
  },
  {
   "cell_type": "markdown",
   "metadata": {},
   "source": [
    "Our heuristic detects events using the reduced geolocated accuracy embedded in the <code>approxLocation</code> column. Thus, we group by day of tweet, hashtag and reduced location and try to detect events."
   ]
  },
  {
   "cell_type": "code",
   "execution_count": 17,
   "metadata": {
    "collapsed": false
   },
   "outputs": [],
   "source": [
    "# group by and count tweets per index\n",
    "df_grouped = df.groupby(by=['dayOfTweet', 'approxLocation', 'hashtag']).size()\n",
    "# give column meaningful name\n",
    "df_grouped = df_grouped.rename('numOfTweets')"
   ]
  },
  {
   "cell_type": "markdown",
   "metadata": {},
   "source": [
    "An event is considered to take place if at least 5 tweets are posted with the same hashtag, on the same day, from the same location. The rest records are filtered out."
   ]
  },
  {
   "cell_type": "code",
   "execution_count": 18,
   "metadata": {
    "collapsed": false
   },
   "outputs": [
    {
     "data": {
      "text/html": [
       "<div>\n",
       "<table border=\"1\" class=\"dataframe\">\n",
       "  <thead>\n",
       "    <tr style=\"text-align: right;\">\n",
       "      <th></th>\n",
       "      <th></th>\n",
       "      <th></th>\n",
       "      <th>numOfTweets</th>\n",
       "    </tr>\n",
       "    <tr>\n",
       "      <th>dayOfTweet</th>\n",
       "      <th>approxLocation</th>\n",
       "      <th>hashtag</th>\n",
       "      <th></th>\n",
       "    </tr>\n",
       "  </thead>\n",
       "  <tbody>\n",
       "    <tr>\n",
       "      <th>2010-03-22</th>\n",
       "      <th>(47.054, 8.311)</th>\n",
       "      <th>#4to7</th>\n",
       "      <td>6</td>\n",
       "    </tr>\n",
       "    <tr>\n",
       "      <th>2010-03-25</th>\n",
       "      <th>(47.365, 8.539)</th>\n",
       "      <th>#bosw</th>\n",
       "      <td>7</td>\n",
       "    </tr>\n",
       "    <tr>\n",
       "      <th>2010-05-29</th>\n",
       "      <th>(47.162, 8.291)</th>\n",
       "      <th>#esc</th>\n",
       "      <td>10</td>\n",
       "    </tr>\n",
       "    <tr>\n",
       "      <th>2010-06-03</th>\n",
       "      <th>(47.382, 8.536)</th>\n",
       "      <th>#twitref</th>\n",
       "      <td>6</td>\n",
       "    </tr>\n",
       "    <tr>\n",
       "      <th>2010-06-05</th>\n",
       "      <th>(47.667, 9.170)</th>\n",
       "      <th>#bcbs10</th>\n",
       "      <td>6</td>\n",
       "    </tr>\n",
       "  </tbody>\n",
       "</table>\n",
       "</div>"
      ],
      "text/plain": [
       "                                     numOfTweets\n",
       "dayOfTweet approxLocation  hashtag              \n",
       "2010-03-22 (47.054, 8.311) #4to7               6\n",
       "2010-03-25 (47.365, 8.539) #bosw               7\n",
       "2010-05-29 (47.162, 8.291) #esc               10\n",
       "2010-06-03 (47.382, 8.536) #twitref            6\n",
       "2010-06-05 (47.667, 9.170) #bcbs10             6"
      ]
     },
     "execution_count": 18,
     "metadata": {},
     "output_type": "execute_result"
    }
   ],
   "source": [
    "# filtering out rows with less than 5 tweets\n",
    "df_grouped = df_grouped[df_grouped >= min_tweets]\n",
    "# convert to frame (used later)\n",
    "df_grouped = df_grouped.to_frame()\n",
    "# display dataframe\n",
    "df_grouped.head()"
   ]
  },
  {
   "cell_type": "markdown",
   "metadata": {},
   "source": [
    "Now, we join the two aforementioned dataframes (<code>df</code> and <code>df_grouped</code>) and create a new one that contains the <code>numOfTweets</code> column. This column indicates how many are the tweets with the particular date, hashtag and approximate location of each row."
   ]
  },
  {
   "cell_type": "code",
   "execution_count": 19,
   "metadata": {
    "collapsed": false
   },
   "outputs": [
    {
     "data": {
      "text/html": [
       "<div>\n",
       "<table border=\"1\" class=\"dataframe\">\n",
       "  <thead>\n",
       "    <tr style=\"text-align: right;\">\n",
       "      <th></th>\n",
       "      <th>userId</th>\n",
       "      <th>dayOfTweet</th>\n",
       "      <th>approxLocation</th>\n",
       "      <th>hashtag</th>\n",
       "      <th>numOfTweets</th>\n",
       "    </tr>\n",
       "  </thead>\n",
       "  <tbody>\n",
       "    <tr>\n",
       "      <th>250</th>\n",
       "      <td>15596215</td>\n",
       "      <td>2010-03-22</td>\n",
       "      <td>(47.054, 8.311)</td>\n",
       "      <td>#4to7</td>\n",
       "      <td>6</td>\n",
       "    </tr>\n",
       "    <tr>\n",
       "      <th>284</th>\n",
       "      <td>15402923</td>\n",
       "      <td>2010-03-25</td>\n",
       "      <td>(47.365, 8.539)</td>\n",
       "      <td>#bosw</td>\n",
       "      <td>7</td>\n",
       "    </tr>\n",
       "    <tr>\n",
       "      <th>1024</th>\n",
       "      <td>1079931</td>\n",
       "      <td>2010-05-29</td>\n",
       "      <td>(47.162, 8.291)</td>\n",
       "      <td>#esc</td>\n",
       "      <td>10</td>\n",
       "    </tr>\n",
       "    <tr>\n",
       "      <th>1149</th>\n",
       "      <td>6848912</td>\n",
       "      <td>2010-06-03</td>\n",
       "      <td>(47.382, 8.536)</td>\n",
       "      <td>#twitref</td>\n",
       "      <td>6</td>\n",
       "    </tr>\n",
       "    <tr>\n",
       "      <th>1189</th>\n",
       "      <td>10517692</td>\n",
       "      <td>2010-06-05</td>\n",
       "      <td>(47.667, 9.170)</td>\n",
       "      <td>#bcbs10</td>\n",
       "      <td>6</td>\n",
       "    </tr>\n",
       "  </tbody>\n",
       "</table>\n",
       "</div>"
      ],
      "text/plain": [
       "        userId  dayOfTweet   approxLocation   hashtag  numOfTweets\n",
       "250   15596215  2010-03-22  (47.054, 8.311)     #4to7            6\n",
       "284   15402923  2010-03-25  (47.365, 8.539)     #bosw            7\n",
       "1024   1079931  2010-05-29  (47.162, 8.291)      #esc           10\n",
       "1149   6848912  2010-06-03  (47.382, 8.536)  #twitref            6\n",
       "1189  10517692  2010-06-05  (47.667, 9.170)   #bcbs10            6"
      ]
     },
     "execution_count": 19,
     "metadata": {},
     "output_type": "execute_result"
    }
   ],
   "source": [
    "# join the two dataframes\n",
    "joined_df = pd.merge(df, df_grouped, how='inner', left_on=['dayOfTweet', 'approxLocation', 'hashtag'], \n",
    "                     right_index=True)\n",
    "# keep necessary columns\n",
    "joined_df = joined_df[['userId', 'dayOfTweet', 'approxLocation', 'hashtag', 'numOfTweets']]\n",
    "# drop duplicate rows\n",
    "joined_df.drop_duplicates(inplace=True)\n",
    "# display dataframe\n",
    "joined_df.head()"
   ]
  },
  {
   "cell_type": "markdown",
   "metadata": {},
   "source": [
    "From now on, we follow exactly the same procedure as in the [DBSCAN](#dbscan) section. More concretely, we are going to find the number of users per event, flag it as a potential spam event and finally estimate the standard deviation of the timestamps of each event."
   ]
  },
  {
   "cell_type": "code",
   "execution_count": 20,
   "metadata": {
    "collapsed": false
   },
   "outputs": [
    {
     "data": {
      "text/html": [
       "<div>\n",
       "<table border=\"1\" class=\"dataframe\">\n",
       "  <thead>\n",
       "    <tr style=\"text-align: right;\">\n",
       "      <th></th>\n",
       "      <th>userId</th>\n",
       "      <th>dayOfTweet</th>\n",
       "      <th>approxLocation</th>\n",
       "      <th>hashtag</th>\n",
       "      <th>numOfTweets</th>\n",
       "      <th>spamEvent</th>\n",
       "      <th>usersPerHashtag</th>\n",
       "    </tr>\n",
       "  </thead>\n",
       "  <tbody>\n",
       "    <tr>\n",
       "      <th>250</th>\n",
       "      <td>15596215</td>\n",
       "      <td>2010-03-22</td>\n",
       "      <td>(47.054, 8.311)</td>\n",
       "      <td>#4to7</td>\n",
       "      <td>6</td>\n",
       "      <td>True</td>\n",
       "      <td>1</td>\n",
       "    </tr>\n",
       "    <tr>\n",
       "      <th>284</th>\n",
       "      <td>15402923</td>\n",
       "      <td>2010-03-25</td>\n",
       "      <td>(47.365, 8.539)</td>\n",
       "      <td>#bosw</td>\n",
       "      <td>7</td>\n",
       "      <td>True</td>\n",
       "      <td>1</td>\n",
       "    </tr>\n",
       "    <tr>\n",
       "      <th>1024</th>\n",
       "      <td>1079931</td>\n",
       "      <td>2010-05-29</td>\n",
       "      <td>(47.162, 8.291)</td>\n",
       "      <td>#esc</td>\n",
       "      <td>10</td>\n",
       "      <td>True</td>\n",
       "      <td>1</td>\n",
       "    </tr>\n",
       "    <tr>\n",
       "      <th>1149</th>\n",
       "      <td>6848912</td>\n",
       "      <td>2010-06-03</td>\n",
       "      <td>(47.382, 8.536)</td>\n",
       "      <td>#twitref</td>\n",
       "      <td>6</td>\n",
       "      <td>True</td>\n",
       "      <td>1</td>\n",
       "    </tr>\n",
       "    <tr>\n",
       "      <th>1189</th>\n",
       "      <td>10517692</td>\n",
       "      <td>2010-06-05</td>\n",
       "      <td>(47.667, 9.170)</td>\n",
       "      <td>#bcbs10</td>\n",
       "      <td>6</td>\n",
       "      <td>True</td>\n",
       "      <td>1</td>\n",
       "    </tr>\n",
       "  </tbody>\n",
       "</table>\n",
       "</div>"
      ],
      "text/plain": [
       "        userId  dayOfTweet   approxLocation   hashtag  numOfTweets spamEvent  \\\n",
       "250   15596215  2010-03-22  (47.054, 8.311)     #4to7            6      True   \n",
       "284   15402923  2010-03-25  (47.365, 8.539)     #bosw            7      True   \n",
       "1024   1079931  2010-05-29  (47.162, 8.291)      #esc           10      True   \n",
       "1149   6848912  2010-06-03  (47.382, 8.536)  #twitref            6      True   \n",
       "1189  10517692  2010-06-05  (47.667, 9.170)   #bcbs10            6      True   \n",
       "\n",
       "      usersPerHashtag  \n",
       "250                 1  \n",
       "284                 1  \n",
       "1024                1  \n",
       "1149                1  \n",
       "1189                1  "
      ]
     },
     "execution_count": 20,
     "metadata": {},
     "output_type": "execute_result"
    }
   ],
   "source": [
    "# find users per event\n",
    "users_per_hashtag = joined_df.groupby(by=['hashtag', 'dayOfTweet', 'approxLocation']).size()\n",
    "# detect potential spam events\n",
    "joined_df = joined_df.apply(lambda row: spam_events(row, users_per_hashtag, spammer_threshold), axis=1)\n",
    "# display dataframe\n",
    "joined_df.head()"
   ]
  },
  {
   "cell_type": "markdown",
   "metadata": {},
   "source": [
    "Once the users per event and the potential spam events are determined, we continue by determining the standard deviation of the timestamps for each event."
   ]
  },
  {
   "cell_type": "code",
   "execution_count": 21,
   "metadata": {
    "collapsed": false
   },
   "outputs": [
    {
     "data": {
      "text/html": [
       "<div>\n",
       "<table border=\"1\" class=\"dataframe\">\n",
       "  <thead>\n",
       "    <tr style=\"text-align: right;\">\n",
       "      <th></th>\n",
       "      <th>dayOfTweet</th>\n",
       "      <th>approxLocation</th>\n",
       "      <th>hashtag</th>\n",
       "      <th>numOfTweets</th>\n",
       "      <th>spamEvent</th>\n",
       "      <th>usersPerHashtag</th>\n",
       "      <th>std</th>\n",
       "    </tr>\n",
       "  </thead>\n",
       "  <tbody>\n",
       "    <tr>\n",
       "      <th>3872</th>\n",
       "      <td>2010-10-20</td>\n",
       "      <td>(47.383, 8.536)</td>\n",
       "      <td>#tedxzh</td>\n",
       "      <td>5</td>\n",
       "      <td>False</td>\n",
       "      <td>3</td>\n",
       "      <td>150.121354</td>\n",
       "    </tr>\n",
       "    <tr>\n",
       "      <th>5361</th>\n",
       "      <td>2010-12-10</td>\n",
       "      <td>(47.561, 9.637)</td>\n",
       "      <td>#wikileaks</td>\n",
       "      <td>6</td>\n",
       "      <td>True</td>\n",
       "      <td>1</td>\n",
       "      <td>409.519460</td>\n",
       "    </tr>\n",
       "    <tr>\n",
       "      <th>3454</th>\n",
       "      <td>2010-10-07</td>\n",
       "      <td>(46.289, 7.972)</td>\n",
       "      <td>#fb</td>\n",
       "      <td>5</td>\n",
       "      <td>True</td>\n",
       "      <td>1</td>\n",
       "      <td>196.806522</td>\n",
       "    </tr>\n",
       "    <tr>\n",
       "      <th>1189</th>\n",
       "      <td>2010-06-05</td>\n",
       "      <td>(47.667, 9.170)</td>\n",
       "      <td>#bcbs10</td>\n",
       "      <td>6</td>\n",
       "      <td>True</td>\n",
       "      <td>1</td>\n",
       "      <td>140.369478</td>\n",
       "    </tr>\n",
       "    <tr>\n",
       "      <th>1589</th>\n",
       "      <td>2010-06-24</td>\n",
       "      <td>(47.412, 8.552)</td>\n",
       "      <td>#swisscrmforum</td>\n",
       "      <td>7</td>\n",
       "      <td>True</td>\n",
       "      <td>1</td>\n",
       "      <td>130.419359</td>\n",
       "    </tr>\n",
       "  </tbody>\n",
       "</table>\n",
       "</div>"
      ],
      "text/plain": [
       "      dayOfTweet   approxLocation         hashtag  numOfTweets spamEvent  \\\n",
       "3872  2010-10-20  (47.383, 8.536)         #tedxzh            5     False   \n",
       "5361  2010-12-10  (47.561, 9.637)      #wikileaks            6      True   \n",
       "3454  2010-10-07  (46.289, 7.972)             #fb            5      True   \n",
       "1189  2010-06-05  (47.667, 9.170)         #bcbs10            6      True   \n",
       "1589  2010-06-24  (47.412, 8.552)  #swisscrmforum            7      True   \n",
       "\n",
       "      usersPerHashtag         std  \n",
       "3872                3  150.121354  \n",
       "5361                1  409.519460  \n",
       "3454                1  196.806522  \n",
       "1189                1  140.369478  \n",
       "1589                1  130.419359  "
      ]
     },
     "execution_count": 21,
     "metadata": {},
     "output_type": "execute_result"
    }
   ],
   "source": [
    "# estimate std for each event\n",
    "std_dict = std_of_events(df)\n",
    "# fill std value to the dataframe\n",
    "event_detection = joined_df.apply(lambda row: fill_std(row, std_dict), axis=1)\n",
    "# sort dataframe\n",
    "event_detection.sort(columns = ['usersPerHashtag', 'std'], inplace=True, axis=0, ascending=False)\n",
    "# drop unnecessary columns\n",
    "event_detection.drop('userId', axis=1, inplace=True)\n",
    "# drop duplicates\n",
    "event_detection.drop_duplicates(subset=['dayOfTweet', 'approxLocation', 'hashtag'], inplace=True)\n",
    "# save dataframe\n",
    "file_name = '../../data/detected_events_heuristic_' + year + '.csv'\n",
    "event_detection.to_csv(file_name, sep='|')\n",
    "# display dataframe\n",
    "event_detection.head()"
   ]
  },
  {
   "cell_type": "markdown",
   "metadata": {},
   "source": [
    "<a name=\"non_spam_heuristic\"></a>\n",
    "Here, we create a list of all the events detected using the heuristic, and print those that are not spam events. The respective list of detected non spam events using DBSCAN is given [here](#non_spam_dbscan)."
   ]
  },
  {
   "cell_type": "code",
   "execution_count": 22,
   "metadata": {
    "collapsed": false
   },
   "outputs": [
    {
     "name": "stdout",
     "output_type": "stream",
     "text": [
      "Date:  2010-10-20 \t Hashtag:  #tedxzh\n"
     ]
    }
   ],
   "source": [
    "# list of all events\n",
    "list_of_events_heuristic = []\n",
    "# list of non spam events for heuristic\n",
    "heuristic_non_spam = []\n",
    "for event in event_detection.iterrows():\n",
    "    spam = event[1][4]\n",
    "    date = event[1][0]\n",
    "    hashtag = event[1][2]\n",
    "    approxLocation = event[1][1]\n",
    "    list_of_events_heuristic.append((date, hashtag, approxLocation))\n",
    "    # print those that are not spam\n",
    "    if not spam:\n",
    "        # append to list and print\n",
    "        heuristic_non_spam.append((date, hashtag))\n",
    "        print('Date: ', date, '\\t', 'Hashtag: ', hashtag)"
   ]
  },
  {
   "cell_type": "markdown",
   "metadata": {},
   "source": [
    "### Comparing the two Methods\n",
    "\n",
    "Here, we provide a comparison of the two methods, given their results. The analysis is done using:\n",
    "* the full list of events\n",
    "* the reduced list of events after filtering the non spam events"
   ]
  },
  {
   "cell_type": "code",
   "execution_count": 23,
   "metadata": {
    "collapsed": false
   },
   "outputs": [
    {
     "name": "stdout",
     "output_type": "stream",
     "text": [
      "Number of events detected with DBSCAN =  12\n",
      "Number of events detected with heuristic =  20\n",
      "---------------------------------------------\n",
      "The two methods found 11 events in common\n",
      "Common events:\n",
      "('2010-06-05', '#bcbs10')\n",
      "('2010-12-06', '#tedxgeneva')\n",
      "('2010-12-08', '#iabc')\n",
      "('2010-10-20', '#tedxzh')\n",
      "('2010-06-24', '#swisscrmforum')\n",
      "('2010-12-08', '#switzerland')\n",
      "('2010-05-29', '#esc')\n",
      "('2010-12-03', '#ff')\n",
      "('2010-10-15', '#gotthard')\n",
      "('2010-03-25', '#bosw')\n",
      "('2010-10-07', '#fb')\n",
      "---------------------------------------------\n",
      "Found only by DBSCAN:\n",
      "('2010-04-19', '#sechselaeuten')\n",
      "---------------------------------------------\n",
      "Found only by heuristic:\n",
      "('2010-12-10', '#wikileaks')\n",
      "('2010-11-30', '#jmstv')\n",
      "('2010-11-19', '#fb')\n",
      "('2010-11-19', '#mannechoched')\n",
      "('2010-12-01', '#jmstv')\n",
      "('2010-03-22', '#4to7')\n",
      "('2010-06-03', '#twitref')\n",
      "('2010-11-03', '#smgzh')\n",
      "('2010-12-06', '#onerepulic')\n"
     ]
    }
   ],
   "source": [
    "analyse_performance(list_of_events_dbscan, list_of_events_heuristic)"
   ]
  },
  {
   "cell_type": "markdown",
   "metadata": {},
   "source": [
    "Now, we do the same analysis by using only events that are flagged as non spam."
   ]
  },
  {
   "cell_type": "code",
   "execution_count": 24,
   "metadata": {
    "collapsed": false,
    "scrolled": true
   },
   "outputs": [
    {
     "name": "stdout",
     "output_type": "stream",
     "text": [
      "Number of events detected with DBSCAN =  6\n",
      "Number of events detected with heuristic =  1\n",
      "---------------------------------------------\n",
      "The two methods found 1 events in common\n",
      "Common events:\n",
      "('2010-10-20', '#tedxzh')\n",
      "---------------------------------------------\n",
      "Found only by DBSCAN:\n",
      "('2010-10-15', '#gotthard')\n",
      "('2010-05-29', '#esc')\n",
      "('2010-10-07', '#fb')\n",
      "('2010-12-06', '#tedxgeneva')\n",
      "('2010-12-03', '#ff')\n",
      "---------------------------------------------\n",
      "Found only by heuristic:\n",
      "\n"
     ]
    }
   ],
   "source": [
    "analyse_performance(dbscan_non_spam, heuristic_non_spam)"
   ]
  },
  {
   "cell_type": "markdown",
   "metadata": {},
   "source": [
    "### Commenting on the Results\n",
    "\n",
    "In many cases, we see that the heuristic approach captures more events than the DBSCAN. However, in the case of detecting non spam events DBSCAN does a better job and detects more events. Here, we give a possible explanation.\n",
    "\n",
    "**Why does DBSCAN capture less non-spam events?**\n",
    "\n",
    "DBSCAN searches in a circular area around each point to detect neighbors and form clusters. However, the heuristic uses squared areas around each point. Therefore, the area covered by the heuristic is bigger and may include more points, and thus more probable events. Hence, the heuristic is able of capturing more events in the case where no spam filtering is used. Events ara flagged as spam if only one user tweets about them.\n",
    "\n",
    "**Why does DBSCAN capture more events when spam filtering is used?**\n",
    "\n",
    "With DBSCAN, once the cluster is formed, it expands as long as data points are close to the cluster, i.e. close data points are merged into a single cluster. The heuristic approach cannot merge neighboring clusters. It can be the case that two different users form two different clusters and tweet about the same event. DBSCAN will create a single cluster out of this with two users in a single cluster, whereas the heuristic will create one cluster for each user. Thus, the event will be flagged as spam and non-spam in the case of the heuristic approach and DBSCAN respectively."
   ]
  },
  {
   "cell_type": "markdown",
   "metadata": {},
   "source": [
    "## Visualizing Events"
   ]
  },
  {
   "cell_type": "markdown",
   "metadata": {},
   "source": [
    "Finally, we provide of visualization of the non spam events detected using DBSCAN"
   ]
  },
  {
   "cell_type": "code",
   "execution_count": 25,
   "metadata": {
    "collapsed": false
   },
   "outputs": [
    {
     "data": {
      "text/html": [
       "<div style=\"width:100%;\"><div style=\"position:relative;width:100%;height:0;padding-bottom:60%;\"><iframe src=\"data:text/html;base64,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\" style=\"position:absolute;width:100%;height:100%;left:0;top:0;\"></iframe></div></div>"
      ],
      "text/plain": [
       "<folium.folium.Map at 0x7f5f1d339710>"
      ]
     },
     "execution_count": 25,
     "metadata": {},
     "output_type": "execute_result"
    }
   ],
   "source": [
    "# coordinates of the events\n",
    "coord = new_df['approxLocation'].values.tolist()\n",
    "# visualize non spam events\n",
    "event_map = create_event_map(year, coord, new_df['hashtag'].tolist(), \n",
    "                             new_df['spamEvent'].tolist(), new_df['usersPerHashtag'].tolist())\n",
    "event_map"
   ]
  }
 ],
 "metadata": {
  "anaconda-cloud": {},
  "kernelspec": {
   "display_name": "Python [Root]",
   "language": "python",
   "name": "Python [Root]"
  },
  "language_info": {
   "codemirror_mode": {
    "name": "ipython",
    "version": 3
   },
   "file_extension": ".py",
   "mimetype": "text/x-python",
   "name": "python",
   "nbconvert_exporter": "python",
   "pygments_lexer": "ipython3",
   "version": "3.5.2"
  }
 },
 "nbformat": 4,
 "nbformat_minor": 0
}
