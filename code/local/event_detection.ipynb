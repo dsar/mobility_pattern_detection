{
 "cells": [
  {
   "cell_type": "markdown",
   "metadata": {},
   "source": [
    "# Applied Data Analysis\n",
    "## Fall semester 2016\n",
    "\n",
    "Team members:\n",
    "* Stylianos Agapiou (stylianos.agapiou@epfl.ch)\n",
    "* Athanasios Giannakopoulos (athanasios.giannakopoulos@epfl.ch)\n",
    "* Dimitrios Sarigiannis (dimitrios.sarigiannis@epfl.ch)"
   ]
  },
  {
   "cell_type": "markdown",
   "metadata": {},
   "source": [
    "## Project description\n",
    "\n",
    "We are given a dataset containing tweets in Switzerland starting from 2010. \n",
    "\n",
    "The first goal of the project is to analyse the data and reconstruct mobility flows of the users. More concretely, we try to get insights into high-frequency migration patterns in the swiss territory. The implementation is given in [mobility_patterns](mobility_patterns.ipynb)\n",
    "\n",
    "The second task of the project is to detect events. Here, we focus on dates and locations of such events. The implementation in given in [event_detection](event_detection.ipynb).\n",
    "\n",
    "\n",
    "<a name=\"users_std\"></a>\n",
    "## Event Detection\n",
    "\n",
    "This notebook focuses on event detection in the Switzerland. Specifically, we perform the following tasks using the given dataset:\n",
    "\n",
    "* we try to determine the location and date of an event using two methods:\n",
    "        1. the first method uses DBSCAN for event detection\n",
    "        2. the second method uses a heuristic approach\n",
    "* we determine the number of users per event. This is a strong indication of a real event. This is a counter-measure against spammers. People often tweet about the same subject for several times during one day. Our methods are agnostic to that so these tweets reveal an event. However, by counting the number of users per event, we can identify events created by spammers (i.e. one user) and if necessary filter these events out\n",
    "\n",
    "* Finally, we measure the standard deviation of the time of tweets that describe the same event. A small standard deviation means that the tweets are sent in a short timeframe. However, a big standard deviation means that the tweets are spread thoughout the day. An event may last for a few hours, thus a small standard deviation is more likely to reveal an event.\n",
    "\n",
    "In order to detect events, several assumptions are taken into account. These assumptions are described in detail later in the report."
   ]
  },
  {
   "cell_type": "code",
   "execution_count": 1,
   "metadata": {
    "collapsed": false
   },
   "outputs": [],
   "source": [
    "%matplotlib inline\n",
    "from libraries import *\n",
    "from utils_event_detection import *"
   ]
  },
  {
   "cell_type": "code",
   "execution_count": 2,
   "metadata": {
    "collapsed": true
   },
   "outputs": [],
   "source": [
    "dateparse = lambda date: pd.datetime.strptime(date, '%Y-%m-%d %H:%M:%S')"
   ]
  },
  {
   "cell_type": "markdown",
   "metadata": {},
   "source": [
    "### Data loading\n",
    "\n",
    "Since our dataset contains tweets from 2010 to 2016, we decide to do a yearly based analysis. This approach gives us the following advantages:\n",
    "* the yearly analysis reveals how people use Twitter as time evolves (e.g. social networks become more popular, so it is probable that people used Twitter more in 2013 compared to 2010)\n",
    "* we detect events in a yearly basis"
   ]
  },
  {
   "cell_type": "code",
   "execution_count": 3,
   "metadata": {
    "collapsed": false
   },
   "outputs": [
    {
     "data": {
      "text/html": [
       "<div>\n",
       "<table border=\"1\" class=\"dataframe\">\n",
       "  <thead>\n",
       "    <tr style=\"text-align: right;\">\n",
       "      <th></th>\n",
       "      <th>userId</th>\n",
       "      <th>createdAt</th>\n",
       "      <th>text</th>\n",
       "    </tr>\n",
       "    <tr>\n",
       "      <th>tweetId</th>\n",
       "      <th></th>\n",
       "      <th></th>\n",
       "      <th></th>\n",
       "    </tr>\n",
       "  </thead>\n",
       "  <tbody>\n",
       "    <tr>\n",
       "      <th>20992627776159744</th>\n",
       "      <td>15017105</td>\n",
       "      <td>2011-01-01 00:00:07</td>\n",
       "      <td>Viel Glück und Erfolg zum Neuen Jahr! Denk vor...</td>\n",
       "    </tr>\n",
       "    <tr>\n",
       "      <th>20994063574499328</th>\n",
       "      <td>994621</td>\n",
       "      <td>2011-01-01 00:05:49</td>\n",
       "      <td>270 GB via Online #Backup Service #crashplan h...</td>\n",
       "    </tr>\n",
       "    <tr>\n",
       "      <th>20999004200370176</th>\n",
       "      <td>5908302</td>\n",
       "      <td>2011-01-01 00:25:27</td>\n",
       "      <td>@filonia isch eh frau schwanger wenn sie en gu...</td>\n",
       "    </tr>\n",
       "    <tr>\n",
       "      <th>20999904390291457</th>\n",
       "      <td>13994272</td>\n",
       "      <td>2011-01-01 00:29:02</td>\n",
       "      <td>@thegooroo thx ;)</td>\n",
       "    </tr>\n",
       "    <tr>\n",
       "      <th>21001985117388800</th>\n",
       "      <td>13448872</td>\n",
       "      <td>2011-01-01 00:37:18</td>\n",
       "      <td>@natts ^_^ Happy New Year to you too! =)</td>\n",
       "    </tr>\n",
       "  </tbody>\n",
       "</table>\n",
       "</div>"
      ],
      "text/plain": [
       "                     userId           createdAt  \\\n",
       "tweetId                                           \n",
       "20992627776159744  15017105 2011-01-01 00:00:07   \n",
       "20994063574499328    994621 2011-01-01 00:05:49   \n",
       "20999004200370176   5908302 2011-01-01 00:25:27   \n",
       "20999904390291457  13994272 2011-01-01 00:29:02   \n",
       "21001985117388800  13448872 2011-01-01 00:37:18   \n",
       "\n",
       "                                                                text  \n",
       "tweetId                                                               \n",
       "20992627776159744  Viel Glück und Erfolg zum Neuen Jahr! Denk vor...  \n",
       "20994063574499328  270 GB via Online #Backup Service #crashplan h...  \n",
       "20999004200370176  @filonia isch eh frau schwanger wenn sie en gu...  \n",
       "20999904390291457                                  @thegooroo thx ;)  \n",
       "21001985117388800           @natts ^_^ Happy New Year to you too! =)  "
      ]
     },
     "execution_count": 3,
     "metadata": {},
     "output_type": "execute_result"
    }
   ],
   "source": [
    "# year to be analyzed\n",
    "year = '2011'\n",
    "# file name\n",
    "file_name = '../../data/tweets_with_text_' + year + '.csv'\n",
    "# loading data (treating NaN values and datetime format)\n",
    "data = pd.read_csv(file_name, sep='|', na_values=['\\\\N'], header=None, parse_dates=[2], date_parser=dateparse)\n",
    "# give proper names to columns\n",
    "data.columns = ['tweetId', 'userId', 'createdAt', 'text']\n",
    "# set tweet ID as index\n",
    "data.set_index('tweetId', inplace=True)\n",
    "# display dataframe\n",
    "data.head()"
   ]
  },
  {
   "cell_type": "markdown",
   "metadata": {
    "collapsed": false
   },
   "source": [
    "We also load the materialized dataframe from the [mobility_patterns](mobility_patterns.ipynb) file. This contains geolocated information about every tweet."
   ]
  },
  {
   "cell_type": "code",
   "execution_count": 4,
   "metadata": {
    "collapsed": false
   },
   "outputs": [],
   "source": [
    "file_name = '../../data/processed_tweets_' + year + '.csv'\n",
    "tweets = pd.read_csv(file_name, sep='|', index_col='tweetId', \n",
    "                     parse_dates=[2], date_parser=dateparse)"
   ]
  },
  {
   "cell_type": "markdown",
   "metadata": {},
   "source": [
    "Using index matching, we put the tweet text in the <code>tweets</code> dataframe and drop any rows that do not contain text."
   ]
  },
  {
   "cell_type": "code",
   "execution_count": 5,
   "metadata": {
    "collapsed": false
   },
   "outputs": [
    {
     "data": {
      "text/html": [
       "<div>\n",
       "<table border=\"1\" class=\"dataframe\">\n",
       "  <thead>\n",
       "    <tr style=\"text-align: right;\">\n",
       "      <th></th>\n",
       "      <th>userId</th>\n",
       "      <th>createdAt</th>\n",
       "      <th>longitude</th>\n",
       "      <th>latitude</th>\n",
       "      <th>atWork</th>\n",
       "      <th>hourOfTweet</th>\n",
       "      <th>text</th>\n",
       "    </tr>\n",
       "    <tr>\n",
       "      <th>tweetId</th>\n",
       "      <th></th>\n",
       "      <th></th>\n",
       "      <th></th>\n",
       "      <th></th>\n",
       "      <th></th>\n",
       "      <th></th>\n",
       "      <th></th>\n",
       "    </tr>\n",
       "  </thead>\n",
       "  <tbody>\n",
       "    <tr>\n",
       "      <th>20992627776159744</th>\n",
       "      <td>15017105</td>\n",
       "      <td>2011-01-01 00:00:07</td>\n",
       "      <td>9.45234</td>\n",
       "      <td>47.3597</td>\n",
       "      <td>False</td>\n",
       "      <td>0</td>\n",
       "      <td>Viel Glück und Erfolg zum Neuen Jahr! Denk vor...</td>\n",
       "    </tr>\n",
       "    <tr>\n",
       "      <th>20994063574499328</th>\n",
       "      <td>994621</td>\n",
       "      <td>2011-01-01 00:05:49</td>\n",
       "      <td>8.50139</td>\n",
       "      <td>47.4030</td>\n",
       "      <td>False</td>\n",
       "      <td>0</td>\n",
       "      <td>270 GB via Online #Backup Service #crashplan h...</td>\n",
       "    </tr>\n",
       "    <tr>\n",
       "      <th>20999004200370176</th>\n",
       "      <td>5908302</td>\n",
       "      <td>2011-01-01 00:25:27</td>\n",
       "      <td>8.40702</td>\n",
       "      <td>47.4242</td>\n",
       "      <td>False</td>\n",
       "      <td>0</td>\n",
       "      <td>@filonia isch eh frau schwanger wenn sie en gu...</td>\n",
       "    </tr>\n",
       "    <tr>\n",
       "      <th>20999904390291457</th>\n",
       "      <td>13994272</td>\n",
       "      <td>2011-01-01 00:29:02</td>\n",
       "      <td>7.47791</td>\n",
       "      <td>47.1382</td>\n",
       "      <td>False</td>\n",
       "      <td>0</td>\n",
       "      <td>@thegooroo thx ;)</td>\n",
       "    </tr>\n",
       "    <tr>\n",
       "      <th>21004302428405760</th>\n",
       "      <td>11855622</td>\n",
       "      <td>2011-01-01 00:46:30</td>\n",
       "      <td>8.27334</td>\n",
       "      <td>47.3663</td>\n",
       "      <td>False</td>\n",
       "      <td>0</td>\n",
       "      <td>Happy New Year ! (@ Büchel's) http://4sq.com/g...</td>\n",
       "    </tr>\n",
       "  </tbody>\n",
       "</table>\n",
       "</div>"
      ],
      "text/plain": [
       "                     userId           createdAt  longitude  latitude atWork  \\\n",
       "tweetId                                                                       \n",
       "20992627776159744  15017105 2011-01-01 00:00:07    9.45234   47.3597  False   \n",
       "20994063574499328    994621 2011-01-01 00:05:49    8.50139   47.4030  False   \n",
       "20999004200370176   5908302 2011-01-01 00:25:27    8.40702   47.4242  False   \n",
       "20999904390291457  13994272 2011-01-01 00:29:02    7.47791   47.1382  False   \n",
       "21004302428405760  11855622 2011-01-01 00:46:30    8.27334   47.3663  False   \n",
       "\n",
       "                   hourOfTweet  \\\n",
       "tweetId                          \n",
       "20992627776159744            0   \n",
       "20994063574499328            0   \n",
       "20999004200370176            0   \n",
       "20999904390291457            0   \n",
       "21004302428405760            0   \n",
       "\n",
       "                                                                text  \n",
       "tweetId                                                               \n",
       "20992627776159744  Viel Glück und Erfolg zum Neuen Jahr! Denk vor...  \n",
       "20994063574499328  270 GB via Online #Backup Service #crashplan h...  \n",
       "20999004200370176  @filonia isch eh frau schwanger wenn sie en gu...  \n",
       "20999904390291457                                  @thegooroo thx ;)  \n",
       "21004302428405760  Happy New Year ! (@ Büchel's) http://4sq.com/g...  "
      ]
     },
     "execution_count": 5,
     "metadata": {},
     "output_type": "execute_result"
    }
   ],
   "source": [
    "# create text column in the tweets dataframe\n",
    "tweets['text'] = data['text']\n",
    "# drop NaN rows\n",
    "tweets = tweets.dropna(subset=['text'])\n",
    "# display dataframe\n",
    "tweets.head()"
   ]
  },
  {
   "cell_type": "markdown",
   "metadata": {},
   "source": [
    "<a name=\"requirements\"></a>\n",
    "### Data Preprocessing\n",
    "\n",
    "We try to detect events using the tweet text and the geolocated information. Our analysis is based on the following assumptions:\n",
    "\n",
    "* events should happen during one day and all tweets that describe one particular event should have the same date\n",
    "* the tweet text should contain at least one hashtag that may describe the event\n",
    "* in order to detect an event, we need at least 5 tweets with the same hashtag on a particular day\n",
    "* we are interested in detecting events using geolocated information, therefore events should be posted in approximately the same location. We assume that events take place in a small area. To detect event, we reduce the accuracy of the GPS location, as described [here](https://en.wikipedia.org/wiki/Decimal_degrees).\n",
    "\n",
    "We start by finding the day of each tweet using the given timestamp. Then we find all hashtags for each tweet. In case the tweet text does not contain any hashtags, we assume that the respective tweet does refer to any event and therefore we remove it."
   ]
  },
  {
   "cell_type": "code",
   "execution_count": 6,
   "metadata": {
    "collapsed": false
   },
   "outputs": [
    {
     "data": {
      "text/html": [
       "<div>\n",
       "<table border=\"1\" class=\"dataframe\">\n",
       "  <thead>\n",
       "    <tr style=\"text-align: right;\">\n",
       "      <th></th>\n",
       "      <th>userId</th>\n",
       "      <th>createdAt</th>\n",
       "      <th>longitude</th>\n",
       "      <th>latitude</th>\n",
       "      <th>atWork</th>\n",
       "      <th>hourOfTweet</th>\n",
       "      <th>text</th>\n",
       "      <th>dayOfTweet</th>\n",
       "      <th>hashtags</th>\n",
       "    </tr>\n",
       "    <tr>\n",
       "      <th>tweetId</th>\n",
       "      <th></th>\n",
       "      <th></th>\n",
       "      <th></th>\n",
       "      <th></th>\n",
       "      <th></th>\n",
       "      <th></th>\n",
       "      <th></th>\n",
       "      <th></th>\n",
       "      <th></th>\n",
       "    </tr>\n",
       "  </thead>\n",
       "  <tbody>\n",
       "    <tr>\n",
       "      <th>20992627776159744</th>\n",
       "      <td>15017105</td>\n",
       "      <td>2011-01-01 00:00:07</td>\n",
       "      <td>9.45234</td>\n",
       "      <td>47.3597</td>\n",
       "      <td>False</td>\n",
       "      <td>0</td>\n",
       "      <td>Viel Glück und Erfolg zum Neuen Jahr! Denk vor...</td>\n",
       "      <td>2011-01-01</td>\n",
       "      <td>{#2011, #fb}</td>\n",
       "    </tr>\n",
       "    <tr>\n",
       "      <th>20994063574499328</th>\n",
       "      <td>994621</td>\n",
       "      <td>2011-01-01 00:05:49</td>\n",
       "      <td>8.50139</td>\n",
       "      <td>47.4030</td>\n",
       "      <td>False</td>\n",
       "      <td>0</td>\n",
       "      <td>270 GB via Online #Backup Service #crashplan h...</td>\n",
       "      <td>2011-01-01</td>\n",
       "      <td>{#crashplan, #Backup}</td>\n",
       "    </tr>\n",
       "    <tr>\n",
       "      <th>21045134586028033</th>\n",
       "      <td>16002522</td>\n",
       "      <td>2011-01-01 03:28:45</td>\n",
       "      <td>8.52493</td>\n",
       "      <td>47.3742</td>\n",
       "      <td>False</td>\n",
       "      <td>3</td>\n",
       "      <td>Happy New Year allerseits an diesem ersten #bi...</td>\n",
       "      <td>2011-01-01</td>\n",
       "      <td>{#binaryday, #010111}</td>\n",
       "    </tr>\n",
       "    <tr>\n",
       "      <th>21129290997309440</th>\n",
       "      <td>2129311</td>\n",
       "      <td>2011-01-01 09:03:10</td>\n",
       "      <td>8.53733</td>\n",
       "      <td>47.3794</td>\n",
       "      <td>False</td>\n",
       "      <td>9</td>\n",
       "      <td>@sicher at least you slept... #headinghome</td>\n",
       "      <td>2011-01-01</td>\n",
       "      <td>{#headinghome}</td>\n",
       "    </tr>\n",
       "    <tr>\n",
       "      <th>21144723334889472</th>\n",
       "      <td>14201145</td>\n",
       "      <td>2011-01-01 10:04:29</td>\n",
       "      <td>6.13827</td>\n",
       "      <td>45.9435</td>\n",
       "      <td>False</td>\n",
       "      <td>10</td>\n",
       "      <td>2K10 was a fantastic yeAR, but it ll be nothin...</td>\n",
       "      <td>2011-01-01</td>\n",
       "      <td>{#ARevolution, #hpsc}</td>\n",
       "    </tr>\n",
       "  </tbody>\n",
       "</table>\n",
       "</div>"
      ],
      "text/plain": [
       "                     userId           createdAt  longitude  latitude atWork  \\\n",
       "tweetId                                                                       \n",
       "20992627776159744  15017105 2011-01-01 00:00:07    9.45234   47.3597  False   \n",
       "20994063574499328    994621 2011-01-01 00:05:49    8.50139   47.4030  False   \n",
       "21045134586028033  16002522 2011-01-01 03:28:45    8.52493   47.3742  False   \n",
       "21129290997309440   2129311 2011-01-01 09:03:10    8.53733   47.3794  False   \n",
       "21144723334889472  14201145 2011-01-01 10:04:29    6.13827   45.9435  False   \n",
       "\n",
       "                   hourOfTweet  \\\n",
       "tweetId                          \n",
       "20992627776159744            0   \n",
       "20994063574499328            0   \n",
       "21045134586028033            3   \n",
       "21129290997309440            9   \n",
       "21144723334889472           10   \n",
       "\n",
       "                                                                text  \\\n",
       "tweetId                                                                \n",
       "20992627776159744  Viel Glück und Erfolg zum Neuen Jahr! Denk vor...   \n",
       "20994063574499328  270 GB via Online #Backup Service #crashplan h...   \n",
       "21045134586028033  Happy New Year allerseits an diesem ersten #bi...   \n",
       "21129290997309440         @sicher at least you slept... #headinghome   \n",
       "21144723334889472  2K10 was a fantastic yeAR, but it ll be nothin...   \n",
       "\n",
       "                   dayOfTweet               hashtags  \n",
       "tweetId                                               \n",
       "20992627776159744  2011-01-01           {#2011, #fb}  \n",
       "20994063574499328  2011-01-01  {#crashplan, #Backup}  \n",
       "21045134586028033  2011-01-01  {#binaryday, #010111}  \n",
       "21129290997309440  2011-01-01         {#headinghome}  \n",
       "21144723334889472  2011-01-01  {#ARevolution, #hpsc}  "
      ]
     },
     "execution_count": 6,
     "metadata": {},
     "output_type": "execute_result"
    }
   ],
   "source": [
    "# find day of tweet\n",
    "tweets['dayOfTweet'] = tweets.apply(lambda row :parse_day_of_tweet(row['createdAt']), axis=1)\n",
    "# find hashtags for each tweet\n",
    "tweets['hashtags'] = tweets['text'].apply(lambda row: keep_hashtags(row))\n",
    "# remove rows without hashtags\n",
    "tweets.dropna(subset=['hashtags'], inplace=True)\n",
    "# display dataframe\n",
    "tweets.head()"
   ]
  },
  {
   "cell_type": "markdown",
   "metadata": {
    "collapsed": true
   },
   "source": [
    "It is possible that a row contains more than one hashtags. Here, we create duplicates for such rows. We wish to have one hashtag per row."
   ]
  },
  {
   "cell_type": "code",
   "execution_count": 7,
   "metadata": {
    "collapsed": false
   },
   "outputs": [
    {
     "data": {
      "text/html": [
       "<div>\n",
       "<table border=\"1\" class=\"dataframe\">\n",
       "  <thead>\n",
       "    <tr style=\"text-align: right;\">\n",
       "      <th></th>\n",
       "      <th>userId</th>\n",
       "      <th>createdAt</th>\n",
       "      <th>longitude</th>\n",
       "      <th>latitude</th>\n",
       "      <th>dayOfTweet</th>\n",
       "      <th>hashtag</th>\n",
       "    </tr>\n",
       "  </thead>\n",
       "  <tbody>\n",
       "    <tr>\n",
       "      <th>0</th>\n",
       "      <td>15017105</td>\n",
       "      <td>2011-01-01 00:00:07</td>\n",
       "      <td>9.45234</td>\n",
       "      <td>47.3597</td>\n",
       "      <td>2011-01-01</td>\n",
       "      <td>#2011</td>\n",
       "    </tr>\n",
       "    <tr>\n",
       "      <th>1</th>\n",
       "      <td>15017105</td>\n",
       "      <td>2011-01-01 00:00:07</td>\n",
       "      <td>9.45234</td>\n",
       "      <td>47.3597</td>\n",
       "      <td>2011-01-01</td>\n",
       "      <td>#fb</td>\n",
       "    </tr>\n",
       "    <tr>\n",
       "      <th>2</th>\n",
       "      <td>994621</td>\n",
       "      <td>2011-01-01 00:05:49</td>\n",
       "      <td>8.50139</td>\n",
       "      <td>47.4030</td>\n",
       "      <td>2011-01-01</td>\n",
       "      <td>#crashplan</td>\n",
       "    </tr>\n",
       "    <tr>\n",
       "      <th>3</th>\n",
       "      <td>994621</td>\n",
       "      <td>2011-01-01 00:05:49</td>\n",
       "      <td>8.50139</td>\n",
       "      <td>47.4030</td>\n",
       "      <td>2011-01-01</td>\n",
       "      <td>#Backup</td>\n",
       "    </tr>\n",
       "    <tr>\n",
       "      <th>4</th>\n",
       "      <td>16002522</td>\n",
       "      <td>2011-01-01 03:28:45</td>\n",
       "      <td>8.52493</td>\n",
       "      <td>47.3742</td>\n",
       "      <td>2011-01-01</td>\n",
       "      <td>#binaryday</td>\n",
       "    </tr>\n",
       "  </tbody>\n",
       "</table>\n",
       "</div>"
      ],
      "text/plain": [
       "     userId           createdAt  longitude  latitude  dayOfTweet     hashtag\n",
       "0  15017105 2011-01-01 00:00:07    9.45234   47.3597  2011-01-01       #2011\n",
       "1  15017105 2011-01-01 00:00:07    9.45234   47.3597  2011-01-01         #fb\n",
       "2    994621 2011-01-01 00:05:49    8.50139   47.4030  2011-01-01  #crashplan\n",
       "3    994621 2011-01-01 00:05:49    8.50139   47.4030  2011-01-01     #Backup\n",
       "4  16002522 2011-01-01 03:28:45    8.52493   47.3742  2011-01-01  #binaryday"
      ]
     },
     "execution_count": 7,
     "metadata": {},
     "output_type": "execute_result"
    }
   ],
   "source": [
    "pairs = []\n",
    "# iterate through all rows\n",
    "for _, row in tweets.iterrows():\n",
    "    # for each value in the hashtags, create one new row\n",
    "    for hashtag in row[\"hashtags\"]:\n",
    "        # append the new row to the list\n",
    "        pairs.append((row['userId'], row['createdAt'], row['longitude'], \n",
    "                      row['latitude'], row['dayOfTweet'], hashtag))\n",
    "# create a new dataframe from the pairs list and give meaningful names to the columns\n",
    "df = pd.DataFrame(pairs, columns=['userId', 'createdAt', 'longitude', 'latitude', 'dayOfTweet', 'hashtag'])\n",
    "# display dataframe\n",
    "df.head()"
   ]
  },
  {
   "cell_type": "markdown",
   "metadata": {},
   "source": [
    "## Detecting events\n",
    "<a name=\"dbscan\"></a>\n",
    "### Machine Learning Approach: Event detection using DBSCAN\n",
    "We are done with the data preprocessing and start working on event detection. To achieve that, we group our data based on day of tweet and hashtag. We use the <code>size</code> operation to count the number of tweets on a particular day with a particular hashtag."
   ]
  },
  {
   "cell_type": "code",
   "execution_count": 8,
   "metadata": {
    "collapsed": false
   },
   "outputs": [
    {
     "data": {
      "text/plain": [
       "dayOfTweet  hashtag     \n",
       "2011-01-01  #010111         2\n",
       "            #2011           2\n",
       "            #ARevolution    1\n",
       "            #Backup         1\n",
       "            #Endomondo.     1\n",
       "Name: numOfTweets, dtype: int64"
      ]
     },
     "execution_count": 8,
     "metadata": {},
     "output_type": "execute_result"
    }
   ],
   "source": [
    "# groupby dayOfTweet and hashtag, then find the size of each group\n",
    "df_grouped = df.groupby(by=['dayOfTweet', 'hashtag']).size()\n",
    "# give meaning name to column\n",
    "df_grouped.rename('numOfTweets', inplace=True)\n",
    "# display Series\n",
    "df_grouped.head()"
   ]
  },
  {
   "cell_type": "markdown",
   "metadata": {},
   "source": [
    "<a name=\"df\"></a>\n",
    "We detect events that have at least 5 tweets, i.e. **there are at least 5 events on the same day with the same hashtag**."
   ]
  },
  {
   "cell_type": "code",
   "execution_count": 9,
   "metadata": {
    "collapsed": false
   },
   "outputs": [
    {
     "data": {
      "text/html": [
       "<div>\n",
       "<table border=\"1\" class=\"dataframe\">\n",
       "  <thead>\n",
       "    <tr style=\"text-align: right;\">\n",
       "      <th></th>\n",
       "      <th>userId</th>\n",
       "      <th>createdAt</th>\n",
       "      <th>longitude</th>\n",
       "      <th>latitude</th>\n",
       "      <th>dayOfTweet</th>\n",
       "      <th>hashtag</th>\n",
       "      <th>numOfTweets</th>\n",
       "    </tr>\n",
       "  </thead>\n",
       "  <tbody>\n",
       "    <tr>\n",
       "      <th>100</th>\n",
       "      <td>8614392</td>\n",
       "      <td>2011-01-04 06:13:41</td>\n",
       "      <td>7.56667</td>\n",
       "      <td>47.5833</td>\n",
       "      <td>2011-01-04</td>\n",
       "      <td>#fb</td>\n",
       "      <td>5</td>\n",
       "    </tr>\n",
       "    <tr>\n",
       "      <th>110</th>\n",
       "      <td>8614392</td>\n",
       "      <td>2011-01-04 12:30:11</td>\n",
       "      <td>8.54177</td>\n",
       "      <td>47.3705</td>\n",
       "      <td>2011-01-04</td>\n",
       "      <td>#fb</td>\n",
       "      <td>5</td>\n",
       "    </tr>\n",
       "    <tr>\n",
       "      <th>115</th>\n",
       "      <td>8614392</td>\n",
       "      <td>2011-01-04 20:09:49</td>\n",
       "      <td>8.54177</td>\n",
       "      <td>47.3705</td>\n",
       "      <td>2011-01-04</td>\n",
       "      <td>#fb</td>\n",
       "      <td>5</td>\n",
       "    </tr>\n",
       "    <tr>\n",
       "      <th>116</th>\n",
       "      <td>8614392</td>\n",
       "      <td>2011-01-04 21:51:32</td>\n",
       "      <td>7.56667</td>\n",
       "      <td>47.5833</td>\n",
       "      <td>2011-01-04</td>\n",
       "      <td>#fb</td>\n",
       "      <td>5</td>\n",
       "    </tr>\n",
       "    <tr>\n",
       "      <th>118</th>\n",
       "      <td>8614392</td>\n",
       "      <td>2011-01-04 22:26:45</td>\n",
       "      <td>7.56667</td>\n",
       "      <td>47.5833</td>\n",
       "      <td>2011-01-04</td>\n",
       "      <td>#fb</td>\n",
       "      <td>5</td>\n",
       "    </tr>\n",
       "  </tbody>\n",
       "</table>\n",
       "</div>"
      ],
      "text/plain": [
       "      userId           createdAt  longitude  latitude  dayOfTweet hashtag  \\\n",
       "100  8614392 2011-01-04 06:13:41    7.56667   47.5833  2011-01-04     #fb   \n",
       "110  8614392 2011-01-04 12:30:11    8.54177   47.3705  2011-01-04     #fb   \n",
       "115  8614392 2011-01-04 20:09:49    8.54177   47.3705  2011-01-04     #fb   \n",
       "116  8614392 2011-01-04 21:51:32    7.56667   47.5833  2011-01-04     #fb   \n",
       "118  8614392 2011-01-04 22:26:45    7.56667   47.5833  2011-01-04     #fb   \n",
       "\n",
       "     numOfTweets  \n",
       "100            5  \n",
       "110            5  \n",
       "115            5  \n",
       "116            5  \n",
       "118            5  "
      ]
     },
     "execution_count": 9,
     "metadata": {},
     "output_type": "execute_result"
    }
   ],
   "source": [
    "# set threshold for min number of events\n",
    "min_tweets = 5\n",
    "# find how many tweets happened on a particular day for a particular tweet\n",
    "df = df.apply(lambda row: fill_num_of_tweets(row, df_grouped), axis=1)\n",
    "# remove those that do not exceed the threshold value\n",
    "df = df[df['numOfTweets'] >= min_tweets]\n",
    "# display dataframe\n",
    "df.head()"
   ]
  },
  {
   "cell_type": "markdown",
   "metadata": {},
   "source": [
    "In order to explain the information contained in the <code>df</code> dataframe, we give the following example taken from the sub-dataset of year **2010**. ![title](../../data/figures/df_example.png)\n",
    "\n",
    "Here, see that there are 6 tweets with the hashtag #fb posted on 07.03.2010 by 5 different users (5 unique user IDs)."
   ]
  },
  {
   "cell_type": "markdown",
   "metadata": {},
   "source": [
    "So far, we have satisfied the 3 our of 4 [requirements](#requirements) described above. The $4^{th}$ points requires tweets to be posted from approximately the same location. \n",
    "\n",
    "In order to do that, we pass the geolocation information for possible events into DBSCAN. In case the tweets are posted from the same location, DBSCAN will create a cluster. Otherwise, these tweets are considered to be noise and we say that no event is detected. \n",
    "\n",
    "We **remind** that we are interested in detecting events using geolocated information and not detecting events in general.\n",
    "\n",
    "We start by grouping tweets based on common day and hashtag. The coordinates of each sub-group are fed into DBSCAN. You can see all events that are detected using DBSCAN, their respective date, as well as their descriptive hashtag. We assume that events take place in a small area (e.g. stadium, conference, festival, etc.) and we reduce the accuracy to approximately \n",
    "* 6.4 square kilometers (accuracy equals to 0.01 and 2 for DBSCAN and heuristic respectively)\n",
    "* 640 square meters (accuracy equals to 0.001 and 3 for DBSCAN and heuristic respectively)\n",
    "\n",
    "to include also inaccuracies in the GPS location measurements. **This parameters affects significanlty the number of events detected**."
   ]
  },
  {
   "cell_type": "code",
   "execution_count": 10,
   "metadata": {
    "collapsed": false,
    "scrolled": true
   },
   "outputs": [
    {
     "name": "stdout",
     "output_type": "stream",
     "text": [
      "Date:  2011-01-26 \t Cluster ID:  0 \t Total Clusters on 2011-01-26:  1 \t Hashtags:  #gdi\n",
      "Date:  2011-02-02 \t Cluster ID:  0 \t Total Clusters on 2011-02-02:  1 \t Hashtags:  #lift11\n",
      "Date:  2011-02-03 \t Cluster ID:  0 \t Total Clusters on 2011-02-03:  1 \t Hashtags:  #lift11\n",
      "Date:  2011-02-04 \t Cluster ID:  0 \t Total Clusters on 2011-02-04:  1 \t Hashtags:  #Lift11\n",
      "Date:  2011-02-08 \t Cluster ID:  0 \t Total Clusters on 2011-02-08:  1 \t Hashtags:  #pokeRT\n",
      "Date:  2011-03-09 \t Cluster ID:  0 \t Total Clusters on 2011-03-09:  1 \t Hashtags:  #g_ch\n",
      "Date:  2011-03-20 \t Cluster ID:  0 \t Total Clusters on 2011-03-20:  1 \t Hashtags:  #swlau\n",
      "Date:  2011-03-24 \t Cluster ID:  0 \t Total Clusters on 2011-03-24:  2 \t Hashtags:  #smmk11\n",
      "Date:  2011-03-24 \t Cluster ID:  1 \t Total Clusters on 2011-03-24:  2 \t Hashtags:  #smmk11\n",
      "Date:  2011-03-25 \t Cluster ID:  0 \t Total Clusters on 2011-03-25:  1 \t Hashtags:  #applestoreZH\n",
      "Date:  2011-03-25 \t Cluster ID:  0 \t Total Clusters on 2011-03-25:  1 \t Hashtags:  #iPad2\n",
      "Date:  2011-03-27 \t Cluster ID:  0 \t Total Clusters on 2011-03-27:  1 \t Hashtags:  #fb\n",
      "Date:  2011-03-30 \t Cluster ID:  0 \t Total Clusters on 2011-03-30:  1 \t Hashtags:  #som11\n",
      "Date:  2011-03-31 \t Cluster ID:  0 \t Total Clusters on 2011-03-31:  2 \t Hashtags:  #bosw\n",
      "Date:  2011-03-31 \t Cluster ID:  1 \t Total Clusters on 2011-03-31:  2 \t Hashtags:  #bosw\n",
      "Date:  2011-03-31 \t Cluster ID:  0 \t Total Clusters on 2011-03-31:  1 \t Hashtags:  #som11\n",
      "Date:  2011-05-07 \t Cluster ID:  0 \t Total Clusters on 2011-05-07:  1 \t Hashtags:  #BattesimoPupo\n",
      "Date:  2011-05-14 \t Cluster ID:  0 \t Total Clusters on 2011-05-14:  1 \t Hashtags:  #esc\n",
      "Date:  2011-05-27 \t Cluster ID:  0 \t Total Clusters on 2011-05-27:  1 \t Hashtags:  #Heimfahrt\n",
      "Date:  2011-05-27 \t Cluster ID:  0 \t Total Clusters on 2011-05-27:  1 \t Hashtags:  #Velo\n",
      "Date:  2011-06-01 \t Cluster ID:  0 \t Total Clusters on 2011-06-01:  1 \t Hashtags:  #smgzh\n",
      "Date:  2011-06-15 \t Cluster ID:  0 \t Total Clusters on 2011-06-15:  1 \t Hashtags:  #11-ICML\n",
      "Date:  2011-06-16 \t Cluster ID:  0 \t Total Clusters on 2011-06-16:  2 \t Hashtags:  #11-ICML\n",
      "Date:  2011-06-16 \t Cluster ID:  1 \t Total Clusters on 2011-06-16:  2 \t Hashtags:  #11-ICML\n",
      "Date:  2011-06-16 \t Cluster ID:  0 \t Total Clusters on 2011-06-16:  2 \t Hashtags:  #11ICML\n",
      "Date:  2011-06-16 \t Cluster ID:  1 \t Total Clusters on 2011-06-16:  2 \t Hashtags:  #11ICML\n",
      "Date:  2011-06-18 \t Cluster ID:  0 \t Total Clusters on 2011-06-18:  1 \t Hashtags:  #zvilla\n",
      "Date:  2011-06-21 \t Cluster ID:  0 \t Total Clusters on 2011-06-21:  1 \t Hashtags:  #pokeRT\n",
      "Date:  2011-06-24 \t Cluster ID:  0 \t Total Clusters on 2011-06-24:  1 \t Hashtags:  #odch11\n",
      "Date:  2011-07-02 \t Cluster ID:  0 \t Total Clusters on 2011-07-02:  1 \t Hashtags:  #oasg\n",
      "Date:  2011-07-03 \t Cluster ID:  0 \t Total Clusters on 2011-07-03:  1 \t Hashtags:  #oasg\n",
      "Date:  2011-07-06 \t Cluster ID:  0 \t Total Clusters on 2011-07-06:  1 \t Hashtags:  #dtzh\n",
      "Date:  2011-07-12 \t Cluster ID:  0 \t Total Clusters on 2011-07-12:  1 \t Hashtags:  #moonandstars\n",
      "Date:  2011-07-22 \t Cluster ID:  0 \t Total Clusters on 2011-07-22:  1 \t Hashtags:  #awesomezh1\n",
      "Date:  2011-08-02 \t Cluster ID:  0 \t Total Clusters on 2011-08-02:  1 \t Hashtags:  #Android\n",
      "Date:  2011-08-12 \t Cluster ID:  0 \t Total Clusters on 2011-08-12:  1 \t Hashtags:  #18\n",
      "Date:  2011-08-12 \t Cluster ID:  0 \t Total Clusters on 2011-08-12:  1 \t Hashtags:  #fb\n",
      "Date:  2011-08-18 \t Cluster ID:  0 \t Total Clusters on 2011-08-18:  1 \t Hashtags:  #iliasconf\n",
      "Date:  2011-08-24 \t Cluster ID:  0 \t Total Clusters on 2011-08-24:  2 \t Hashtags:  #XF11\n",
      "Date:  2011-08-24 \t Cluster ID:  1 \t Total Clusters on 2011-08-24:  2 \t Hashtags:  #XF11\n",
      "Date:  2011-08-24 \t Cluster ID:  0 \t Total Clusters on 2011-08-24:  2 \t Hashtags:  #emex11\n",
      "Date:  2011-08-24 \t Cluster ID:  1 \t Total Clusters on 2011-08-24:  2 \t Hashtags:  #emex11\n",
      "Date:  2011-08-25 \t Cluster ID:  0 \t Total Clusters on 2011-08-25:  1 \t Hashtags:  #UTMB2011\n",
      "Date:  2011-09-07 \t Cluster ID:  0 \t Total Clusters on 2011-09-07:  1 \t Hashtags:  #smgzh\n",
      "Date:  2011-09-09 \t Cluster ID:  0 \t Total Clusters on 2011-09-09:  1 \t Hashtags:  #fec11\n",
      "Date:  2011-09-10 \t Cluster ID:  0 \t Total Clusters on 2011-09-10:  1 \t Hashtags:  #Denkfest\n",
      "Date:  2011-09-24 \t Cluster ID:  0 \t Total Clusters on 2011-09-24:  1 \t Hashtags:  #missCH\n",
      "Date:  2011-10-02 \t Cluster ID:  0 \t Total Clusters on 2011-10-02:  1 \t Hashtags:  #fcz\n",
      "Date:  2011-10-02 \t Cluster ID:  0 \t Total Clusters on 2011-10-02:  1 \t Hashtags:  #gc\n",
      "Date:  2011-10-02 \t Cluster ID:  0 \t Total Clusters on 2011-10-02:  1 \t Hashtags:  #letzigrund\n",
      "Date:  2011-10-04 \t Cluster ID:  0 \t Total Clusters on 2011-10-04:  2 \t Hashtags:  #tedxzh\n",
      "Date:  2011-10-04 \t Cluster ID:  1 \t Total Clusters on 2011-10-04:  2 \t Hashtags:  #tedxzh\n",
      "Date:  2011-10-23 \t Cluster ID:  0 \t Total Clusters on 2011-10-23:  1 \t Hashtags:  #ew11\n",
      "Date:  2011-10-29 \t Cluster ID:  0 \t Total Clusters on 2011-10-29:  1 \t Hashtags:  #uxcon11\n",
      "Date:  2011-10-30 \t Cluster ID:  0 \t Total Clusters on 2011-10-30:  1 \t Hashtags:  #fcz\n",
      "Date:  2011-11-17 \t Cluster ID:  0 \t Total Clusters on 2011-11-17:  1 \t Hashtags:  #IGEP\n",
      "Date:  2011-11-18 \t Cluster ID:  0 \t Total Clusters on 2011-11-18:  1 \t Hashtags:  #iae\n",
      "Date:  2011-11-18 \t Cluster ID:  0 \t Total Clusters on 2011-11-18:  1 \t Hashtags:  #pir@tage\n",
      "Date:  2011-11-25 \t Cluster ID:  0 \t Total Clusters on 2011-11-25:  1 \t Hashtags:  #obstech\n",
      "Date:  2011-11-29 \t Cluster ID:  0 \t Total Clusters on 2011-11-29:  1 \t Hashtags:  #FilmCommissionVdA\n",
      "Date:  2011-12-01 \t Cluster ID:  0 \t Total Clusters on 2011-12-01:  1 \t Hashtags:  #imkforum\n"
     ]
    }
   ],
   "source": [
    "# reduce GPS accuracy\n",
    "accuracy = 0.001\n",
    "# group by day of tweet and hashtag\n",
    "df_grouped = df.groupby(by=['dayOfTweet', 'hashtag'])\n",
    "# find events\n",
    "list_of_events_dbscan = detect_event_dbscan(df_grouped, accuracy, min_tweets)"
   ]
  },
  {
   "cell_type": "markdown",
   "metadata": {},
   "source": [
    "Now, we have detected possible events. We try to find evidence that these are indeed events. This is indicated by\n",
    "* the number of users that posted for a particular event\n",
    "* the standard deviation of the timestamps of the events\n",
    "\n",
    "The reasoning is given [here](#users_std)"
   ]
  },
  {
   "cell_type": "markdown",
   "metadata": {},
   "source": [
    "We create a new dataframe that contains only users that made tweets for the events we detected so far."
   ]
  },
  {
   "cell_type": "code",
   "execution_count": 11,
   "metadata": {
    "collapsed": false
   },
   "outputs": [
    {
     "data": {
      "text/html": [
       "<div>\n",
       "<table border=\"1\" class=\"dataframe\">\n",
       "  <thead>\n",
       "    <tr style=\"text-align: right;\">\n",
       "      <th></th>\n",
       "      <th>dayOfTweet</th>\n",
       "      <th>hashtag</th>\n",
       "      <th>userId</th>\n",
       "    </tr>\n",
       "  </thead>\n",
       "  <tbody>\n",
       "    <tr>\n",
       "      <th>658</th>\n",
       "      <td>2011-01-26</td>\n",
       "      <td>#gdi</td>\n",
       "      <td>8614392</td>\n",
       "    </tr>\n",
       "    <tr>\n",
       "      <th>671</th>\n",
       "      <td>2011-01-26</td>\n",
       "      <td>#gdi</td>\n",
       "      <td>17007639</td>\n",
       "    </tr>\n",
       "    <tr>\n",
       "      <th>673</th>\n",
       "      <td>2011-01-26</td>\n",
       "      <td>#gdi</td>\n",
       "      <td>17007639</td>\n",
       "    </tr>\n",
       "    <tr>\n",
       "      <th>676</th>\n",
       "      <td>2011-01-26</td>\n",
       "      <td>#gdi</td>\n",
       "      <td>17007639</td>\n",
       "    </tr>\n",
       "    <tr>\n",
       "      <th>677</th>\n",
       "      <td>2011-01-26</td>\n",
       "      <td>#gdi</td>\n",
       "      <td>17007639</td>\n",
       "    </tr>\n",
       "  </tbody>\n",
       "</table>\n",
       "</div>"
      ],
      "text/plain": [
       "     dayOfTweet hashtag    userId\n",
       "658  2011-01-26    #gdi   8614392\n",
       "671  2011-01-26    #gdi  17007639\n",
       "673  2011-01-26    #gdi  17007639\n",
       "676  2011-01-26    #gdi  17007639\n",
       "677  2011-01-26    #gdi  17007639"
      ]
     },
     "execution_count": 11,
     "metadata": {},
     "output_type": "execute_result"
    }
   ],
   "source": [
    "# initialize datafram\n",
    "new_df = pd.DataFrame()\n",
    "# iterate though list of events\n",
    "for item in list_of_events_dbscan:\n",
    "    # find all records that match the day of tweet and the hashtag for each detected event\n",
    "    temp = df[(df['dayOfTweet'] == item[0]) & (df['hashtag'] == item[1])]\n",
    "    # concatenate to new dataframe\n",
    "    new_df = pd.concat([new_df, temp])\n",
    "# give meaningful column names\n",
    "new_df = new_df[['dayOfTweet', 'hashtag', 'userId']]\n",
    "# display dataframe\n",
    "new_df.head()"
   ]
  },
  {
   "cell_type": "markdown",
   "metadata": {},
   "source": [
    "Now, we wish to determine how many different users posted for each detected event."
   ]
  },
  {
   "cell_type": "code",
   "execution_count": 12,
   "metadata": {
    "collapsed": false,
    "scrolled": true
   },
   "outputs": [],
   "source": [
    "# group by hashtag and dayOfTweet and count unique user IDs\n",
    "new_df = new_df.groupby(by=['hashtag', 'dayOfTweet'])['userId'].nunique()\n",
    "# give meaningful name to column\n",
    "new_df.rename('usersPerHashtag', inplace=True)\n",
    "# convert to dataframe (needed for later)\n",
    "new_df = new_df.to_frame()"
   ]
  },
  {
   "cell_type": "markdown",
   "metadata": {},
   "source": [
    "We define a spammer threshold. If a hashtag is posted by less users that the spammer threshold, then we have evidence that the detected event may not be a true event. However, the algorithm detected is as an event since it met all the aforementioned [requirements](#requirements)."
   ]
  },
  {
   "cell_type": "code",
   "execution_count": 13,
   "metadata": {
    "collapsed": false
   },
   "outputs": [
    {
     "data": {
      "text/html": [
       "<div>\n",
       "<table border=\"1\" class=\"dataframe\">\n",
       "  <thead>\n",
       "    <tr style=\"text-align: right;\">\n",
       "      <th></th>\n",
       "      <th></th>\n",
       "      <th>usersPerHashtag</th>\n",
       "      <th>spamEvent</th>\n",
       "    </tr>\n",
       "    <tr>\n",
       "      <th>hashtag</th>\n",
       "      <th>dayOfTweet</th>\n",
       "      <th></th>\n",
       "      <th></th>\n",
       "    </tr>\n",
       "  </thead>\n",
       "  <tbody>\n",
       "    <tr>\n",
       "      <th rowspan=\"2\" valign=\"top\">#11-ICML</th>\n",
       "      <th>2011-06-15</th>\n",
       "      <td>1</td>\n",
       "      <td>True</td>\n",
       "    </tr>\n",
       "    <tr>\n",
       "      <th>2011-06-16</th>\n",
       "      <td>1</td>\n",
       "      <td>True</td>\n",
       "    </tr>\n",
       "    <tr>\n",
       "      <th>#11ICML</th>\n",
       "      <th>2011-06-16</th>\n",
       "      <td>1</td>\n",
       "      <td>True</td>\n",
       "    </tr>\n",
       "    <tr>\n",
       "      <th>#18</th>\n",
       "      <th>2011-08-12</th>\n",
       "      <td>1</td>\n",
       "      <td>True</td>\n",
       "    </tr>\n",
       "    <tr>\n",
       "      <th>#Android</th>\n",
       "      <th>2011-08-02</th>\n",
       "      <td>2</td>\n",
       "      <td>False</td>\n",
       "    </tr>\n",
       "  </tbody>\n",
       "</table>\n",
       "</div>"
      ],
      "text/plain": [
       "                     usersPerHashtag spamEvent\n",
       "hashtag  dayOfTweet                           \n",
       "#11-ICML 2011-06-15                1      True\n",
       "         2011-06-16                1      True\n",
       "#11ICML  2011-06-16                1      True\n",
       "#18      2011-08-12                1      True\n",
       "#Android 2011-08-02                2     False"
      ]
     },
     "execution_count": 13,
     "metadata": {},
     "output_type": "execute_result"
    }
   ],
   "source": [
    "# define a spammer threshold\n",
    "spammer_threshold = 2\n",
    "# initialize column\n",
    "new_df['spamEvent'] = False\n",
    "# find if events are spam or not\n",
    "new_df = new_df.apply(lambda row: is_spam_event(row, spammer_threshold), axis=1)\n",
    "# display dataframe\n",
    "new_df.head()"
   ]
  },
  {
   "cell_type": "markdown",
   "metadata": {},
   "source": [
    "There is one final thing left to do, i.e. we should calculate the standard deviation of the timestamps of detected events. In order to do that, we gather the timestamps for each event, convert it to number of seconds since midnight and calculate the standard deviation. \n",
    "\n",
    "A small standard deviation means that the tweets are sent in a short timeframe. However, a big standard deviation means that the tweets are spread thoughout the day. An event may last for a few hours, thus a small standard deviation is more likely to reveal an event."
   ]
  },
  {
   "cell_type": "code",
   "execution_count": 14,
   "metadata": {
    "collapsed": false,
    "scrolled": false
   },
   "outputs": [
    {
     "data": {
      "text/html": [
       "<div>\n",
       "<table border=\"1\" class=\"dataframe\">\n",
       "  <thead>\n",
       "    <tr style=\"text-align: right;\">\n",
       "      <th></th>\n",
       "      <th>hashtag</th>\n",
       "      <th>dayOfTweet</th>\n",
       "      <th>usersPerHashtag</th>\n",
       "      <th>spamEvent</th>\n",
       "      <th>std</th>\n",
       "    </tr>\n",
       "  </thead>\n",
       "  <tbody>\n",
       "    <tr>\n",
       "      <th>0</th>\n",
       "      <td>#iPad2</td>\n",
       "      <td>2011-03-25</td>\n",
       "      <td>10</td>\n",
       "      <td>False</td>\n",
       "      <td>150.032093</td>\n",
       "    </tr>\n",
       "    <tr>\n",
       "      <th>1</th>\n",
       "      <td>#tedxzh</td>\n",
       "      <td>2011-10-04</td>\n",
       "      <td>10</td>\n",
       "      <td>False</td>\n",
       "      <td>141.890477</td>\n",
       "    </tr>\n",
       "    <tr>\n",
       "      <th>2</th>\n",
       "      <td>#fec11</td>\n",
       "      <td>2011-09-09</td>\n",
       "      <td>9</td>\n",
       "      <td>False</td>\n",
       "      <td>285.772872</td>\n",
       "    </tr>\n",
       "    <tr>\n",
       "      <th>3</th>\n",
       "      <td>#lift11</td>\n",
       "      <td>2011-02-02</td>\n",
       "      <td>9</td>\n",
       "      <td>False</td>\n",
       "      <td>269.037299</td>\n",
       "    </tr>\n",
       "    <tr>\n",
       "      <th>4</th>\n",
       "      <td>#bosw</td>\n",
       "      <td>2011-03-31</td>\n",
       "      <td>9</td>\n",
       "      <td>False</td>\n",
       "      <td>141.610126</td>\n",
       "    </tr>\n",
       "  </tbody>\n",
       "</table>\n",
       "</div>"
      ],
      "text/plain": [
       "   hashtag  dayOfTweet  usersPerHashtag spamEvent         std\n",
       "0   #iPad2  2011-03-25               10     False  150.032093\n",
       "1  #tedxzh  2011-10-04               10     False  141.890477\n",
       "2   #fec11  2011-09-09                9     False  285.772872\n",
       "3  #lift11  2011-02-02                9     False  269.037299\n",
       "4    #bosw  2011-03-31                9     False  141.610126"
      ]
     },
     "execution_count": 14,
     "metadata": {},
     "output_type": "execute_result"
    }
   ],
   "source": [
    "# find std of events\n",
    "std_dict = std_of_events(df, new_df)\n",
    "# reset index\n",
    "new_df.reset_index(inplace=True)\n",
    "# initialize columm\n",
    "new_df['std'] = np.nan\n",
    "# fill std for each event\n",
    "new_df = new_df.apply(lambda row: fill_std(row, std_dict), axis=1)\n",
    "# sort dataframe\n",
    "new_df.sort(columns = ['usersPerHashtag', 'std'], inplace=True, axis=0, ascending=False)\n",
    "# reset indexes\n",
    "new_df.reset_index(inplace=True, drop=True)\n",
    "# save dataframe\n",
    "file_name = '../../data/detected_events_dbscan_' + year + '.csv'\n",
    "new_df.to_csv(file_name, sep='|')\n",
    "# display dataframe\n",
    "new_df.head()"
   ]
  },
  {
   "cell_type": "markdown",
   "metadata": {},
   "source": [
    " <a name=\"non_spam_dbscan\"></a>\n",
    "Now, we print all events that are not classified as spam. In the section [bellow](#non_spam_heuristic), you can find a list of non spam events detected using a heuristic approach."
   ]
  },
  {
   "cell_type": "code",
   "execution_count": 15,
   "metadata": {
    "collapsed": false
   },
   "outputs": [
    {
     "name": "stdout",
     "output_type": "stream",
     "text": [
      "Date:  2011-03-25 \t Hashtag:  #iPad2\n",
      "Date:  2011-10-04 \t Hashtag:  #tedxzh\n",
      "Date:  2011-09-09 \t Hashtag:  #fec11\n",
      "Date:  2011-02-02 \t Hashtag:  #lift11\n",
      "Date:  2011-03-31 \t Hashtag:  #bosw\n",
      "Date:  2011-02-03 \t Hashtag:  #lift11\n",
      "Date:  2011-10-29 \t Hashtag:  #uxcon11\n",
      "Date:  2011-10-23 \t Hashtag:  #ew11\n",
      "Date:  2011-02-08 \t Hashtag:  #pokeRT\n",
      "Date:  2011-05-14 \t Hashtag:  #esc\n",
      "Date:  2011-02-04 \t Hashtag:  #Lift11\n",
      "Date:  2011-06-01 \t Hashtag:  #smgzh\n",
      "Date:  2011-09-07 \t Hashtag:  #smgzh\n",
      "Date:  2011-03-20 \t Hashtag:  #swlau\n",
      "Date:  2011-06-21 \t Hashtag:  #pokeRT\n",
      "Date:  2011-08-12 \t Hashtag:  #fb\n",
      "Date:  2011-03-27 \t Hashtag:  #fb\n",
      "Date:  2011-03-24 \t Hashtag:  #smmk11\n",
      "Date:  2011-06-24 \t Hashtag:  #odch11\n",
      "Date:  2011-03-25 \t Hashtag:  #applestoreZH\n",
      "Date:  2011-11-25 \t Hashtag:  #obstech\n",
      "Date:  2011-03-31 \t Hashtag:  #som11\n",
      "Date:  2011-08-02 \t Hashtag:  #Android\n",
      "Date:  2011-03-30 \t Hashtag:  #som11\n",
      "Date:  2011-08-24 \t Hashtag:  #emex11\n",
      "Date:  2011-01-26 \t Hashtag:  #gdi\n",
      "Date:  2011-03-09 \t Hashtag:  #g_ch\n",
      "Date:  2011-10-30 \t Hashtag:  #fcz\n",
      "Date:  2011-10-02 \t Hashtag:  #fcz\n",
      "Date:  2011-09-24 \t Hashtag:  #missCH\n"
     ]
    }
   ],
   "source": [
    "# list of non spam event for DBSCAN\n",
    "dbscan_non_spam = []\n",
    "for event in new_df.iterrows():\n",
    "    spam = event[1][3]\n",
    "    date = event[1][1]\n",
    "    hashtag = event[1][0]\n",
    "    # print those that are not spam\n",
    "    if not spam:\n",
    "        # append to list and print event\n",
    "        dbscan_non_spam.append((date, hashtag))\n",
    "        print('Date: ', date, '\\t', 'Hashtag: ', hashtag)"
   ]
  },
  {
   "cell_type": "markdown",
   "metadata": {},
   "source": [
    "### Heuristic Approach\n",
    "\n",
    "We decide to follow a second approach for detecting events. This approach does not involve any machine learning algorithms. On the contraty, it is based on a heuristic method. This method is based on the accuracy reduction of the GPS coordinates. Tweets that are posted in approximately the same location should have the same longitude and latitude after reducing the accuracy. Hence, we try to detect event following this logic. In that way, we try to verify the results obtained using DBSCAN. **The accuracy should be in accordance to the accuracy used in the DBSCAN model**. For example, an accuracy of 0.01 (or 0.001) in DBSCAN corresponds to an accuracy of 2 (or 3) in the heuristic."
   ]
  },
  {
   "cell_type": "markdown",
   "metadata": {},
   "source": [
    "We work using the <code>df</code> dataframe. This dataframe was last modified [here](#df) and does not contain any information created from DBSCAN. However, we drop the <code>numOfTweets</code> columns, since we are going to re-evaluate it in a different way."
   ]
  },
  {
   "cell_type": "code",
   "execution_count": 16,
   "metadata": {
    "collapsed": false
   },
   "outputs": [
    {
     "data": {
      "text/html": [
       "<div>\n",
       "<table border=\"1\" class=\"dataframe\">\n",
       "  <thead>\n",
       "    <tr style=\"text-align: right;\">\n",
       "      <th></th>\n",
       "      <th>userId</th>\n",
       "      <th>createdAt</th>\n",
       "      <th>longitude</th>\n",
       "      <th>latitude</th>\n",
       "      <th>dayOfTweet</th>\n",
       "      <th>hashtag</th>\n",
       "      <th>approxLocation</th>\n",
       "    </tr>\n",
       "  </thead>\n",
       "  <tbody>\n",
       "    <tr>\n",
       "      <th>100</th>\n",
       "      <td>8614392</td>\n",
       "      <td>2011-01-04 06:13:41</td>\n",
       "      <td>7.56667</td>\n",
       "      <td>47.5833</td>\n",
       "      <td>2011-01-04</td>\n",
       "      <td>#fb</td>\n",
       "      <td>(47.583, 7.567)</td>\n",
       "    </tr>\n",
       "    <tr>\n",
       "      <th>110</th>\n",
       "      <td>8614392</td>\n",
       "      <td>2011-01-04 12:30:11</td>\n",
       "      <td>8.54177</td>\n",
       "      <td>47.3705</td>\n",
       "      <td>2011-01-04</td>\n",
       "      <td>#fb</td>\n",
       "      <td>(47.370, 8.542)</td>\n",
       "    </tr>\n",
       "    <tr>\n",
       "      <th>115</th>\n",
       "      <td>8614392</td>\n",
       "      <td>2011-01-04 20:09:49</td>\n",
       "      <td>8.54177</td>\n",
       "      <td>47.3705</td>\n",
       "      <td>2011-01-04</td>\n",
       "      <td>#fb</td>\n",
       "      <td>(47.370, 8.542)</td>\n",
       "    </tr>\n",
       "    <tr>\n",
       "      <th>116</th>\n",
       "      <td>8614392</td>\n",
       "      <td>2011-01-04 21:51:32</td>\n",
       "      <td>7.56667</td>\n",
       "      <td>47.5833</td>\n",
       "      <td>2011-01-04</td>\n",
       "      <td>#fb</td>\n",
       "      <td>(47.583, 7.567)</td>\n",
       "    </tr>\n",
       "    <tr>\n",
       "      <th>118</th>\n",
       "      <td>8614392</td>\n",
       "      <td>2011-01-04 22:26:45</td>\n",
       "      <td>7.56667</td>\n",
       "      <td>47.5833</td>\n",
       "      <td>2011-01-04</td>\n",
       "      <td>#fb</td>\n",
       "      <td>(47.583, 7.567)</td>\n",
       "    </tr>\n",
       "  </tbody>\n",
       "</table>\n",
       "</div>"
      ],
      "text/plain": [
       "      userId           createdAt  longitude  latitude  dayOfTweet hashtag  \\\n",
       "100  8614392 2011-01-04 06:13:41    7.56667   47.5833  2011-01-04     #fb   \n",
       "110  8614392 2011-01-04 12:30:11    8.54177   47.3705  2011-01-04     #fb   \n",
       "115  8614392 2011-01-04 20:09:49    8.54177   47.3705  2011-01-04     #fb   \n",
       "116  8614392 2011-01-04 21:51:32    7.56667   47.5833  2011-01-04     #fb   \n",
       "118  8614392 2011-01-04 22:26:45    7.56667   47.5833  2011-01-04     #fb   \n",
       "\n",
       "      approxLocation  \n",
       "100  (47.583, 7.567)  \n",
       "110  (47.370, 8.542)  \n",
       "115  (47.370, 8.542)  \n",
       "116  (47.583, 7.567)  \n",
       "118  (47.583, 7.567)  "
      ]
     },
     "execution_count": 16,
     "metadata": {},
     "output_type": "execute_result"
    }
   ],
   "source": [
    "# remove unnecessary column\n",
    "df.drop('numOfTweets', axis=1, inplace=True)\n",
    "# define accuracy according to DBSCAN's respective value\n",
    "accuracy = 3\n",
    "# reduce the accuracy\n",
    "df = df.apply(lambda row: reduce_location_accuracy(row, accuracy), axis=1)\n",
    "# display dataframe\n",
    "df.head()"
   ]
  },
  {
   "cell_type": "markdown",
   "metadata": {},
   "source": [
    "Our heuristic detects events using the the reduced geolocated accuracy embedded in the <code>approxLocation</code> column. Thus, we group by day of tweet, hashtag and reduced location and try to detect events."
   ]
  },
  {
   "cell_type": "code",
   "execution_count": 17,
   "metadata": {
    "collapsed": false
   },
   "outputs": [],
   "source": [
    "# group by and count tweets per index\n",
    "df_grouped = df.groupby(by=['dayOfTweet', 'approxLocation', 'hashtag']).size()\n",
    "# give column meaningful name\n",
    "df_grouped = df_grouped.rename('numOfTweets')"
   ]
  },
  {
   "cell_type": "markdown",
   "metadata": {},
   "source": [
    "An event is considered to take place if at least 5 tweets are posted with the same hashtag, on the same day, from the same location. The rest records are filtered out."
   ]
  },
  {
   "cell_type": "code",
   "execution_count": 18,
   "metadata": {
    "collapsed": false
   },
   "outputs": [
    {
     "data": {
      "text/html": [
       "<div>\n",
       "<table border=\"1\" class=\"dataframe\">\n",
       "  <thead>\n",
       "    <tr style=\"text-align: right;\">\n",
       "      <th></th>\n",
       "      <th></th>\n",
       "      <th></th>\n",
       "      <th>numOfTweets</th>\n",
       "    </tr>\n",
       "    <tr>\n",
       "      <th>dayOfTweet</th>\n",
       "      <th>approxLocation</th>\n",
       "      <th>hashtag</th>\n",
       "      <th></th>\n",
       "    </tr>\n",
       "  </thead>\n",
       "  <tbody>\n",
       "    <tr>\n",
       "      <th>2011-01-26</th>\n",
       "      <th>(47.302, 8.553)</th>\n",
       "      <th>#gdi</th>\n",
       "      <td>14</td>\n",
       "    </tr>\n",
       "    <tr>\n",
       "      <th>2011-02-02</th>\n",
       "      <th>(46.220, 6.138)</th>\n",
       "      <th>#lift11</th>\n",
       "      <td>9</td>\n",
       "    </tr>\n",
       "    <tr>\n",
       "      <th>2011-02-03</th>\n",
       "      <th>(46.220, 6.138)</th>\n",
       "      <th>#lift11</th>\n",
       "      <td>5</td>\n",
       "    </tr>\n",
       "    <tr>\n",
       "      <th>2011-02-04</th>\n",
       "      <th>(46.220, 6.138)</th>\n",
       "      <th>#Lift11</th>\n",
       "      <td>6</td>\n",
       "    </tr>\n",
       "    <tr>\n",
       "      <th>2011-02-06</th>\n",
       "      <th>(45.943, 6.138)</th>\n",
       "      <th>#annecy2018</th>\n",
       "      <td>5</td>\n",
       "    </tr>\n",
       "  </tbody>\n",
       "</table>\n",
       "</div>"
      ],
      "text/plain": [
       "                                        numOfTweets\n",
       "dayOfTweet approxLocation  hashtag                 \n",
       "2011-01-26 (47.302, 8.553) #gdi                  14\n",
       "2011-02-02 (46.220, 6.138) #lift11                9\n",
       "2011-02-03 (46.220, 6.138) #lift11                5\n",
       "2011-02-04 (46.220, 6.138) #Lift11                6\n",
       "2011-02-06 (45.943, 6.138) #annecy2018            5"
      ]
     },
     "execution_count": 18,
     "metadata": {},
     "output_type": "execute_result"
    }
   ],
   "source": [
    "# filtering out rows with less than 5 tweets\n",
    "df_grouped = df_grouped[df_grouped >= min_tweets]\n",
    "# convert to frame (used later)\n",
    "df_grouped = df_grouped.to_frame()\n",
    "# display dataframe\n",
    "df_grouped.head()"
   ]
  },
  {
   "cell_type": "markdown",
   "metadata": {},
   "source": [
    "Now, we join the two aforementioned dataframes (<code>df</code> and <code>df_grouped</code>) and create a new one that contains the <code>numOfTweets</code> column. This column indicates how many are the tweets with the particular date, hashtag and approximate location of each row."
   ]
  },
  {
   "cell_type": "code",
   "execution_count": 19,
   "metadata": {
    "collapsed": false
   },
   "outputs": [
    {
     "data": {
      "text/html": [
       "<div>\n",
       "<table border=\"1\" class=\"dataframe\">\n",
       "  <thead>\n",
       "    <tr style=\"text-align: right;\">\n",
       "      <th></th>\n",
       "      <th>userId</th>\n",
       "      <th>dayOfTweet</th>\n",
       "      <th>approxLocation</th>\n",
       "      <th>hashtag</th>\n",
       "      <th>numOfTweets</th>\n",
       "    </tr>\n",
       "  </thead>\n",
       "  <tbody>\n",
       "    <tr>\n",
       "      <th>676</th>\n",
       "      <td>17007639</td>\n",
       "      <td>2011-01-26</td>\n",
       "      <td>(47.302, 8.553)</td>\n",
       "      <td>#gdi</td>\n",
       "      <td>14</td>\n",
       "    </tr>\n",
       "    <tr>\n",
       "      <th>957</th>\n",
       "      <td>626163</td>\n",
       "      <td>2011-02-02</td>\n",
       "      <td>(46.220, 6.138)</td>\n",
       "      <td>#lift11</td>\n",
       "      <td>9</td>\n",
       "    </tr>\n",
       "    <tr>\n",
       "      <th>976</th>\n",
       "      <td>6316162</td>\n",
       "      <td>2011-02-02</td>\n",
       "      <td>(46.220, 6.138)</td>\n",
       "      <td>#lift11</td>\n",
       "      <td>9</td>\n",
       "    </tr>\n",
       "    <tr>\n",
       "      <th>979</th>\n",
       "      <td>5040991</td>\n",
       "      <td>2011-02-02</td>\n",
       "      <td>(46.220, 6.138)</td>\n",
       "      <td>#lift11</td>\n",
       "      <td>9</td>\n",
       "    </tr>\n",
       "    <tr>\n",
       "      <th>981</th>\n",
       "      <td>634553</td>\n",
       "      <td>2011-02-02</td>\n",
       "      <td>(46.220, 6.138)</td>\n",
       "      <td>#lift11</td>\n",
       "      <td>9</td>\n",
       "    </tr>\n",
       "  </tbody>\n",
       "</table>\n",
       "</div>"
      ],
      "text/plain": [
       "       userId  dayOfTweet   approxLocation  hashtag  numOfTweets\n",
       "676  17007639  2011-01-26  (47.302, 8.553)     #gdi           14\n",
       "957    626163  2011-02-02  (46.220, 6.138)  #lift11            9\n",
       "976   6316162  2011-02-02  (46.220, 6.138)  #lift11            9\n",
       "979   5040991  2011-02-02  (46.220, 6.138)  #lift11            9\n",
       "981    634553  2011-02-02  (46.220, 6.138)  #lift11            9"
      ]
     },
     "execution_count": 19,
     "metadata": {},
     "output_type": "execute_result"
    }
   ],
   "source": [
    "# join the two dataframes\n",
    "joined_df = pd.merge(df, df_grouped, how='inner', left_on=['dayOfTweet', 'approxLocation', 'hashtag'], \n",
    "                     right_index=True)\n",
    "# keep necessary columns\n",
    "joined_df = joined_df[['userId', 'dayOfTweet', 'approxLocation', 'hashtag', 'numOfTweets']]\n",
    "# drop duplicate rows\n",
    "joined_df.drop_duplicates(inplace=True)\n",
    "# display dataframe\n",
    "joined_df.head()"
   ]
  },
  {
   "cell_type": "markdown",
   "metadata": {},
   "source": [
    "From now on, we follow exactly the same procedure as in the [DBSCAN](#dbscan) section. More concretely, we are going to find the number of users per event, flag it as a potential spam event and finally estimate the standard deviation of the timestamps of each event."
   ]
  },
  {
   "cell_type": "code",
   "execution_count": 20,
   "metadata": {
    "collapsed": false
   },
   "outputs": [
    {
     "data": {
      "text/html": [
       "<div>\n",
       "<table border=\"1\" class=\"dataframe\">\n",
       "  <thead>\n",
       "    <tr style=\"text-align: right;\">\n",
       "      <th></th>\n",
       "      <th>userId</th>\n",
       "      <th>dayOfTweet</th>\n",
       "      <th>approxLocation</th>\n",
       "      <th>hashtag</th>\n",
       "      <th>numOfTweets</th>\n",
       "      <th>spamEvent</th>\n",
       "      <th>usersPerHashtag</th>\n",
       "    </tr>\n",
       "  </thead>\n",
       "  <tbody>\n",
       "    <tr>\n",
       "      <th>676</th>\n",
       "      <td>17007639</td>\n",
       "      <td>2011-01-26</td>\n",
       "      <td>(47.302, 8.553)</td>\n",
       "      <td>#gdi</td>\n",
       "      <td>14</td>\n",
       "      <td>True</td>\n",
       "      <td>1</td>\n",
       "    </tr>\n",
       "    <tr>\n",
       "      <th>957</th>\n",
       "      <td>626163</td>\n",
       "      <td>2011-02-02</td>\n",
       "      <td>(46.220, 6.138)</td>\n",
       "      <td>#lift11</td>\n",
       "      <td>9</td>\n",
       "      <td>False</td>\n",
       "      <td>6</td>\n",
       "    </tr>\n",
       "    <tr>\n",
       "      <th>976</th>\n",
       "      <td>6316162</td>\n",
       "      <td>2011-02-02</td>\n",
       "      <td>(46.220, 6.138)</td>\n",
       "      <td>#lift11</td>\n",
       "      <td>9</td>\n",
       "      <td>False</td>\n",
       "      <td>6</td>\n",
       "    </tr>\n",
       "    <tr>\n",
       "      <th>979</th>\n",
       "      <td>5040991</td>\n",
       "      <td>2011-02-02</td>\n",
       "      <td>(46.220, 6.138)</td>\n",
       "      <td>#lift11</td>\n",
       "      <td>9</td>\n",
       "      <td>False</td>\n",
       "      <td>6</td>\n",
       "    </tr>\n",
       "    <tr>\n",
       "      <th>981</th>\n",
       "      <td>634553</td>\n",
       "      <td>2011-02-02</td>\n",
       "      <td>(46.220, 6.138)</td>\n",
       "      <td>#lift11</td>\n",
       "      <td>9</td>\n",
       "      <td>False</td>\n",
       "      <td>6</td>\n",
       "    </tr>\n",
       "  </tbody>\n",
       "</table>\n",
       "</div>"
      ],
      "text/plain": [
       "       userId  dayOfTweet   approxLocation  hashtag  numOfTweets spamEvent  \\\n",
       "676  17007639  2011-01-26  (47.302, 8.553)     #gdi           14      True   \n",
       "957    626163  2011-02-02  (46.220, 6.138)  #lift11            9     False   \n",
       "976   6316162  2011-02-02  (46.220, 6.138)  #lift11            9     False   \n",
       "979   5040991  2011-02-02  (46.220, 6.138)  #lift11            9     False   \n",
       "981    634553  2011-02-02  (46.220, 6.138)  #lift11            9     False   \n",
       "\n",
       "     usersPerHashtag  \n",
       "676                1  \n",
       "957                6  \n",
       "976                6  \n",
       "979                6  \n",
       "981                6  "
      ]
     },
     "execution_count": 20,
     "metadata": {},
     "output_type": "execute_result"
    }
   ],
   "source": [
    "# find users per event\n",
    "users_per_hashtag = joined_df.groupby(by=['hashtag', 'dayOfTweet', 'approxLocation']).size()\n",
    "# detect potential spam events\n",
    "joined_df = joined_df.apply(lambda row: spam_events(row, users_per_hashtag, spammer_threshold), axis=1)\n",
    "# display dataframe\n",
    "joined_df.head()"
   ]
  },
  {
   "cell_type": "markdown",
   "metadata": {},
   "source": [
    "Once the potential spam events and the user per event are determined, we continue by determining the standard deviation of the timestamps for each event."
   ]
  },
  {
   "cell_type": "code",
   "execution_count": 21,
   "metadata": {
    "collapsed": false
   },
   "outputs": [
    {
     "data": {
      "text/html": [
       "<div>\n",
       "<table border=\"1\" class=\"dataframe\">\n",
       "  <thead>\n",
       "    <tr style=\"text-align: right;\">\n",
       "      <th></th>\n",
       "      <th>dayOfTweet</th>\n",
       "      <th>approxLocation</th>\n",
       "      <th>hashtag</th>\n",
       "      <th>numOfTweets</th>\n",
       "      <th>spamEvent</th>\n",
       "      <th>usersPerHashtag</th>\n",
       "      <th>std</th>\n",
       "    </tr>\n",
       "  </thead>\n",
       "  <tbody>\n",
       "    <tr>\n",
       "      <th>11924</th>\n",
       "      <td>2011-10-04</td>\n",
       "      <td>(47.416, 8.561)</td>\n",
       "      <td>#tedxzh</td>\n",
       "      <td>30</td>\n",
       "      <td>False</td>\n",
       "      <td>9</td>\n",
       "      <td>146.395229</td>\n",
       "    </tr>\n",
       "    <tr>\n",
       "      <th>957</th>\n",
       "      <td>2011-02-02</td>\n",
       "      <td>(46.220, 6.138)</td>\n",
       "      <td>#lift11</td>\n",
       "      <td>9</td>\n",
       "      <td>False</td>\n",
       "      <td>6</td>\n",
       "      <td>192.556915</td>\n",
       "    </tr>\n",
       "    <tr>\n",
       "      <th>13289</th>\n",
       "      <td>2011-10-29</td>\n",
       "      <td>(46.005, 8.956)</td>\n",
       "      <td>#uxcon11</td>\n",
       "      <td>13</td>\n",
       "      <td>False</td>\n",
       "      <td>5</td>\n",
       "      <td>189.831813</td>\n",
       "    </tr>\n",
       "    <tr>\n",
       "      <th>10316</th>\n",
       "      <td>2011-09-09</td>\n",
       "      <td>(47.414, 8.549)</td>\n",
       "      <td>#fec11</td>\n",
       "      <td>8</td>\n",
       "      <td>False</td>\n",
       "      <td>4</td>\n",
       "      <td>134.676832</td>\n",
       "    </tr>\n",
       "    <tr>\n",
       "      <th>2704</th>\n",
       "      <td>2011-03-25</td>\n",
       "      <td>(47.375, 8.539)</td>\n",
       "      <td>#iPad2</td>\n",
       "      <td>16</td>\n",
       "      <td>False</td>\n",
       "      <td>4</td>\n",
       "      <td>68.361104</td>\n",
       "    </tr>\n",
       "  </tbody>\n",
       "</table>\n",
       "</div>"
      ],
      "text/plain": [
       "       dayOfTweet   approxLocation   hashtag  numOfTweets spamEvent  \\\n",
       "11924  2011-10-04  (47.416, 8.561)   #tedxzh           30     False   \n",
       "957    2011-02-02  (46.220, 6.138)   #lift11            9     False   \n",
       "13289  2011-10-29  (46.005, 8.956)  #uxcon11           13     False   \n",
       "10316  2011-09-09  (47.414, 8.549)    #fec11            8     False   \n",
       "2704   2011-03-25  (47.375, 8.539)    #iPad2           16     False   \n",
       "\n",
       "       usersPerHashtag         std  \n",
       "11924                9  146.395229  \n",
       "957                  6  192.556915  \n",
       "13289                5  189.831813  \n",
       "10316                4  134.676832  \n",
       "2704                 4   68.361104  "
      ]
     },
     "execution_count": 21,
     "metadata": {},
     "output_type": "execute_result"
    }
   ],
   "source": [
    "# estimate std for each event\n",
    "std_dict = std_of_events(df)\n",
    "# fill std value to the dataframe\n",
    "event_detection = joined_df.apply(lambda row: fill_std(row, std_dict), axis=1)\n",
    "# sort dataframe\n",
    "event_detection.sort(columns = ['usersPerHashtag', 'std'], inplace=True, axis=0, ascending=False)\n",
    "# drop unnecessary columns\n",
    "event_detection.drop('userId', axis=1, inplace=True)\n",
    "# drop duplicates\n",
    "event_detection.drop_duplicates(subset=['dayOfTweet', 'approxLocation', 'hashtag'], inplace=True)\n",
    "# save dataframe\n",
    "file_name = '../../data/detected_events_heuristic_' + year + '.csv'\n",
    "event_detection.to_csv(file_name, sep='|')\n",
    "# display dataframe\n",
    "event_detection.head()"
   ]
  },
  {
   "cell_type": "markdown",
   "metadata": {},
   "source": [
    "<a name=\"non_spam_heuristic\"></a>\n",
    "Here, we create a list of all the events detected using the heuristic, and print those that are not spam events. The respective list of detected non spam events using DBSCAN is given [here](#non_spam_dbscan)."
   ]
  },
  {
   "cell_type": "code",
   "execution_count": 22,
   "metadata": {
    "collapsed": false
   },
   "outputs": [
    {
     "name": "stdout",
     "output_type": "stream",
     "text": [
      "Date:  2011-10-04 \t Hashtag:  #tedxzh\n",
      "Date:  2011-02-02 \t Hashtag:  #lift11\n",
      "Date:  2011-10-29 \t Hashtag:  #uxcon11\n",
      "Date:  2011-09-09 \t Hashtag:  #fec11\n",
      "Date:  2011-03-25 \t Hashtag:  #iPad2\n",
      "Date:  2011-02-04 \t Hashtag:  #Lift11\n",
      "Date:  2011-02-08 \t Hashtag:  #pokeRT\n",
      "Date:  2011-03-31 \t Hashtag:  #bosw\n",
      "Date:  2011-02-03 \t Hashtag:  #lift11\n",
      "Date:  2011-03-24 \t Hashtag:  #smmk11\n",
      "Date:  2011-10-04 \t Hashtag:  #tedxzh\n",
      "Date:  2011-03-20 \t Hashtag:  #swlau\n",
      "Date:  2011-11-25 \t Hashtag:  #obstech\n",
      "Date:  2011-03-09 \t Hashtag:  #g_ch\n",
      "Date:  2011-03-20 \t Hashtag:  #swlau\n",
      "Date:  2011-03-22 \t Hashtag:  #DonNorman\n",
      "Date:  2011-06-01 \t Hashtag:  #smgzh\n",
      "Date:  2011-06-21 \t Hashtag:  #pokeRT\n"
     ]
    }
   ],
   "source": [
    "# list of all events\n",
    "list_of_events_heuristic = []\n",
    "# list of non spam events for heuristic\n",
    "heuristic_non_spam = []\n",
    "for event in event_detection.iterrows():\n",
    "    spam = event[1][4]\n",
    "    date = event[1][0]\n",
    "    hashtag = event[1][2]\n",
    "    list_of_events_heuristic.append((date, hashtag))\n",
    "    # print those that are not spam\n",
    "    if not spam:\n",
    "        # append to list and print\n",
    "        heuristic_non_spam.append((date, hashtag))\n",
    "        print('Date: ', date, '\\t', 'Hashtag: ', hashtag)"
   ]
  },
  {
   "cell_type": "markdown",
   "metadata": {},
   "source": [
    "Finally, we provide a visualization of the non spam events on the swiss map."
   ]
  },
  {
   "cell_type": "code",
   "execution_count": 23,
   "metadata": {
    "collapsed": false
   },
   "outputs": [
    {
     "data": {
      "text/html": [
       "<div style=\"width:100%;\"><div style=\"position:relative;width:100%;height:0;padding-bottom:60%;\"><iframe src=\"data:text/html;base64,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\" style=\"position:absolute;width:100%;height:100%;left:0;top:0;\"></iframe></div></div>"
      ],
      "text/plain": [
       "<folium.folium.Map at 0x7f8d02a66f60>"
      ]
     },
     "execution_count": 23,
     "metadata": {},
     "output_type": "execute_result"
    }
   ],
   "source": [
    "# coordinates of the events\n",
    "coord = event_detection['approxLocation'].values.tolist()\n",
    "# visualize non spam events\n",
    "event_map = create_event_map(year, coord, event_detection['hashtag'].tolist(), \n",
    "                             event_detection['spamEvent'].tolist(), event_detection['numOfTweets'].tolist())\n",
    "event_map"
   ]
  },
  {
   "cell_type": "markdown",
   "metadata": {},
   "source": [
    "### Comparing the two Methods\n",
    "\n",
    "Here, we provide a comparison of the two methods, given their results. The analysis is done using:\n",
    "* the full list of events\n",
    "* the reduced list of events after filtering the non spam events"
   ]
  },
  {
   "cell_type": "code",
   "execution_count": 24,
   "metadata": {
    "collapsed": false
   },
   "outputs": [
    {
     "name": "stdout",
     "output_type": "stream",
     "text": [
      "Number of events detected with DBSCAN =  54\n",
      "Number of events detected with heuristic =  90\n",
      "---------------------------------------------\n",
      "The two methods found 49 events in common\n",
      "Common events:\n",
      "('2011-08-02', '#Android')\n",
      "('2011-10-02', '#letzigrund')\n",
      "('2011-06-16', '#11ICML')\n",
      "('2011-08-12', '#fb')\n",
      "('2011-03-09', '#g_ch')\n",
      "('2011-07-02', '#oasg')\n",
      "('2011-08-12', '#18')\n",
      "('2011-10-02', '#fcz')\n",
      "('2011-03-20', '#swlau')\n",
      "('2011-05-27', '#Heimfahrt')\n",
      "('2011-11-17', '#IGEP')\n",
      "('2011-01-26', '#gdi')\n",
      "('2011-07-12', '#moonandstars')\n",
      "('2011-11-25', '#obstech')\n",
      "('2011-03-31', '#bosw')\n",
      "('2011-11-18', '#pir@tage')\n",
      "('2011-05-27', '#Velo')\n",
      "('2011-06-15', '#11-ICML')\n",
      "('2011-09-24', '#missCH')\n",
      "('2011-10-23', '#ew11')\n",
      "('2011-06-21', '#pokeRT')\n",
      "('2011-07-22', '#awesomezh1')\n",
      "('2011-10-29', '#uxcon11')\n",
      "('2011-06-18', '#zvilla')\n",
      "('2011-03-31', '#som11')\n",
      "('2011-05-07', '#BattesimoPupo')\n",
      "('2011-06-01', '#smgzh')\n",
      "('2011-08-25', '#UTMB2011')\n",
      "('2011-10-04', '#tedxzh')\n",
      "('2011-11-18', '#iae')\n",
      "('2011-08-24', '#emex11')\n",
      "('2011-02-03', '#lift11')\n",
      "('2011-02-08', '#pokeRT')\n",
      "('2011-12-01', '#imkforum')\n",
      "('2011-03-27', '#fb')\n",
      "('2011-02-04', '#Lift11')\n",
      "('2011-09-09', '#fec11')\n",
      "('2011-05-14', '#esc')\n",
      "('2011-07-06', '#dtzh')\n",
      "('2011-03-24', '#smmk11')\n",
      "('2011-09-10', '#Denkfest')\n",
      "('2011-08-18', '#iliasconf')\n",
      "('2011-03-25', '#applestoreZH')\n",
      "('2011-02-02', '#lift11')\n",
      "('2011-08-24', '#XF11')\n",
      "('2011-06-16', '#11-ICML')\n",
      "('2011-10-02', '#gc')\n",
      "('2011-06-24', '#odch11')\n",
      "('2011-03-25', '#iPad2')\n",
      "---------------------------------------------\n",
      "Found only by DBSCAN:\n",
      "('2011-03-30', '#som11')\n",
      "('2011-07-03', '#oasg')\n",
      "('2011-09-07', '#smgzh')\n",
      "('2011-10-30', '#fcz')\n",
      "('2011-11-29', '#FilmCommissionVdA')\n",
      "---------------------------------------------\n",
      "Found only by heuristic:\n",
      "('2011-03-22', '#DonNorman')\n",
      "('2011-03-13', '#Tamacho')\n",
      "('2011-06-18', '#zVilla')\n",
      "('2011-07-16', '#OSX')\n",
      "('2011-05-02', '#chtd')\n",
      "('2011-06-17', '#11-ICML')\n",
      "('2011-06-17', '#11ICML')\n",
      "('2011-11-05', '#tedxcomo')\n",
      "('2011-11-17', '#iae')\n",
      "('2011-03-02', '#fcz')\n",
      "('2011-06-11', '#SCBrühl')\n",
      "('2011-03-20', '#dgst')\n",
      "('2011-12-02', '#workncoffee')\n",
      "('2011-09-17', '#supertalent')\n",
      "('2011-11-16', '#iae')\n",
      "('2011-11-16', '#annecy')\n",
      "('2011-03-16', '#vögele')\n",
      "('2011-10-05', '#titlis')\n",
      "('2011-12-11', '#cssa')\n",
      "('2011-11-16', '#73')\n",
      "('2011-11-10', '#OJA')\n",
      "('2011-03-16', '#Maeder')\n",
      "('2011-11-27', '#TEDxRC2')\n",
      "('2011-11-07', '#marketagent')\n",
      "('2011-11-30', '#MDW11')\n",
      "('2011-03-31', '#podium')\n",
      "('2011-12-07', '#devdurable')\n",
      "('2011-12-06', '#dataquovadis')\n",
      "('2011-12-07', '#iae')\n",
      "('2011-12-07', '#icare')\n",
      "('2011-12-07', '#conference')\n",
      "('2011-09-29', '#InnoLab')\n",
      "('2011-11-29', '#Chiambretti:')\n",
      "('2011-11-29', '#UniVdA')\n",
      "('2011-02-06', '#annecy2018')\n",
      "('2011-12-23', '#Rollandin')\n",
      "('2011-12-20', '#Rollandin:')\n",
      "('2011-05-22', '#20peopleilove')\n",
      "('2011-12-15', '#intouchables')\n",
      "('2011-11-16', '#REACH')\n",
      "('2011-10-11', '#TwoThingsThatDontMix')\n"
     ]
    }
   ],
   "source": [
    "analyse_performance(list_of_events_dbscan, list_of_events_heuristic)"
   ]
  },
  {
   "cell_type": "markdown",
   "metadata": {},
   "source": [
    "Now, we do the same analysis by using only events that are flagged as non spam."
   ]
  },
  {
   "cell_type": "code",
   "execution_count": 25,
   "metadata": {
    "collapsed": false,
    "scrolled": true
   },
   "outputs": [
    {
     "name": "stdout",
     "output_type": "stream",
     "text": [
      "Number of events detected with DBSCAN =  30\n",
      "Number of events detected with heuristic =  16\n",
      "---------------------------------------------\n",
      "The two methods found 15 events in common\n",
      "Common events:\n",
      "('2011-09-09', '#fec11')\n",
      "('2011-02-04', '#Lift11')\n",
      "('2011-03-20', '#swlau')\n",
      "('2011-06-21', '#pokeRT')\n",
      "('2011-10-29', '#uxcon11')\n",
      "('2011-03-24', '#smmk11')\n",
      "('2011-06-01', '#smgzh')\n",
      "('2011-11-25', '#obstech')\n",
      "('2011-03-31', '#bosw')\n",
      "('2011-02-08', '#pokeRT')\n",
      "('2011-03-09', '#g_ch')\n",
      "('2011-10-04', '#tedxzh')\n",
      "('2011-02-02', '#lift11')\n",
      "('2011-02-03', '#lift11')\n",
      "('2011-03-25', '#iPad2')\n",
      "---------------------------------------------\n",
      "Found only by DBSCAN:\n",
      "('2011-10-23', '#ew11')\n",
      "('2011-05-14', '#esc')\n",
      "('2011-09-07', '#smgzh')\n",
      "('2011-08-12', '#fb')\n",
      "('2011-03-27', '#fb')\n",
      "('2011-06-24', '#odch11')\n",
      "('2011-03-25', '#applestoreZH')\n",
      "('2011-03-31', '#som11')\n",
      "('2011-08-02', '#Android')\n",
      "('2011-03-30', '#som11')\n",
      "('2011-08-24', '#emex11')\n",
      "('2011-01-26', '#gdi')\n",
      "('2011-10-30', '#fcz')\n",
      "('2011-10-02', '#fcz')\n",
      "('2011-09-24', '#missCH')\n",
      "---------------------------------------------\n",
      "Found only by heuristic:\n",
      "('2011-03-22', '#DonNorman')\n"
     ]
    }
   ],
   "source": [
    "analyse_performance(dbscan_non_spam, heuristic_non_spam)"
   ]
  },
  {
   "cell_type": "markdown",
   "metadata": {},
   "source": [
    "### Commenting on the Results\n",
    "\n",
    "In general, we see that the heuristic approach captures more events than the DBSCAN. However, in the case of detecting non spam events DBSCAN does a better job and detects more events. This is done for the following reasons.\n",
    "DBSCAN searches in a circular area around each point to detect neighbors and form clusters. However, the heuristic uses squared areas around each point. Therefore, the area covered by the heuristic is bigger and may include more points, and thus more probable events. Hence, in the case where no spam filtering is used, the heuristic is able of capturing more events which are flagged as spam events since only one user tweets about them."
   ]
  }
 ],
 "metadata": {
  "anaconda-cloud": {},
  "kernelspec": {
   "display_name": "Python [Root]",
   "language": "python",
   "name": "Python [Root]"
  },
  "language_info": {
   "codemirror_mode": {
    "name": "ipython",
    "version": 3
   },
   "file_extension": ".py",
   "mimetype": "text/x-python",
   "name": "python",
   "nbconvert_exporter": "python",
   "pygments_lexer": "ipython3",
   "version": "3.5.2"
  }
 },
 "nbformat": 4,
 "nbformat_minor": 0
}
